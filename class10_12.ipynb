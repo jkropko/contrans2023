{
 "cells": [
  {
   "cell_type": "markdown",
   "id": "4b7365ac-7fd2-45b1-9e9c-a79b0fd25c91",
   "metadata": {},
   "source": [
    "You will need the following packages and code. Change the 'opensecretsapi' key to whatever you've named your keys in your .env file."
   ]
  },
  {
   "cell_type": "code",
   "execution_count": 4,
   "id": "712b4504-ac52-4a68-bffc-7967f9fec998",
   "metadata": {},
   "outputs": [],
   "source": [
    "import numpy as np\n",
    "import pandas as pd\n",
    "import requests\n",
    "import json\n",
    "import os\n",
    "opensecretsapi = os.getenv('opensecretsapi')\n",
    "r = requests.get('https://httpbin.org/user-agent')\n",
    "useragent = json.loads(r.text)['user-agent']"
   ]
  },
  {
   "cell_type": "markdown",
   "id": "0563c1d4-9e25-4823-91de-7e6e1fc12333",
   "metadata": {},
   "source": [
    "# Class activity: Oct 12, 2023\n",
    "\n",
    "You might not get through all 3 problems. But get through as much as you can. You don't have to do the remainder for homework or anything like that.\n",
    "\n",
    "## Problem 1:\n",
    "Get into pairs.\n",
    "We are building an app that will use data about members of Congress from the following sources:\n",
    "\n",
    " * Voteview:\n",
    "   * Votes: https://voteview.com/articles/data_help_votes\n",
    "   * Ideology: https://voteview.com/articles/data_help_members\n",
    " * Open Secrets:\n",
    "   * Contributions: https://www.opensecrets.org/api/?method=candContrib&output=doc\n",
    "   * Candidate info: https://www.opensecrets.org/api/?method=getLegislators&output=doc\n",
    " * Congress API:\n",
    "   * Member info: https://api.congress.gov/#/member/member_list\n",
    "   * Bill info (specifically, who sponsored the bill): https://api.congress.gov/#/bill/bill_details\n",
    "\n",
    "For each of the above datasets, identify (1) what features in the data identify a member of Congress, and (2) how can we use these IDs to match data about the same member of Congress across all 6 datasets? "
   ]
  },
  {
   "cell_type": "markdown",
   "id": "d66a4d65-3f37-4689-b03b-d4163e4986ca",
   "metadata": {},
   "source": [
    "## Problem 2:\n",
    "With a new partner, collect all the data from the getLegislators OpenSecrets API. The annoying thing is that you can only get the data for one state at a time. Here is a list of the states: "
   ]
  },
  {
   "cell_type": "code",
   "execution_count": 44,
   "id": "3588cc30-e5a6-4349-bfc3-d495fb7ed2de",
   "metadata": {},
   "outputs": [],
   "source": [
    "states = ['AK', 'AL', 'AR', 'AZ', 'CA', 'CO', 'CT', 'DE', 'FL', 'GA', 'HI', 'IA', 'ID', 'IL', 'IN', 'KS', 'KY', 'LA', 'MA', 'MD', 'ME', 'MI', 'MN', 'MO', 'MS', 'MT', 'NC', 'ND', 'NE', 'NH', 'NJ', 'NM', 'NV', 'NY', 'OH', 'OK', 'OR', 'PA', 'RI', 'SC', 'SD', 'TN', 'TX', 'UT', 'VA', 'VT', 'WA', 'WI', 'WV', 'WY']"
   ]
  },
  {
   "cell_type": "markdown",
   "id": "de673997-36ac-4ba2-be2f-f6abf1bdefd0",
   "metadata": {},
   "source": [
    "Write a for loop over the states. For each state, pull all the data from getLegislators in JSON format. Convert the JSON data to a pandas dataframe. Then append all 50 states' data together with the pd.concat() method: https://pandas.pydata.org/docs/reference/api/pandas.concat.html"
   ]
  },
  {
   "cell_type": "markdown",
   "id": "07d0f065-6e7a-4adf-92da-26cad2f8d4f3",
   "metadata": {},
   "source": [
    "## Problem 3:\n",
    "Pair up with a new partner.\n",
    "Once you've compiled all the legislators, you can find the ID for a specific legislator. For example, here's the data for Bob Good."
   ]
  },
  {
   "cell_type": "code",
   "execution_count": 55,
   "id": "db032b48-bdd9-4a38-9973-77ed3cdc1e85",
   "metadata": {},
   "outputs": [
    {
     "data": {
      "text/plain": [
       "4    N00045557\n",
       "Name: @attributes.cid, dtype: object"
      ]
     },
     "execution_count": 55,
     "metadata": {},
     "output_type": "execute_result"
    }
   ],
   "source": [
    "cid = legislators.query(\"`@attributes.lastname`== 'Good'\")['@attributes.cid']\n",
    "cid"
   ]
  },
  {
   "cell_type": "markdown",
   "id": "39ef1e39-d0af-417b-8072-a7c76aad3a85",
   "metadata": {},
   "source": [
    "Use Bob Good's CID to obtain the top contributors to Bob Good's campaign using the candContrib API."
   ]
  }
 ],
 "metadata": {
  "kernelspec": {
   "display_name": "Python 3 (ipykernel)",
   "language": "python",
   "name": "python3"
  },
  "language_info": {
   "codemirror_mode": {
    "name": "ipython",
    "version": 3
   },
   "file_extension": ".py",
   "mimetype": "text/x-python",
   "name": "python",
   "nbconvert_exporter": "python",
   "pygments_lexer": "ipython3",
   "version": "3.11.4"
  }
 },
 "nbformat": 4,
 "nbformat_minor": 5
}
