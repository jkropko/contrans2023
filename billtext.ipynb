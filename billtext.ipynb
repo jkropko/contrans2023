{
 "cells": [
  {
   "cell_type": "code",
   "execution_count": 11,
   "id": "7ed1439a-c847-4b9d-bdb4-7b369c57c43b",
   "metadata": {},
   "outputs": [],
   "source": [
    "import numpy as np\n",
    "import pandas as pd\n",
    "import os\n",
    "from bs4 import BeautifulSoup\n",
    "import json\n",
    "import xmltodict"
   ]
  },
  {
   "cell_type": "code",
   "execution_count": 15,
   "id": "9a5e9639-fbe8-4991-b473-7849e5565760",
   "metadata": {},
   "outputs": [],
   "source": [
    "def makedictionary(path):\n",
    "    f = open(path, 'r')\n",
    "    mysoup = BeautifulSoup(f.read(), features = 'xml')\n",
    "    o = xmltodict.parse(str(mysoup.bill))\n",
    "    o = json.dumps(o) \n",
    "    myjson = json.loads(o)\n",
    "    return myjson['bill']"
   ]
  },
  {
   "cell_type": "code",
   "execution_count": null,
   "id": "d12dd5d3-4f08-4e34-9b4a-6d524ed3bca2",
   "metadata": {},
   "outputs": [],
   "source": []
  }
 ],
 "metadata": {
  "kernelspec": {
   "display_name": "Python 3 (ipykernel)",
   "language": "python",
   "name": "python3"
  },
  "language_info": {
   "codemirror_mode": {
    "name": "ipython",
    "version": 3
   },
   "file_extension": ".py",
   "mimetype": "text/x-python",
   "name": "python",
   "nbconvert_exporter": "python",
   "pygments_lexer": "ipython3",
   "version": "3.11.4"
  }
 },
 "nbformat": 4,
 "nbformat_minor": 5
}
