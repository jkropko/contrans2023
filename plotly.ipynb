{
 "cells": [
  {
   "cell_type": "code",
   "execution_count": 8,
   "id": "354111f3-0798-475b-8b31-3ea21b41eed3",
   "metadata": {},
   "outputs": [],
   "source": [
    "import numpy as np\n",
    "import pandas as pd\n",
    "import dash\n",
    "from dash import dcc\n",
    "from dash import html\n",
    "from dash.dependencies import Input, Output\n",
    "from sqlalchemy import create_engine\n",
    "import psycopg2\n",
    "import os\n",
    "import plotly.figure_factory as ff\n",
    "import plotly.express as px\n",
    "POSTGRES_PASSWORD = os.getenv('POSTGRES_PASSWORD')"
   ]
  },
  {
   "cell_type": "code",
   "execution_count": 2,
   "id": "b9475dd0-69d2-475a-af52-66573ec0ecb0",
   "metadata": {},
   "outputs": [],
   "source": [
    "engine = create_engine('postgresql+psycopg2://{user}:{password}@{host}:{port}/{db}'.format(\n",
    "    user = 'postgres',\n",
    "    password = POSTGRES_PASSWORD,\n",
    "    host = 'postgres',\n",
    "    port = 5432,\n",
    "    db = 'congress'\n",
    "))"
   ]
  },
  {
   "cell_type": "code",
   "execution_count": 5,
   "id": "4fc7323b-03d9-444f-8d24-a4f4bf5af8d2",
   "metadata": {},
   "outputs": [],
   "source": [
    "myquery = '''\n",
    "SELECT directordername, bioguideid\n",
    "FROM members\n",
    "WHERE lastname='Good'\n",
    "'''\n",
    "members = pd.read_sql_query(myquery, con=engine)"
   ]
  },
  {
   "cell_type": "code",
   "execution_count": 6,
   "id": "3864743d-74ff-4b80-83b6-0547a96d415b",
   "metadata": {},
   "outputs": [
    {
     "data": {
      "text/html": [
       "<div>\n",
       "<style scoped>\n",
       "    .dataframe tbody tr th:only-of-type {\n",
       "        vertical-align: middle;\n",
       "    }\n",
       "\n",
       "    .dataframe tbody tr th {\n",
       "        vertical-align: top;\n",
       "    }\n",
       "\n",
       "    .dataframe thead th {\n",
       "        text-align: right;\n",
       "    }\n",
       "</style>\n",
       "<table border=\"1\" class=\"dataframe\">\n",
       "  <thead>\n",
       "    <tr style=\"text-align: right;\">\n",
       "      <th></th>\n",
       "      <th>directordername</th>\n",
       "      <th>bioguideid</th>\n",
       "    </tr>\n",
       "  </thead>\n",
       "  <tbody>\n",
       "    <tr>\n",
       "      <th>0</th>\n",
       "      <td>Bob Good</td>\n",
       "      <td>G000595</td>\n",
       "    </tr>\n",
       "  </tbody>\n",
       "</table>\n",
       "</div>"
      ],
      "text/plain": [
       "  directordername bioguideid\n",
       "0        Bob Good    G000595"
      ]
     },
     "execution_count": 6,
     "metadata": {},
     "output_type": "execute_result"
    }
   ],
   "source": [
    "members"
   ]
  },
  {
   "cell_type": "code",
   "execution_count": 76,
   "id": "0b5a834b-3fd8-4f2e-9ef3-3547a30be024",
   "metadata": {},
   "outputs": [],
   "source": [
    "userbioguideid = 'G000595'\n",
    "\n",
    "myquery = '''\n",
    "SELECT *\n",
    "FROM members\n",
    "'''\n",
    "ideo = pd.read_sql_query(myquery, con=engine)\n",
    "ideo['senate'] = ideo['district'].isnull()\n",
    "replace_map = {'R': 'Republican',\n",
    "              'D': 'Democrat',\n",
    "              'I': 'Independent'}\n",
    "ideo['party'] = ideo['party'].replace(replace_map)\n",
    "ideo['name'] = [n + ' (' + x + '-' + str(int(y)) + ')' if not z else n + ' (' + x + ')' for n, x, y, z in zip(ideo['directordername'], ideo['state'], ideo['district'], ideo['senate'])]\n",
    "ideo2 = ideo.query(f\"bioguideid == '{userbioguideid}'\")"
   ]
  },
  {
   "cell_type": "code",
   "execution_count": 77,
   "id": "b62792c3-1d32-48a9-a8b5-1280c97fda01",
   "metadata": {},
   "outputs": [
    {
     "data": {
      "text/html": [
       "<div>\n",
       "<style scoped>\n",
       "    .dataframe tbody tr th:only-of-type {\n",
       "        vertical-align: middle;\n",
       "    }\n",
       "\n",
       "    .dataframe tbody tr th {\n",
       "        vertical-align: top;\n",
       "    }\n",
       "\n",
       "    .dataframe thead th {\n",
       "        text-align: right;\n",
       "    }\n",
       "</style>\n",
       "<table border=\"1\" class=\"dataframe\">\n",
       "  <thead>\n",
       "    <tr style=\"text-align: right;\">\n",
       "      <th></th>\n",
       "      <th>bioguideid</th>\n",
       "      <th>birthyear</th>\n",
       "      <th>currentmember</th>\n",
       "      <th>directordername</th>\n",
       "      <th>firstname</th>\n",
       "      <th>honorificname</th>\n",
       "      <th>invertedordername</th>\n",
       "      <th>lastname</th>\n",
       "      <th>officialwebsiteurl</th>\n",
       "      <th>state</th>\n",
       "      <th>...</th>\n",
       "      <th>middlename</th>\n",
       "      <th>suffixname</th>\n",
       "      <th>nickname</th>\n",
       "      <th>district</th>\n",
       "      <th>cid</th>\n",
       "      <th>party</th>\n",
       "      <th>icpsr</th>\n",
       "      <th>ideology</th>\n",
       "      <th>senate</th>\n",
       "      <th>name</th>\n",
       "    </tr>\n",
       "  </thead>\n",
       "  <tbody>\n",
       "    <tr>\n",
       "      <th>432</th>\n",
       "      <td>G000595</td>\n",
       "      <td>1965</td>\n",
       "      <td>True</td>\n",
       "      <td>Bob Good</td>\n",
       "      <td>Bob</td>\n",
       "      <td>Mr.</td>\n",
       "      <td>Good, Bob</td>\n",
       "      <td>Good</td>\n",
       "      <td>https://good.house.gov</td>\n",
       "      <td>Virginia</td>\n",
       "      <td>...</td>\n",
       "      <td>None</td>\n",
       "      <td>None</td>\n",
       "      <td>None</td>\n",
       "      <td>5.0</td>\n",
       "      <td>N00045557</td>\n",
       "      <td>Republican</td>\n",
       "      <td>22120</td>\n",
       "      <td>0.8</td>\n",
       "      <td>False</td>\n",
       "      <td>Bob Good (Virginia-5)</td>\n",
       "    </tr>\n",
       "  </tbody>\n",
       "</table>\n",
       "<p>1 rows × 32 columns</p>\n",
       "</div>"
      ],
      "text/plain": [
       "    bioguideid  birthyear  currentmember directordername firstname  \\\n",
       "432    G000595       1965           True        Bob Good       Bob   \n",
       "\n",
       "    honorificname invertedordername lastname      officialwebsiteurl  \\\n",
       "432           Mr.         Good, Bob     Good  https://good.house.gov   \n",
       "\n",
       "        state  ... middlename suffixname nickname district        cid  \\\n",
       "432  Virginia  ...       None       None     None      5.0  N00045557   \n",
       "\n",
       "          party  icpsr ideology senate                   name  \n",
       "432  Republican  22120      0.8  False  Bob Good (Virginia-5)  \n",
       "\n",
       "[1 rows x 32 columns]"
      ]
     },
     "execution_count": 77,
     "metadata": {},
     "output_type": "execute_result"
    }
   ],
   "source": [
    "ideo2"
   ]
  },
  {
   "cell_type": "code",
   "execution_count": 94,
   "id": "e7103717-807e-4cd9-9318-6165cf48549b",
   "metadata": {},
   "outputs": [
    {
     "data": {
      "application/vnd.plotly.v1+json": {
       "config": {
        "plotlyServerURL": "https://plot.ly"
       },
       "data": [
        {
         "customdata": [
          [
           "Democrat"
          ],
          [
           "Democrat"
          ],
          [
           "Democrat"
          ],
          [
           "Democrat"
          ],
          [
           "Democrat"
          ],
          [
           "Democrat"
          ],
          [
           "Democrat"
          ],
          [
           "Democrat"
          ],
          [
           "Democrat"
          ],
          [
           "Democrat"
          ],
          [
           "Democrat"
          ],
          [
           "Democrat"
          ],
          [
           "Democrat"
          ],
          [
           "Democrat"
          ],
          [
           "Democrat"
          ],
          [
           "Democrat"
          ],
          [
           "Democrat"
          ],
          [
           "Democrat"
          ],
          [
           "Democrat"
          ],
          [
           "Democrat"
          ],
          [
           "Democrat"
          ],
          [
           "Democrat"
          ],
          [
           "Democrat"
          ],
          [
           "Democrat"
          ],
          [
           "Democrat"
          ],
          [
           "Democrat"
          ],
          [
           "Democrat"
          ],
          [
           "Democrat"
          ],
          [
           "Democrat"
          ],
          [
           "Democrat"
          ],
          [
           "Democrat"
          ],
          [
           "Democrat"
          ],
          [
           "Democrat"
          ],
          [
           "Democrat"
          ],
          [
           "Democrat"
          ],
          [
           "Democrat"
          ],
          [
           "Democrat"
          ],
          [
           "Democrat"
          ],
          [
           "Democrat"
          ],
          [
           "Democrat"
          ],
          [
           "Democrat"
          ],
          [
           "Democrat"
          ],
          [
           "Democrat"
          ],
          [
           "Democrat"
          ],
          [
           "Democrat"
          ],
          [
           "Democrat"
          ],
          [
           "Democrat"
          ],
          [
           "Democrat"
          ],
          [
           "Democrat"
          ],
          [
           "Democrat"
          ],
          [
           "Democrat"
          ],
          [
           "Democrat"
          ],
          [
           "Democrat"
          ],
          [
           "Democrat"
          ],
          [
           "Democrat"
          ],
          [
           "Democrat"
          ],
          [
           "Democrat"
          ],
          [
           "Democrat"
          ],
          [
           "Democrat"
          ],
          [
           "Democrat"
          ],
          [
           "Democrat"
          ],
          [
           "Democrat"
          ],
          [
           "Democrat"
          ],
          [
           "Democrat"
          ],
          [
           "Democrat"
          ],
          [
           "Democrat"
          ],
          [
           "Democrat"
          ],
          [
           "Democrat"
          ],
          [
           "Democrat"
          ],
          [
           "Democrat"
          ],
          [
           "Democrat"
          ],
          [
           "Democrat"
          ],
          [
           "Democrat"
          ],
          [
           "Democrat"
          ],
          [
           "Democrat"
          ],
          [
           "Democrat"
          ],
          [
           "Democrat"
          ],
          [
           "Democrat"
          ],
          [
           "Democrat"
          ],
          [
           "Democrat"
          ],
          [
           "Democrat"
          ],
          [
           "Democrat"
          ],
          [
           "Democrat"
          ],
          [
           "Democrat"
          ],
          [
           "Democrat"
          ],
          [
           "Democrat"
          ],
          [
           "Democrat"
          ],
          [
           "Democrat"
          ],
          [
           "Democrat"
          ],
          [
           "Democrat"
          ],
          [
           "Democrat"
          ],
          [
           "Democrat"
          ],
          [
           "Democrat"
          ],
          [
           "Democrat"
          ],
          [
           "Democrat"
          ],
          [
           "Democrat"
          ],
          [
           "Democrat"
          ],
          [
           "Democrat"
          ],
          [
           "Democrat"
          ],
          [
           "Democrat"
          ],
          [
           "Democrat"
          ],
          [
           "Democrat"
          ],
          [
           "Democrat"
          ],
          [
           "Democrat"
          ],
          [
           "Democrat"
          ],
          [
           "Democrat"
          ],
          [
           "Democrat"
          ],
          [
           "Democrat"
          ],
          [
           "Democrat"
          ],
          [
           "Democrat"
          ],
          [
           "Democrat"
          ],
          [
           "Democrat"
          ],
          [
           "Democrat"
          ],
          [
           "Democrat"
          ],
          [
           "Democrat"
          ],
          [
           "Democrat"
          ],
          [
           "Democrat"
          ],
          [
           "Democrat"
          ],
          [
           "Democrat"
          ],
          [
           "Democrat"
          ],
          [
           "Democrat"
          ],
          [
           "Democrat"
          ],
          [
           "Democrat"
          ],
          [
           "Democrat"
          ],
          [
           "Democrat"
          ],
          [
           "Democrat"
          ],
          [
           "Democrat"
          ],
          [
           "Democrat"
          ],
          [
           "Democrat"
          ],
          [
           "Democrat"
          ],
          [
           "Democrat"
          ],
          [
           "Democrat"
          ],
          [
           "Democrat"
          ],
          [
           "Democrat"
          ],
          [
           "Democrat"
          ],
          [
           "Democrat"
          ],
          [
           "Democrat"
          ],
          [
           "Democrat"
          ],
          [
           "Democrat"
          ],
          [
           "Democrat"
          ],
          [
           "Democrat"
          ],
          [
           "Democrat"
          ],
          [
           "Democrat"
          ],
          [
           "Democrat"
          ],
          [
           "Democrat"
          ],
          [
           "Democrat"
          ],
          [
           "Democrat"
          ],
          [
           "Democrat"
          ],
          [
           "Democrat"
          ],
          [
           "Democrat"
          ],
          [
           "Democrat"
          ],
          [
           "Democrat"
          ],
          [
           "Democrat"
          ],
          [
           "Democrat"
          ],
          [
           "Democrat"
          ],
          [
           "Democrat"
          ],
          [
           "Democrat"
          ],
          [
           "Democrat"
          ],
          [
           "Democrat"
          ],
          [
           "Democrat"
          ],
          [
           "Democrat"
          ],
          [
           "Democrat"
          ],
          [
           "Democrat"
          ],
          [
           "Democrat"
          ],
          [
           "Democrat"
          ],
          [
           "Democrat"
          ],
          [
           "Democrat"
          ],
          [
           "Democrat"
          ],
          [
           "Democrat"
          ],
          [
           "Democrat"
          ],
          [
           "Democrat"
          ],
          [
           "Democrat"
          ],
          [
           "Democrat"
          ],
          [
           "Democrat"
          ],
          [
           "Democrat"
          ],
          [
           "Democrat"
          ],
          [
           "Democrat"
          ],
          [
           "Democrat"
          ],
          [
           "Democrat"
          ],
          [
           "Democrat"
          ],
          [
           "Democrat"
          ],
          [
           "Democrat"
          ],
          [
           "Democrat"
          ],
          [
           "Democrat"
          ],
          [
           "Democrat"
          ],
          [
           "Democrat"
          ],
          [
           "Democrat"
          ],
          [
           "Democrat"
          ],
          [
           "Democrat"
          ],
          [
           "Democrat"
          ],
          [
           "Democrat"
          ],
          [
           "Democrat"
          ],
          [
           "Democrat"
          ],
          [
           "Democrat"
          ],
          [
           "Democrat"
          ],
          [
           "Democrat"
          ],
          [
           "Democrat"
          ],
          [
           "Democrat"
          ],
          [
           "Democrat"
          ],
          [
           "Democrat"
          ],
          [
           "Democrat"
          ],
          [
           "Democrat"
          ],
          [
           "Democrat"
          ],
          [
           "Democrat"
          ],
          [
           "Democrat"
          ],
          [
           "Democrat"
          ],
          [
           "Democrat"
          ],
          [
           "Democrat"
          ],
          [
           "Democrat"
          ],
          [
           "Democrat"
          ],
          [
           "Democrat"
          ],
          [
           "Democrat"
          ],
          [
           "Democrat"
          ],
          [
           "Democrat"
          ],
          [
           "Democrat"
          ],
          [
           "Democrat"
          ],
          [
           "Democrat"
          ],
          [
           "Democrat"
          ],
          [
           "Democrat"
          ],
          [
           "Democrat"
          ],
          [
           "Democrat"
          ],
          [
           "Democrat"
          ],
          [
           "Democrat"
          ],
          [
           "Democrat"
          ],
          [
           "Democrat"
          ],
          [
           "Democrat"
          ],
          [
           "Democrat"
          ],
          [
           "Democrat"
          ],
          [
           "Democrat"
          ],
          [
           "Democrat"
          ],
          [
           "Democrat"
          ],
          [
           "Democrat"
          ],
          [
           "Democrat"
          ],
          [
           "Democrat"
          ],
          [
           "Democrat"
          ],
          [
           "Democrat"
          ],
          [
           "Democrat"
          ],
          [
           "Democrat"
          ],
          [
           "Democrat"
          ],
          [
           "Democrat"
          ],
          [
           "Democrat"
          ],
          [
           "Democrat"
          ],
          [
           "Democrat"
          ],
          [
           "Democrat"
          ],
          [
           "Democrat"
          ],
          [
           "Democrat"
          ],
          [
           "Democrat"
          ],
          [
           "Democrat"
          ],
          [
           "Democrat"
          ],
          [
           "Democrat"
          ],
          [
           "Democrat"
          ],
          [
           "Democrat"
          ],
          [
           "Democrat"
          ],
          [
           "Democrat"
          ],
          [
           "Democrat"
          ],
          [
           "Democrat"
          ],
          [
           "Democrat"
          ],
          [
           "Democrat"
          ]
         ],
         "hovertemplate": "<b>%{hovertext}</b><br><br>Political Party=%{customdata[0]}<br>Left/Right Ideology (DW-NOMINATE)=%{x}<br>Chamber=%{y}<extra></extra>",
         "hovertext": [
          "Sherrod Brown (Ohio)",
          "Maria Cantwell (Washington)",
          "Benjamin L. Cardin (Maryland)",
          "Thomas R. Carper (Delaware)",
          "Robert P. Casey Jr. (Pennsylvania)",
          "Amy Klobuchar (Minnesota)",
          "Robert Menendez (New Jersey)",
          "Debbie Stabenow (Michigan)",
          "Jon Tester (Montana)",
          "Sheldon Whitehouse (Rhode Island)",
          "Richard J. Durbin (Illinois)",
          "Jeff Merkley (Oregon)",
          "Jack Reed (Rhode Island)",
          "Jeanne Shaheen (New Hampshire)",
          "Mark R. Warner (Virginia)",
          "Kirsten E. Gillibrand (New York)",
          "Christopher A. Coons (Delaware)",
          "Joe Manchin III (West Virginia)",
          "Tammy Baldwin (Wisconsin)",
          "Michael F. Bennet (Colorado)",
          "Sanford D. Bishop, Jr. (Georgia-2)",
          "Earl Blumenauer (Oregon-3)",
          "Richard Blumenthal (Connecticut)",
          "Andre Carson (Indiana-7)",
          "Kathy Castor (Florida-14)",
          "Judy Chu (California-28)",
          "Yvette D. Clarke (New York-9)",
          "Emanuel Cleaver (Missouri-5)",
          "James E. Clyburn (South Carolina-6)",
          "Steve Cohen (Tennessee-9)",
          "Gerald E. Connolly (Virginia-11)",
          "Jim Costa (California-21)",
          "Joe Courtney (Connecticut-2)",
          "Henry Cuellar (Texas-28)",
          "Danny K. Davis (Illinois-7)",
          "Diana DeGette (Colorado-1)",
          "Rosa L. DeLauro (Connecticut-3)",
          "Lloyd Doggett (Texas-37)",
          "Anna G. Eshoo (California-16)",
          "John Garamendi (California-8)",
          "Al Green (Texas-9)",
          "Martin Heinrich (New Mexico)",
          "Brian Higgins (New York-26)",
          "James A. Himes (Connecticut-4)",
          "Mazie K. Hirono (Hawaii)",
          "Steny H. Hoyer (Maryland-5)",
          "Sheila Jackson Lee (Texas-18)",
          "Henry C. \"Hank\" Johnson, Jr. (Georgia-4)",
          "Marcy Kaptur (Ohio-9)",
          "William R. Keating (Massachusetts-9)",
          "Rick Larsen (Washington-2)",
          "John B. Larson (Connecticut-1)",
          "Barbara Lee (California-12)",
          "Zoe Lofgren (California-18)",
          "Ben Ray Lujan (New Mexico)",
          "Stephen F. Lynch (Massachusetts-8)",
          "Edward J. Markey (Massachusetts)",
          "Doris O. Matsui (California-7)",
          "Betty McCollum (Minnesota-4)",
          "James P. McGovern (Massachusetts-2)",
          "Gregory W. Meeks (New York-5)",
          "Gwen Moore (Wisconsin-4)",
          "Christopher Murphy (Connecticut)",
          "Patty Murray (Washington)",
          "Jerrold Nadler (New York-12)",
          "Grace F. Napolitano (California-31)",
          "Richard E. Neal (Massachusetts-1)",
          "Frank Pallone, Jr. (New Jersey-6)",
          "Bill Pascrell, Jr. (New Jersey-9)",
          "Nancy Pelosi (California-11)",
          "Gary C. Peters (Michigan)",
          "Chellie Pingree (Maine-1)",
          "Mike Quigley (Illinois-5)",
          "C. A. Dutch Ruppersberger (Maryland-2)",
          "John P. Sarbanes (Maryland-3)",
          "Janice D. Schakowsky (Illinois-9)",
          "Adam B. Schiff (California-30)",
          "Charles E. Schumer (New York)",
          "David Scott (Georgia-13)",
          "Robert C. \"Bobby\" Scott (Virginia-3)",
          "Terri A. Sewell (Alabama-7)",
          "Brad Sherman (California-32)",
          "Adam Smith (Washington-9)",
          "Linda T. Sánchez (California-38)",
          "Bennie G. Thompson (Mississippi-2)",
          "Mike Thompson (California-4)",
          "Paul Tonko (New York-20)",
          "Chris Van Hollen (Maryland)",
          "Nydia M. Velazquez (New York-7)",
          "Debbie Wasserman Schultz (Florida-25)",
          "Maxine Waters (California-43)",
          "Peter Welch (Vermont)",
          "Frederica S. Wilson (Florida-24)",
          "Ron Wyden (Oregon)",
          "Suzanne Bonamici (Oregon-1)",
          "Suzan K. DelBene (Washington-1)",
          "Donald M. Payne, Jr. (New Jersey-10)",
          "Brian Schatz (Hawaii)",
          "Bill Foster (Illinois-11)",
          "Dina Titus (Nevada-1)",
          "Jared Huffman (California-2)",
          "Ami Bera (California-6)",
          "Eric Swalwell (California-14)",
          "Julia Brownley (California-26)",
          "Tony Cárdenas (California-29)",
          "Raul Ruiz (California-25)",
          "Mark Takano (California-39)",
          "Juan Vargas (California-52)",
          "Scott H. Peters (California-50)",
          "Lois Frankel (Florida-22)",
          "Tammy Duckworth (Illinois)",
          "Elizabeth Warren (Massachusetts)",
          "Daniel T. Kildee (Michigan-8)",
          "Ann M. Kuster (New Hampshire-2)",
          "Grace Meng (New York-6)",
          "Hakeem S. Jeffries (New York-8)",
          "Joyce Beatty (Ohio-3)",
          "Matt Cartwright (Pennsylvania-8)",
          "Joaquin Castro (Texas-20)",
          "Marc A. Veasey (Texas-33)",
          "Tim Kaine (Virginia)",
          "Derek Kilmer (Washington-6)",
          "Mark Pocan (Wisconsin-2)",
          "Robin L. Kelly (Illinois-2)",
          "Cory A. Booker (New Jersey)",
          "Katherine M. Clark (Massachusetts-5)",
          "Donald Norcross (New Jersey-1)",
          "Alma S. Adams (North Carolina-12)",
          "Ruben Gallego (Arizona-3)",
          "Mark DeSaulnier (California-10)",
          "Pete Aguilar (California-33)",
          "Ted Lieu (California-36)",
          "Norma J. Torres (California-35)",
          "Seth Moulton (Massachusetts-6)",
          "Debbie Dingell (Michigan-6)",
          "Bonnie Watson Coleman (New Jersey-12)",
          "Brendan F. Boyle (Pennsylvania-2)",
          "Donald S. Beyer, Jr. (Virginia-8)",
          "Dwight Evans (Pennsylvania-3)",
          "Margaret Wood Hassan (New Hampshire)",
          "Catherine Cortez Masto (Nevada)",
          "Bradley Scott Schneider (Illinois-10)",
          "Ro Khanna (California-17)",
          "Jimmy Panetta (California-19)",
          "Salud O. Carbajal (California-24)",
          "Nanette Diaz Barragan (California-44)",
          "J. Luis Correa (California-46)",
          "Lisa Blunt Rochester (Delaware)",
          "Darren Soto (Florida-9)",
          "Raja Krishnamoorthi (Illinois-8)",
          "Jamie Raskin (Maryland-8)",
          "Josh Gottheimer (New Jersey-5)",
          "Jacky Rosen (Nevada)",
          "Adriano Espaillat (New York-13)",
          "Vicente Gonzalez (Texas-34)",
          "Pramila Jayapal (Washington-7)",
          "Jimmy Gomez (California-34)",
          "Tina Smith (Minnesota)",
          "Jason Crow (Colorado-6)",
          "Joseph D. Morelle (New York-25)",
          "Mary Gay Scanlon (Pennsylvania-5)",
          "Susan Wild (Pennsylvania-7)",
          "Ed Case (Hawaii-1)",
          "Steven Horsford (Nevada-4)",
          "Greg Stanton (Arizona-4)",
          "Josh Harder (California-9)",
          "Katie Porter (California-47)",
          "Mike Levin (California-49)",
          "Joe Neguse (Colorado-2)",
          "Jahana Hayes (Connecticut-5)",
          "Lucy McBath (Georgia-7)",
          "Jesus G. \"Chuy\" Garcia (Illinois-4)",
          "Sean Casten (Illinois-6)",
          "Lauren Underwood (Illinois-14)",
          "Sharice Davids (Kansas-3)",
          "Lori Trahan (Massachusetts-3)",
          "Ayanna Pressley (Massachusetts-7)",
          "David J. Trone (Maryland-6)",
          "Elissa Slotkin (Michigan-7)",
          "Haley M. Stevens (Michigan-11)",
          "Rashida Tlaib (Michigan-12)",
          "Angie Craig (Minnesota-2)",
          "Dean Phillips (Minnesota-3)",
          "Ilhan Omar (Minnesota-5)",
          "Chris Pappas (New Hampshire-1)",
          "Andy Kim (New Jersey-3)",
          "Mikie Sherrill (New Jersey-11)",
          "Susie Lee (Nevada-3)",
          "Alexandria Ocasio-Cortez (New York-14)",
          "Madeleine Dean (Pennsylvania-4)",
          "Chrissy Houlahan (Pennsylvania-6)",
          "Lizzie Fletcher (Texas-7)",
          "Veronica Escobar (Texas-16)",
          "Sylvia R. Garcia (Texas-29)",
          "Colin Z. Allred (Texas-32)",
          "Abigail Davis Spanberger (Virginia-7)",
          "Jennifer Wexton (Virginia-10)",
          "Kim Schrier (Washington-8)",
          "Jared F. Golden (Maine-2)",
          "Kweisi Mfume (Maryland-7)",
          "Mark Kelly (Arizona)",
          "John W. Hickenlooper (Colorado)",
          "Sara Jacobs (California-51)",
          "Nikema Williams (Georgia-5)",
          "Frank J. Mrvan (Indiana-1)",
          "Jake Auchincloss (Massachusetts-4)",
          "Cori Bush (Missouri-1)",
          "Deborah K. Ross (North Carolina-2)",
          "Kathy E. Manning (North Carolina-6)",
          "Teresa Leger Fernandez (New Mexico-3)",
          "Ritchie Torres (New York-15)",
          "Jamaal Bowman (New York-16)",
          "Marilyn Strickland (Washington-10)",
          "Alex Padilla (California)",
          "Jon Ossoff (Georgia)",
          "Raphael G. Warnock (Georgia)",
          "Troy Carter (Louisiana-2)",
          "Melanie Stansbury (New Mexico-1)",
          "Shontel M. Brown (Ohio-11)",
          "Sheila Cherfilus-McCormick (Florida-20)",
          "Mary Sattler Peltola (Alaska)",
          "Patrick Ryan (New York-18)",
          "John Fetterman (Pennsylvania)",
          "Kevin Mullin (California-15)",
          "Sydney Kamlager-Dove (California-37)",
          "Robert Garcia (California-42)",
          "Brittany Pettersen (Colorado-7)",
          "Yadira Caraveo (Colorado-8)",
          "Maxwell Frost (Florida-10)",
          "Jared Moskowitz (Florida-23)",
          "Jill N. Tokuda (Hawaii-2)",
          "Jonathan L. Jackson (Illinois-1)",
          "Delia C. Ramirez (Illinois-3)",
          "Nikki Budzinski (Illinois-13)",
          "Eric Sorensen (Illinois-17)",
          "Morgan McGarvey (Kentucky-3)",
          "Glenn Ivey (Maryland-4)",
          "Hillary J. Scholten (Michigan-3)",
          "Shri Thanedar (Michigan-13)",
          "Donald G. Davis (North Carolina-1)",
          "Valerie P. Foushee (North Carolina-4)",
          "Wiley Nickel (North Carolina-13)",
          "Jeff Jackson (North Carolina-14)",
          "Robert Menendez (New Jersey-8)",
          "Gabe Vasquez (New Mexico-2)",
          "Daniel S. Goldman (New York-10)",
          "Greg Landsman (Ohio-1)",
          "Emilia Strong Sykes (Ohio-13)",
          "Val T. Hoyle (Oregon-4)",
          "Andrea Salinas (Oregon-6)",
          "Summer L. Lee (Pennsylvania-12)",
          "Christopher R. Deluzio (Pennsylvania-17)",
          "Seth Magaziner (Rhode Island-2)",
          "Jasmine Crockett (Texas-30)",
          "Greg Casar (Texas-35)",
          "Becca Balint (Vermont)",
          "Marie Gluesenkamp Perez (Washington-3)",
          "Jennifer L. McClellan (Virginia-4)"
         ],
         "legendgroup": "Democrat",
         "marker": {
          "color": "blue",
          "opacity": 0.1,
          "symbol": "circle"
         },
         "mode": "markers",
         "name": "Democrat",
         "orientation": "h",
         "showlegend": true,
         "type": "scatter",
         "x": [
          -0.427,
          -0.305,
          -0.32,
          -0.178,
          -0.313,
          -0.283,
          -0.366,
          -0.343,
          -0.215,
          -0.355,
          -0.348,
          -0.442,
          -0.367,
          -0.238,
          -0.205,
          -0.469,
          -0.232,
          -0.058,
          -0.492,
          -0.231,
          -0.284,
          -0.426,
          -0.436,
          -0.427,
          -0.438,
          -0.488,
          -0.61,
          -0.453,
          -0.465,
          -0.396,
          -0.306,
          -0.195,
          -0.343,
          -0.228,
          -0.486,
          -0.431,
          -0.414,
          -0.402,
          -0.38,
          -0.309,
          -0.44,
          -0.329,
          -0.347,
          -0.239,
          -0.513,
          -0.381,
          -0.459,
          -0.471,
          -0.348,
          -0.332,
          -0.364,
          -0.396,
          -0.677,
          -0.4,
          -0.368,
          -0.349,
          -0.514,
          -0.435,
          -0.417,
          -0.539,
          -0.415,
          -0.525,
          -0.272,
          -0.352,
          -0.508,
          -0.448,
          -0.417,
          -0.404,
          -0.368,
          -0.49,
          -0.246,
          -0.42,
          -0.323,
          -0.296,
          -0.466,
          -0.603,
          -0.35,
          -0.355,
          -0.304,
          -0.45,
          -0.396,
          -0.344,
          -0.288,
          -0.508,
          -0.517,
          -0.393,
          -0.418,
          -0.392,
          -0.546,
          -0.419,
          -0.656,
          -0.409,
          -0.48,
          -0.33,
          -0.394,
          -0.29,
          -0.523,
          -0.444,
          -0.232,
          -0.301,
          -0.43,
          -0.239,
          -0.362,
          -0.291,
          -0.39,
          -0.249,
          -0.464,
          -0.403,
          -0.187,
          -0.402,
          -0.336,
          -0.752,
          -0.374,
          -0.261,
          -0.379,
          -0.488,
          -0.439,
          -0.356,
          -0.4,
          -0.403,
          -0.244,
          -0.31,
          -0.533,
          -0.465,
          -0.582,
          -0.482,
          -0.422,
          -0.467,
          -0.438,
          -0.526,
          -0.304,
          -0.379,
          -0.362,
          -0.279,
          -0.403,
          -0.614,
          -0.398,
          -0.387,
          -0.468,
          -0.234,
          -0.361,
          -0.187,
          -0.506,
          -0.29,
          -0.303,
          -0.513,
          -0.285,
          -0.34,
          -0.367,
          -0.319,
          -0.529,
          -0.156,
          -0.288,
          -0.609,
          -0.382,
          -0.653,
          -0.556,
          -0.397,
          -0.3,
          -0.344,
          -0.444,
          -0.26,
          -0.198,
          -0.348,
          -0.29,
          -0.362,
          -0.214,
          -0.36,
          -0.391,
          -0.365,
          -0.295,
          -0.425,
          -0.673,
          -0.559,
          -0.266,
          -0.417,
          -0.342,
          -0.303,
          -0.319,
          -0.382,
          -0.28,
          -0.275,
          -0.28,
          -0.29,
          -0.25,
          -0.318,
          -0.22,
          -0.235,
          -0.293,
          -0.451,
          -0.274,
          -0.442,
          -0.445,
          -0.808,
          -0.456,
          -0.182,
          -0.349,
          -0.289,
          -0.111,
          -0.444,
          -0.205,
          -0.245,
          -0.355,
          -0.436,
          -0.321,
          -0.318,
          -0.247,
          -0.456,
          -0.276,
          -0.337,
          -0.385,
          -0.349,
          -0.421,
          -0.397,
          -0.449,
          -0.413,
          -0.509,
          -0.427,
          -0.526,
          -0.605,
          -0.153,
          -0.222,
          -0.269,
          -0.557,
          -0.599,
          -0.446,
          -0.355,
          -0.269,
          -0.497,
          -0.232,
          -0.42,
          -0.514,
          -0.482,
          -0.311,
          -0.235,
          -0.589,
          -0.562,
          -0.308,
          -0.431,
          -0.296,
          -0.544,
          -0.224,
          -0.325,
          -0.533,
          -0.296,
          -0.488,
          -0.202,
          -0.37,
          -0.248,
          -0.214,
          -0.375,
          -0.237,
          -0.302,
          -0.512,
          -0.356,
          -0.492,
          -0.115,
          -0.493
         ],
         "xaxis": "x",
         "y": [
          true,
          true,
          true,
          true,
          true,
          true,
          true,
          true,
          true,
          true,
          true,
          true,
          true,
          true,
          true,
          true,
          true,
          true,
          true,
          true,
          false,
          false,
          true,
          false,
          false,
          false,
          false,
          false,
          false,
          false,
          false,
          false,
          false,
          false,
          false,
          false,
          false,
          false,
          false,
          false,
          false,
          true,
          false,
          false,
          true,
          false,
          false,
          false,
          false,
          false,
          false,
          false,
          false,
          false,
          true,
          false,
          true,
          false,
          false,
          false,
          false,
          false,
          true,
          true,
          false,
          false,
          false,
          false,
          false,
          false,
          true,
          false,
          false,
          false,
          false,
          false,
          false,
          true,
          false,
          false,
          false,
          false,
          false,
          false,
          false,
          false,
          false,
          true,
          false,
          false,
          false,
          true,
          false,
          true,
          false,
          false,
          false,
          true,
          false,
          false,
          false,
          false,
          false,
          false,
          false,
          false,
          false,
          false,
          false,
          false,
          true,
          true,
          false,
          false,
          false,
          false,
          false,
          false,
          false,
          false,
          true,
          false,
          false,
          false,
          true,
          false,
          false,
          false,
          false,
          false,
          false,
          false,
          false,
          false,
          false,
          false,
          false,
          false,
          false,
          true,
          true,
          false,
          false,
          false,
          false,
          false,
          false,
          true,
          false,
          false,
          false,
          false,
          true,
          false,
          false,
          false,
          false,
          true,
          false,
          false,
          false,
          false,
          false,
          false,
          false,
          false,
          false,
          false,
          false,
          false,
          false,
          false,
          false,
          false,
          false,
          false,
          false,
          false,
          false,
          false,
          false,
          false,
          false,
          false,
          false,
          false,
          false,
          false,
          false,
          false,
          false,
          false,
          false,
          false,
          false,
          false,
          false,
          false,
          false,
          false,
          true,
          true,
          false,
          false,
          false,
          false,
          false,
          false,
          false,
          false,
          false,
          false,
          false,
          true,
          true,
          true,
          false,
          false,
          false,
          false,
          true,
          false,
          true,
          false,
          false,
          false,
          false,
          false,
          false,
          false,
          false,
          false,
          false,
          false,
          false,
          false,
          false,
          false,
          false,
          false,
          false,
          false,
          false,
          false,
          false,
          false,
          false,
          false,
          false,
          false,
          false,
          false,
          false,
          false,
          false,
          true,
          false,
          false
         ],
         "yaxis": "y"
        },
        {
         "customdata": [
          [
           "Independent"
          ],
          [
           "Independent"
          ],
          [
           "Independent"
          ]
         ],
         "hovertemplate": "<b>%{hovertext}</b><br><br>Political Party=%{customdata[0]}<br>Left/Right Ideology (DW-NOMINATE)=%{x}<br>Chamber=%{y}<extra></extra>",
         "hovertext": [
          "Bernard Sanders (Vermont)",
          "Kyrsten Sinema (Arizona)",
          "Angus S. King Jr. (Maine)"
         ],
         "legendgroup": "Independent",
         "marker": {
          "color": "green",
          "opacity": 0.1,
          "symbol": "circle"
         },
         "mode": "markers",
         "name": "Independent",
         "orientation": "h",
         "showlegend": true,
         "type": "scatter",
         "x": [
          -0.539,
          -0.271,
          -0.162
         ],
         "xaxis": "x",
         "y": [
          true,
          true,
          true
         ],
         "yaxis": "y"
        },
        {
         "customdata": [
          [
           "Republican"
          ],
          [
           "Republican"
          ],
          [
           "Republican"
          ],
          [
           "Republican"
          ],
          [
           "Republican"
          ],
          [
           "Republican"
          ],
          [
           "Republican"
          ],
          [
           "Republican"
          ],
          [
           "Republican"
          ],
          [
           "Republican"
          ],
          [
           "Republican"
          ],
          [
           "Republican"
          ],
          [
           "Republican"
          ],
          [
           "Republican"
          ],
          [
           "Republican"
          ],
          [
           "Republican"
          ],
          [
           "Republican"
          ],
          [
           "Republican"
          ],
          [
           "Republican"
          ],
          [
           "Republican"
          ],
          [
           "Republican"
          ],
          [
           "Republican"
          ],
          [
           "Republican"
          ],
          [
           "Republican"
          ],
          [
           "Republican"
          ],
          [
           "Republican"
          ],
          [
           "Republican"
          ],
          [
           "Republican"
          ],
          [
           "Republican"
          ],
          [
           "Republican"
          ],
          [
           "Republican"
          ],
          [
           "Republican"
          ],
          [
           "Republican"
          ],
          [
           "Republican"
          ],
          [
           "Republican"
          ],
          [
           "Republican"
          ],
          [
           "Republican"
          ],
          [
           "Republican"
          ],
          [
           "Republican"
          ],
          [
           "Republican"
          ],
          [
           "Republican"
          ],
          [
           "Republican"
          ],
          [
           "Republican"
          ],
          [
           "Republican"
          ],
          [
           "Republican"
          ],
          [
           "Republican"
          ],
          [
           "Republican"
          ],
          [
           "Republican"
          ],
          [
           "Republican"
          ],
          [
           "Republican"
          ],
          [
           "Republican"
          ],
          [
           "Republican"
          ],
          [
           "Republican"
          ],
          [
           "Republican"
          ],
          [
           "Republican"
          ],
          [
           "Republican"
          ],
          [
           "Republican"
          ],
          [
           "Republican"
          ],
          [
           "Republican"
          ],
          [
           "Republican"
          ],
          [
           "Republican"
          ],
          [
           "Republican"
          ],
          [
           "Republican"
          ],
          [
           "Republican"
          ],
          [
           "Republican"
          ],
          [
           "Republican"
          ],
          [
           "Republican"
          ],
          [
           "Republican"
          ],
          [
           "Republican"
          ],
          [
           "Republican"
          ],
          [
           "Republican"
          ],
          [
           "Republican"
          ],
          [
           "Republican"
          ],
          [
           "Republican"
          ],
          [
           "Republican"
          ],
          [
           "Republican"
          ],
          [
           "Republican"
          ],
          [
           "Republican"
          ],
          [
           "Republican"
          ],
          [
           "Republican"
          ],
          [
           "Republican"
          ],
          [
           "Republican"
          ],
          [
           "Republican"
          ],
          [
           "Republican"
          ],
          [
           "Republican"
          ],
          [
           "Republican"
          ],
          [
           "Republican"
          ],
          [
           "Republican"
          ],
          [
           "Republican"
          ],
          [
           "Republican"
          ],
          [
           "Republican"
          ],
          [
           "Republican"
          ],
          [
           "Republican"
          ],
          [
           "Republican"
          ],
          [
           "Republican"
          ],
          [
           "Republican"
          ],
          [
           "Republican"
          ],
          [
           "Republican"
          ],
          [
           "Republican"
          ],
          [
           "Republican"
          ],
          [
           "Republican"
          ],
          [
           "Republican"
          ],
          [
           "Republican"
          ],
          [
           "Republican"
          ],
          [
           "Republican"
          ],
          [
           "Republican"
          ],
          [
           "Republican"
          ],
          [
           "Republican"
          ],
          [
           "Republican"
          ],
          [
           "Republican"
          ],
          [
           "Republican"
          ],
          [
           "Republican"
          ],
          [
           "Republican"
          ],
          [
           "Republican"
          ],
          [
           "Republican"
          ],
          [
           "Republican"
          ],
          [
           "Republican"
          ],
          [
           "Republican"
          ],
          [
           "Republican"
          ],
          [
           "Republican"
          ],
          [
           "Republican"
          ],
          [
           "Republican"
          ],
          [
           "Republican"
          ],
          [
           "Republican"
          ],
          [
           "Republican"
          ],
          [
           "Republican"
          ],
          [
           "Republican"
          ],
          [
           "Republican"
          ],
          [
           "Republican"
          ],
          [
           "Republican"
          ],
          [
           "Republican"
          ],
          [
           "Republican"
          ],
          [
           "Republican"
          ],
          [
           "Republican"
          ],
          [
           "Republican"
          ],
          [
           "Republican"
          ],
          [
           "Republican"
          ],
          [
           "Republican"
          ],
          [
           "Republican"
          ],
          [
           "Republican"
          ],
          [
           "Republican"
          ],
          [
           "Republican"
          ],
          [
           "Republican"
          ],
          [
           "Republican"
          ],
          [
           "Republican"
          ],
          [
           "Republican"
          ],
          [
           "Republican"
          ],
          [
           "Republican"
          ],
          [
           "Republican"
          ],
          [
           "Republican"
          ],
          [
           "Republican"
          ],
          [
           "Republican"
          ],
          [
           "Republican"
          ],
          [
           "Republican"
          ],
          [
           "Republican"
          ],
          [
           "Republican"
          ],
          [
           "Republican"
          ],
          [
           "Republican"
          ],
          [
           "Republican"
          ],
          [
           "Republican"
          ],
          [
           "Republican"
          ],
          [
           "Republican"
          ],
          [
           "Republican"
          ],
          [
           "Republican"
          ],
          [
           "Republican"
          ],
          [
           "Republican"
          ],
          [
           "Republican"
          ],
          [
           "Republican"
          ],
          [
           "Republican"
          ],
          [
           "Republican"
          ],
          [
           "Republican"
          ],
          [
           "Republican"
          ],
          [
           "Republican"
          ],
          [
           "Republican"
          ],
          [
           "Republican"
          ],
          [
           "Republican"
          ],
          [
           "Republican"
          ],
          [
           "Republican"
          ],
          [
           "Republican"
          ],
          [
           "Republican"
          ],
          [
           "Republican"
          ],
          [
           "Republican"
          ],
          [
           "Republican"
          ],
          [
           "Republican"
          ],
          [
           "Republican"
          ],
          [
           "Republican"
          ],
          [
           "Republican"
          ],
          [
           "Republican"
          ],
          [
           "Republican"
          ],
          [
           "Republican"
          ],
          [
           "Republican"
          ],
          [
           "Republican"
          ],
          [
           "Republican"
          ],
          [
           "Republican"
          ],
          [
           "Republican"
          ],
          [
           "Republican"
          ],
          [
           "Republican"
          ],
          [
           "Republican"
          ],
          [
           "Republican"
          ],
          [
           "Republican"
          ],
          [
           "Republican"
          ],
          [
           "Republican"
          ],
          [
           "Republican"
          ],
          [
           "Republican"
          ],
          [
           "Republican"
          ],
          [
           "Republican"
          ],
          [
           "Republican"
          ],
          [
           "Republican"
          ],
          [
           "Republican"
          ],
          [
           "Republican"
          ],
          [
           "Republican"
          ],
          [
           "Republican"
          ],
          [
           "Republican"
          ],
          [
           "Republican"
          ],
          [
           "Republican"
          ],
          [
           "Republican"
          ],
          [
           "Republican"
          ],
          [
           "Republican"
          ],
          [
           "Republican"
          ],
          [
           "Republican"
          ],
          [
           "Republican"
          ],
          [
           "Republican"
          ],
          [
           "Republican"
          ],
          [
           "Republican"
          ],
          [
           "Republican"
          ],
          [
           "Republican"
          ],
          [
           "Republican"
          ],
          [
           "Republican"
          ],
          [
           "Republican"
          ],
          [
           "Republican"
          ],
          [
           "Republican"
          ],
          [
           "Republican"
          ],
          [
           "Republican"
          ],
          [
           "Republican"
          ],
          [
           "Republican"
          ],
          [
           "Republican"
          ],
          [
           "Republican"
          ],
          [
           "Republican"
          ],
          [
           "Republican"
          ],
          [
           "Republican"
          ],
          [
           "Republican"
          ],
          [
           "Republican"
          ],
          [
           "Republican"
          ],
          [
           "Republican"
          ],
          [
           "Republican"
          ],
          [
           "Republican"
          ],
          [
           "Republican"
          ],
          [
           "Republican"
          ],
          [
           "Republican"
          ],
          [
           "Republican"
          ],
          [
           "Republican"
          ],
          [
           "Republican"
          ],
          [
           "Republican"
          ],
          [
           "Republican"
          ],
          [
           "Republican"
          ],
          [
           "Republican"
          ],
          [
           "Republican"
          ],
          [
           "Republican"
          ],
          [
           "Republican"
          ],
          [
           "Republican"
          ],
          [
           "Republican"
          ],
          [
           "Republican"
          ],
          [
           "Republican"
          ],
          [
           "Republican"
          ],
          [
           "Republican"
          ],
          [
           "Republican"
          ],
          [
           "Republican"
          ],
          [
           "Republican"
          ],
          [
           "Republican"
          ]
         ],
         "hovertemplate": "<b>%{hovertext}</b><br><br>Political Party=%{customdata[0]}<br>Left/Right Ideology (DW-NOMINATE)=%{x}<br>Chamber=%{y}<extra></extra>",
         "hovertext": [
          "John Barrasso (Wyoming)",
          "Roger F. Wicker (Mississippi)",
          "Susan M. Collins (Maine)",
          "John Cornyn (Texas)",
          "Lindsey Graham (South Carolina)",
          "Mitch McConnell (Kentucky)",
          "James E. Risch (Idaho)",
          "Robert B. Aderholt (Alabama-4)",
          "Gus M. Bilirakis (Florida-12)",
          "Marsha Blackburn (Tennessee)",
          "John Boozman (Arkansas)",
          "Vern Buchanan (Florida-16)",
          "Larry Bucshon (Indiana-8)",
          "Michael C. Burgess (Texas-26)",
          "Ken Calvert (California-41)",
          "Shelley Moore Capito (West Virginia)",
          "John R. Carter (Texas-31)",
          "Bill Cassidy (Louisiana)",
          "Tom Cole (Oklahoma-4)",
          "Mike Crapo (Idaho)",
          "Eric A. \"Rick\" Crawford (Arkansas-1)",
          "Scott DesJarlais (Tennessee-4)",
          "Mario Diaz-Balart (Florida-26)",
          "Jeff Duncan (South Carolina-3)",
          "Charles J. \"Chuck\" Fleischmann (Tennessee-3)",
          "Virginia Foxx (North Carolina-5)",
          "Paul A. Gosar (Arizona-9)",
          "Kay Granger (Texas-12)",
          "Chuck Grassley (Iowa)",
          "Sam Graves (Missouri-6)",
          "H. Morgan Griffith (Virginia-9)",
          "Brett Guthrie (Kentucky-2)",
          "Andy Harris (Maryland-1)",
          "John Hoeven (North Dakota)",
          "Bill Huizenga (Michigan-4)",
          "Bill Johnson (Ohio-6)",
          "Ron Johnson (Wisconsin)",
          "Jim Jordan (Ohio-4)",
          "Mike Kelly (Pennsylvania-16)",
          "Doug Lamborn (Colorado-5)",
          "James Lankford (Oklahoma)",
          "Robert E. Latta (Ohio-5)",
          "Mike Lee (Utah)",
          "Frank D. Lucas (Oklahoma-3)",
          "Blaine Luetkemeyer (Missouri-3)",
          "Kevin McCarthy (California-20)",
          "Michael T. McCaul (Texas-10)",
          "Tom McClintock (California-5)",
          "Patrick T. McHenry (North Carolina-10)",
          "Cathy McMorris Rodgers (Washington-5)",
          "Jerry Moran (Kansas)",
          "Lisa Murkowski (Alaska)",
          "Rand Paul (Kentucky)",
          "Bill Posey (Florida-8)",
          "Harold Rogers (Kentucky-5)",
          "Mike Rogers (Alabama-3)",
          "Marco Rubio (Florida)",
          "Steve Scalise (Louisiana-1)",
          "David Schweikert (Arizona-1)",
          "Austin Scott (Georgia-8)",
          "Tim Scott (South Carolina)",
          "Michael K. Simpson (Idaho-2)",
          "Adrian Smith (Nebraska-3)",
          "Christopher H. Smith (New Jersey-4)",
          "Glenn Thompson (Pennsylvania-15)",
          "John Thune (South Dakota)",
          "Michael R. Turner (Ohio-10)",
          "Tim Walberg (Michigan-5)",
          "Daniel Webster (Florida-11)",
          "Joe Wilson (South Carolina-2)",
          "Robert J. Wittman (Virginia-1)",
          "Steve Womack (Arkansas-3)",
          "Todd Young (Indiana)",
          "Mark E. Amodei (Nevada-2)",
          "Thomas Massie (Kentucky-4)",
          "Tom Cotton (Arkansas)",
          "Doug LaMalfa (California-1)",
          "Andy Barr (Kentucky-6)",
          "Ann Wagner (Missouri-2)",
          "Steve Daines (Montana)",
          "Richard Hudson (North Carolina-9)",
          "Kevin Cramer (North Dakota)",
          "Deb Fischer (Nebraska)",
          "Brad R. Wenstrup (Ohio-2)",
          "David P. Joyce (Ohio-14)",
          "Markwayne Mullin (Oklahoma)",
          "Scott Perry (Pennsylvania-10)",
          "Ted Cruz (Texas)",
          "Randy K. Weber, Sr. (Texas-14)",
          "Roger Williams (Texas-25)",
          "Jason Smith (Missouri-8)",
          "Gary J. Palmer (Alabama-6)",
          "J. French Hill (Arkansas-2)",
          "Bruce Westerman (Arkansas-4)",
          "Ken Buck (Colorado-4)",
          "Earl L. \"Buddy\" Carter (Georgia-1)",
          "Barry Loudermilk (Georgia-11)",
          "Rick W. Allen (Georgia-12)",
          "Mike Bost (Illinois-12)",
          "Garret Graves (Louisiana-6)",
          "John R. Moolenaar (Michigan-2)",
          "Tom Emmer (Minnesota-6)",
          "David Rouzer (North Carolina-7)",
          "Elise M. Stefanik (New York-21)",
          "Brian Babin (Texas-36)",
          "Dan Newhouse (Washington-4)",
          "Glenn Grothman (Wisconsin-6)",
          "Alexander X. Mooney (West Virginia-2)",
          "Dan Sullivan (Alaska)",
          "Joni Ernst (Iowa)",
          "Thom Tillis (North Carolina)",
          "Mike Rounds (South Dakota)",
          "Trent Kelly (Mississippi-1)",
          "Darin LaHood (Illinois-16)",
          "Warren Davidson (Ohio-8)",
          "James Comer (Kentucky-1)",
          "John Kennedy (Louisiana)",
          "Andy Biggs (Arizona-5)",
          "Matt Gaetz (Florida-1)",
          "Neal P. Dunn (Florida-2)",
          "John H. Rutherford (Florida-5)",
          "Brian J. Mast (Florida-21)",
          "A. Drew Ferguson IV (Georgia-3)",
          "Jim Banks (Indiana-3)",
          "Roger Marshall (Kansas)",
          "Clay Higgins (Louisiana-3)",
          "Mike Johnson (Louisiana-4)",
          "Jack Bergman (Michigan-1)",
          "Ted Budd (North Carolina)",
          "Don Bacon (Nebraska-2)",
          "Brian K. Fitzpatrick (Pennsylvania-1)",
          "Lloyd Smucker (Pennsylvania-11)",
          "David Kustoff (Tennessee-8)",
          "Jodey C. Arrington (Texas-19)",
          "Mike Gallagher (Wisconsin-8)",
          "Ron Estes (Kansas-4)",
          "Ralph Norman (South Carolina-5)",
          "John R. Curtis (Utah-3)",
          "Cindy Hyde-Smith (Mississippi)",
          "Debbie Lesko (Arizona-8)",
          "Michael Cloud (Texas-27)",
          "Troy Balderson (Ohio-12)",
          "Kevin Hern (Oklahoma-1)",
          "Michael Waltz (Florida-6)",
          "W. Gregory Steube (Florida-17)",
          "Russ Fulcher (Idaho-1)",
          "James R. Baird (Indiana-4)",
          "Greg Pence (Indiana-6)",
          "Pete Stauber (Minnesota-8)",
          "Michael Guest (Mississippi-3)",
          "Kelly Armstrong (North Dakota)",
          "Jefferson Van Drew (New Jersey-2)",
          "Daniel Meuser (Pennsylvania-9)",
          "John Joyce (Pennsylvania-13)",
          "Guy Reschenthaler (Pennsylvania-14)",
          "William R. Timmons IV (South Carolina-4)",
          "Dusty Johnson (South Dakota)",
          "Tim Burchett (Tennessee-2)",
          "John W. Rose (Tennessee-6)",
          "Mark E. Green (Tennessee-7)",
          "Dan Crenshaw (Texas-2)",
          "Lance Gooden (Texas-5)",
          "Chip Roy (Texas-21)",
          "Ben Cline (Virginia-6)",
          "Bryan Steil (Wisconsin-1)",
          "Carol D. Miller (West Virginia-1)",
          "Rick Scott (Florida)",
          "Mike Braun (Indiana)",
          "Josh Hawley (Missouri)",
          "Mitt Romney (Utah)",
          "Dan Bishop (North Carolina-8)",
          "Gregory Murphy (North Carolina-3)",
          "Thomas P. Tiffany (Wisconsin-7)",
          "Mike Garcia (California-27)",
          "Cynthia M. Lummis (Wyoming)",
          "Darrell E. Issa (California-48)",
          "Pete Sessions (Texas-17)",
          "David G. Valadao (California-22)",
          "Tommy Tuberville (Alabama)",
          "Bill Hagerty (Tennessee)",
          "Jerry L. Carl (Alabama-1)",
          "Barry Moore (Alabama-2)",
          "Jay Obernolte (California-23)",
          "Young Kim (California-40)",
          "Michelle Steel (California-45)",
          "Lauren Boebert (Colorado-3)",
          "Kat Cammack (Florida-3)",
          "C. Scott Franklin (Florida-18)",
          "Byron Donalds (Florida-19)",
          "Carlos A. Gimenez (Florida-28)",
          "Maria Elvira Salazar (Florida-27)",
          "Andrew S. Clyde (Georgia-9)",
          "Marjorie Taylor Greene (Georgia-14)",
          "Ashley Hinson (Iowa-2)",
          "Mariannette Miller-Meeks (Iowa-1)",
          "Randy Feenstra (Iowa-4)",
          "Mary E. Miller (Illinois-15)",
          "Victoria Spartz (Indiana-5)",
          "Tracey Mann (Kansas-1)",
          "Jake LaTurner (Kansas-2)",
          "Lisa C. McClain (Michigan-9)",
          "Michelle Fischbach (Minnesota-7)",
          "Matthew M. Rosendale Sr. (Montana-2)",
          "Andrew R. Garbarino (New York-2)",
          "Nicole Malliotakis (New York-11)",
          "Stephanie I. Bice (Oklahoma-5)",
          "Cliff Bentz (Oregon-2)",
          "Nancy Mace (South Carolina-1)",
          "Diana Harshbarger (Tennessee-1)",
          "Pat Fallon (Texas-4)",
          "August Pfluger (Texas-11)",
          "Ronny Jackson (Texas-13)",
          "Troy E. Nehls (Texas-22)",
          "Tony Gonzales (Texas-23)",
          "Beth Van Duyne (Texas-24)",
          "Blake D. Moore (Utah-1)",
          "Burgess Owens (Utah-4)",
          "Bob Good (Virginia-5)",
          "Scott Fitzgerald (Wisconsin-5)",
          "Claudia Tenney (New York-24)",
          "Julia Letlow (Louisiana-5)",
          "Jake Ellzey (Texas-6)",
          "Mike Carey (Ohio-15)",
          "Mike Flood (Nebraska-1)",
          "Brad Finstad (Minnesota-1)",
          "Rudy Yakym III (Indiana-2)",
          "Ryan K. Zinke (Montana-1)",
          "Katie Boyd Britt (Alabama)",
          "Eric Schmitt (Missouri)",
          "J. D. Vance (Ohio)",
          "Dale W. Strong (Alabama-5)",
          "Elijah Crane (Arizona-2)",
          "Juan Ciscomani (Arizona-6)",
          "Kevin Kiley (California-3)",
          "John S. Duarte (California-13)",
          "Aaron Bean (Florida-4)",
          "Cory Mills (Florida-7)",
          "Anna Paulina Luna (Florida-13)",
          "Laurel M. Lee (Florida-15)",
          "Richard McCormick (Georgia-6)",
          "Zachary Nunn (Iowa-3)",
          "Erin Houchin (Indiana-9)",
          "John James (Michigan-10)",
          "Mark Alford (Missouri-4)",
          "Eric Burlison (Missouri-7)",
          "Mike Ezell (Mississippi-4)",
          "Chuck Edwards (North Carolina-11)",
          "Thomas H. Kean, Jr. (New Jersey-7)",
          "Nick LaLota (New York-1)",
          "George Santos (New York-3)",
          "Anthony D'Esposito (New York-4)",
          "Michael Lawler (New York-17)",
          "Marcus J. Molinaro (New York-19)",
          "Brandon Williams (New York-22)",
          "Nicholas A. Langworthy (New York-23)",
          "Max L. Miller (Ohio-7)",
          "Josh Brecheen (Oklahoma-2)",
          "Lori Chavez-DeRemer (Oregon-5)",
          "Russell Fry (South Carolina-7)",
          "Andrew Ogles (Tennessee-5)",
          "Nathaniel Moran (Texas-1)",
          "Keith Self (Texas-3)",
          "Morgan Luttrell (Texas-8)",
          "Monica De La Cruz (Texas-15)",
          "Wesley Hunt (Texas-38)",
          "Jennifer Kiggans (Virginia-2)",
          "Derrick Van Orden (Wisconsin-3)",
          "Harriet M. Hageman (Wyoming)",
          "Pete Ricketts (Nebraska)"
         ],
         "legendgroup": "Republican",
         "marker": {
          "color": "red",
          "opacity": 0.1,
          "symbol": "circle"
         },
         "mode": "markers",
         "name": "Republican",
         "orientation": "h",
         "showlegend": true,
         "type": "scatter",
         "x": [
          0.536,
          0.376,
          0.117,
          0.472,
          0.371,
          0.404,
          0.548,
          0.397,
          0.414,
          0.628,
          0.425,
          0.361,
          0.392,
          0.572,
          0.344,
          0.277,
          0.484,
          0.469,
          0.326,
          0.5,
          0.455,
          0.578,
          0.286,
          0.701,
          0.449,
          0.624,
          0.699,
          0.403,
          0.357,
          0.443,
          0.526,
          0.42,
          0.672,
          0.391,
          0.544,
          0.432,
          0.631,
          0.717,
          0.371,
          0.667,
          0.606,
          0.51,
          0.891,
          0.363,
          0.449,
          0.459,
          0.417,
          0.685,
          0.528,
          0.426,
          0.418,
          0.21,
          0.891,
          0.529,
          0.336,
          0.374,
          0.613,
          0.558,
          0.561,
          0.542,
          0.629,
          0.299,
          0.511,
          0.176,
          0.329,
          0.429,
          0.271,
          0.504,
          0.528,
          0.529,
          0.446,
          0.349,
          0.448,
          0.384,
          0.678,
          0.596,
          0.536,
          0.483,
          0.396,
          0.586,
          0.535,
          0.4,
          0.463,
          0.526,
          0.257,
          0.542,
          0.675,
          0.806,
          0.73,
          0.593,
          0.579,
          0.678,
          0.438,
          0.549,
          0.695,
          0.555,
          0.684,
          0.697,
          0.365,
          0.427,
          0.451,
          0.462,
          0.559,
          0.286,
          0.709,
          0.321,
          0.599,
          0.56,
          0.482,
          0.538,
          0.4,
          0.353,
          0.635,
          0.462,
          0.663,
          0.593,
          0.551,
          0.827,
          0.6,
          0.508,
          0.435,
          0.459,
          0.601,
          0.65,
          0.593,
          0.626,
          0.566,
          0.432,
          0.629,
          0.305,
          0.145,
          0.444,
          0.537,
          0.642,
          0.425,
          0.641,
          0.849,
          0.456,
          0.45,
          0.619,
          0.682,
          0.446,
          0.685,
          0.431,
          0.69,
          0.639,
          0.45,
          0.531,
          0.367,
          0.526,
          0.46,
          0.378,
          0.504,
          0.569,
          0.422,
          0.596,
          0.457,
          0.662,
          0.674,
          0.673,
          0.423,
          0.746,
          0.8,
          0.719,
          0.41,
          0.515,
          0.666,
          0.8,
          0.758,
          0.289,
          0.711,
          0.499,
          0.641,
          0.381,
          0.694,
          0.486,
          0.59,
          0.261,
          0.936,
          0.687,
          0.526,
          0.64,
          0.31,
          0.263,
          0.353,
          0.757,
          0.587,
          0.605,
          0.642,
          0.335,
          0.275,
          0.834,
          0.8,
          0.346,
          0.308,
          0.461,
          0.827,
          0.459,
          0.628,
          0.467,
          0.543,
          0.532,
          0.743,
          0.255,
          0.328,
          0.423,
          0.487,
          0.341,
          0.681,
          0.725,
          0.643,
          0.766,
          0.625,
          0.313,
          0.587,
          0.371,
          0.465,
          0.8,
          0.607,
          0.449,
          0.411,
          0.526,
          0.429,
          0.485,
          0.544,
          0.495,
          0.449,
          0.558,
          0.961,
          0.84,
          0.511,
          0.689,
          0.316,
          0.274,
          0.363,
          0.656,
          0.579,
          0.61,
          0.38,
          0.865,
          0.285,
          0.637,
          0.318,
          0.58,
          0.709,
          0.557,
          0.48,
          0.207,
          0.263,
          0.468,
          0.231,
          0.202,
          0.223,
          0.352,
          0.424,
          0.375,
          0.927,
          0.176,
          0.541,
          0.771,
          0.632,
          0.814,
          0.677,
          0.501,
          0.588,
          0.243,
          0.381,
          0.688,
          0.369
         ],
         "xaxis": "x",
         "y": [
          true,
          true,
          true,
          true,
          true,
          true,
          true,
          false,
          false,
          true,
          true,
          false,
          false,
          false,
          false,
          true,
          false,
          true,
          false,
          true,
          false,
          false,
          false,
          false,
          false,
          false,
          false,
          false,
          true,
          false,
          false,
          false,
          false,
          true,
          false,
          false,
          true,
          false,
          false,
          false,
          true,
          false,
          true,
          false,
          false,
          false,
          false,
          false,
          false,
          false,
          true,
          true,
          true,
          false,
          false,
          false,
          true,
          false,
          false,
          false,
          true,
          false,
          false,
          false,
          false,
          true,
          false,
          false,
          false,
          false,
          false,
          false,
          true,
          false,
          false,
          true,
          false,
          false,
          false,
          true,
          false,
          true,
          true,
          false,
          false,
          true,
          false,
          true,
          false,
          false,
          false,
          false,
          false,
          false,
          false,
          false,
          false,
          false,
          false,
          false,
          false,
          false,
          false,
          false,
          false,
          false,
          false,
          false,
          true,
          true,
          true,
          true,
          false,
          false,
          false,
          false,
          true,
          false,
          false,
          false,
          false,
          false,
          false,
          false,
          true,
          false,
          false,
          false,
          true,
          false,
          false,
          false,
          false,
          false,
          false,
          false,
          false,
          false,
          true,
          false,
          false,
          false,
          false,
          false,
          false,
          false,
          false,
          false,
          false,
          false,
          true,
          false,
          false,
          false,
          false,
          false,
          true,
          false,
          false,
          false,
          false,
          false,
          false,
          false,
          false,
          false,
          true,
          true,
          true,
          true,
          false,
          false,
          false,
          false,
          true,
          false,
          false,
          false,
          true,
          true,
          false,
          false,
          false,
          false,
          false,
          false,
          false,
          false,
          false,
          false,
          false,
          false,
          false,
          false,
          false,
          false,
          false,
          false,
          false,
          false,
          false,
          false,
          false,
          false,
          false,
          false,
          false,
          false,
          false,
          false,
          false,
          false,
          false,
          false,
          false,
          false,
          false,
          false,
          false,
          false,
          false,
          false,
          false,
          false,
          false,
          false,
          false,
          true,
          true,
          true,
          false,
          false,
          false,
          false,
          false,
          false,
          false,
          false,
          false,
          false,
          false,
          false,
          false,
          false,
          false,
          false,
          false,
          false,
          false,
          false,
          false,
          false,
          false,
          false,
          false,
          false,
          false,
          false,
          false,
          false,
          false,
          false,
          false,
          false,
          false,
          false,
          false,
          true,
          true
         ],
         "yaxis": "y"
        },
        {
         "customdata": [
          [
           "Republican"
          ]
         ],
         "hovertemplate": "<b>%{hovertext}</b><br><br>Political Party=%{customdata[0]}<br>Left/Right Ideology (DW-NOMINATE)=%{x}<br>Chamber=%{y}<extra></extra>",
         "hovertext": [
          "Bob Good (Virginia-5)"
         ],
         "legendgroup": "Republican",
         "marker": {
          "color": "red",
          "line": {
           "color": "DarkSlateGrey",
           "width": 2
          },
          "size": 8,
          "symbol": "star"
         },
         "mode": "markers",
         "name": "Republican",
         "orientation": "h",
         "showlegend": false,
         "type": "scatter",
         "x": [
          0.8
         ],
         "xaxis": "x",
         "y": [
          false
         ],
         "yaxis": "y"
        }
       ],
       "layout": {
        "height": 300,
        "legend": {
         "title": {
          "text": "Political Party"
         },
         "tracegroupgap": 0
        },
        "template": {
         "data": {
          "bar": [
           {
            "error_x": {
             "color": "#2a3f5f"
            },
            "error_y": {
             "color": "#2a3f5f"
            },
            "marker": {
             "line": {
              "color": "#E5ECF6",
              "width": 0.5
             },
             "pattern": {
              "fillmode": "overlay",
              "size": 10,
              "solidity": 0.2
             }
            },
            "type": "bar"
           }
          ],
          "barpolar": [
           {
            "marker": {
             "line": {
              "color": "#E5ECF6",
              "width": 0.5
             },
             "pattern": {
              "fillmode": "overlay",
              "size": 10,
              "solidity": 0.2
             }
            },
            "type": "barpolar"
           }
          ],
          "carpet": [
           {
            "aaxis": {
             "endlinecolor": "#2a3f5f",
             "gridcolor": "white",
             "linecolor": "white",
             "minorgridcolor": "white",
             "startlinecolor": "#2a3f5f"
            },
            "baxis": {
             "endlinecolor": "#2a3f5f",
             "gridcolor": "white",
             "linecolor": "white",
             "minorgridcolor": "white",
             "startlinecolor": "#2a3f5f"
            },
            "type": "carpet"
           }
          ],
          "choropleth": [
           {
            "colorbar": {
             "outlinewidth": 0,
             "ticks": ""
            },
            "type": "choropleth"
           }
          ],
          "contour": [
           {
            "colorbar": {
             "outlinewidth": 0,
             "ticks": ""
            },
            "colorscale": [
             [
              0,
              "#0d0887"
             ],
             [
              0.1111111111111111,
              "#46039f"
             ],
             [
              0.2222222222222222,
              "#7201a8"
             ],
             [
              0.3333333333333333,
              "#9c179e"
             ],
             [
              0.4444444444444444,
              "#bd3786"
             ],
             [
              0.5555555555555556,
              "#d8576b"
             ],
             [
              0.6666666666666666,
              "#ed7953"
             ],
             [
              0.7777777777777778,
              "#fb9f3a"
             ],
             [
              0.8888888888888888,
              "#fdca26"
             ],
             [
              1,
              "#f0f921"
             ]
            ],
            "type": "contour"
           }
          ],
          "contourcarpet": [
           {
            "colorbar": {
             "outlinewidth": 0,
             "ticks": ""
            },
            "type": "contourcarpet"
           }
          ],
          "heatmap": [
           {
            "colorbar": {
             "outlinewidth": 0,
             "ticks": ""
            },
            "colorscale": [
             [
              0,
              "#0d0887"
             ],
             [
              0.1111111111111111,
              "#46039f"
             ],
             [
              0.2222222222222222,
              "#7201a8"
             ],
             [
              0.3333333333333333,
              "#9c179e"
             ],
             [
              0.4444444444444444,
              "#bd3786"
             ],
             [
              0.5555555555555556,
              "#d8576b"
             ],
             [
              0.6666666666666666,
              "#ed7953"
             ],
             [
              0.7777777777777778,
              "#fb9f3a"
             ],
             [
              0.8888888888888888,
              "#fdca26"
             ],
             [
              1,
              "#f0f921"
             ]
            ],
            "type": "heatmap"
           }
          ],
          "heatmapgl": [
           {
            "colorbar": {
             "outlinewidth": 0,
             "ticks": ""
            },
            "colorscale": [
             [
              0,
              "#0d0887"
             ],
             [
              0.1111111111111111,
              "#46039f"
             ],
             [
              0.2222222222222222,
              "#7201a8"
             ],
             [
              0.3333333333333333,
              "#9c179e"
             ],
             [
              0.4444444444444444,
              "#bd3786"
             ],
             [
              0.5555555555555556,
              "#d8576b"
             ],
             [
              0.6666666666666666,
              "#ed7953"
             ],
             [
              0.7777777777777778,
              "#fb9f3a"
             ],
             [
              0.8888888888888888,
              "#fdca26"
             ],
             [
              1,
              "#f0f921"
             ]
            ],
            "type": "heatmapgl"
           }
          ],
          "histogram": [
           {
            "marker": {
             "pattern": {
              "fillmode": "overlay",
              "size": 10,
              "solidity": 0.2
             }
            },
            "type": "histogram"
           }
          ],
          "histogram2d": [
           {
            "colorbar": {
             "outlinewidth": 0,
             "ticks": ""
            },
            "colorscale": [
             [
              0,
              "#0d0887"
             ],
             [
              0.1111111111111111,
              "#46039f"
             ],
             [
              0.2222222222222222,
              "#7201a8"
             ],
             [
              0.3333333333333333,
              "#9c179e"
             ],
             [
              0.4444444444444444,
              "#bd3786"
             ],
             [
              0.5555555555555556,
              "#d8576b"
             ],
             [
              0.6666666666666666,
              "#ed7953"
             ],
             [
              0.7777777777777778,
              "#fb9f3a"
             ],
             [
              0.8888888888888888,
              "#fdca26"
             ],
             [
              1,
              "#f0f921"
             ]
            ],
            "type": "histogram2d"
           }
          ],
          "histogram2dcontour": [
           {
            "colorbar": {
             "outlinewidth": 0,
             "ticks": ""
            },
            "colorscale": [
             [
              0,
              "#0d0887"
             ],
             [
              0.1111111111111111,
              "#46039f"
             ],
             [
              0.2222222222222222,
              "#7201a8"
             ],
             [
              0.3333333333333333,
              "#9c179e"
             ],
             [
              0.4444444444444444,
              "#bd3786"
             ],
             [
              0.5555555555555556,
              "#d8576b"
             ],
             [
              0.6666666666666666,
              "#ed7953"
             ],
             [
              0.7777777777777778,
              "#fb9f3a"
             ],
             [
              0.8888888888888888,
              "#fdca26"
             ],
             [
              1,
              "#f0f921"
             ]
            ],
            "type": "histogram2dcontour"
           }
          ],
          "mesh3d": [
           {
            "colorbar": {
             "outlinewidth": 0,
             "ticks": ""
            },
            "type": "mesh3d"
           }
          ],
          "parcoords": [
           {
            "line": {
             "colorbar": {
              "outlinewidth": 0,
              "ticks": ""
             }
            },
            "type": "parcoords"
           }
          ],
          "pie": [
           {
            "automargin": true,
            "type": "pie"
           }
          ],
          "scatter": [
           {
            "fillpattern": {
             "fillmode": "overlay",
             "size": 10,
             "solidity": 0.2
            },
            "type": "scatter"
           }
          ],
          "scatter3d": [
           {
            "line": {
             "colorbar": {
              "outlinewidth": 0,
              "ticks": ""
             }
            },
            "marker": {
             "colorbar": {
              "outlinewidth": 0,
              "ticks": ""
             }
            },
            "type": "scatter3d"
           }
          ],
          "scattercarpet": [
           {
            "marker": {
             "colorbar": {
              "outlinewidth": 0,
              "ticks": ""
             }
            },
            "type": "scattercarpet"
           }
          ],
          "scattergeo": [
           {
            "marker": {
             "colorbar": {
              "outlinewidth": 0,
              "ticks": ""
             }
            },
            "type": "scattergeo"
           }
          ],
          "scattergl": [
           {
            "marker": {
             "colorbar": {
              "outlinewidth": 0,
              "ticks": ""
             }
            },
            "type": "scattergl"
           }
          ],
          "scattermapbox": [
           {
            "marker": {
             "colorbar": {
              "outlinewidth": 0,
              "ticks": ""
             }
            },
            "type": "scattermapbox"
           }
          ],
          "scatterpolar": [
           {
            "marker": {
             "colorbar": {
              "outlinewidth": 0,
              "ticks": ""
             }
            },
            "type": "scatterpolar"
           }
          ],
          "scatterpolargl": [
           {
            "marker": {
             "colorbar": {
              "outlinewidth": 0,
              "ticks": ""
             }
            },
            "type": "scatterpolargl"
           }
          ],
          "scatterternary": [
           {
            "marker": {
             "colorbar": {
              "outlinewidth": 0,
              "ticks": ""
             }
            },
            "type": "scatterternary"
           }
          ],
          "surface": [
           {
            "colorbar": {
             "outlinewidth": 0,
             "ticks": ""
            },
            "colorscale": [
             [
              0,
              "#0d0887"
             ],
             [
              0.1111111111111111,
              "#46039f"
             ],
             [
              0.2222222222222222,
              "#7201a8"
             ],
             [
              0.3333333333333333,
              "#9c179e"
             ],
             [
              0.4444444444444444,
              "#bd3786"
             ],
             [
              0.5555555555555556,
              "#d8576b"
             ],
             [
              0.6666666666666666,
              "#ed7953"
             ],
             [
              0.7777777777777778,
              "#fb9f3a"
             ],
             [
              0.8888888888888888,
              "#fdca26"
             ],
             [
              1,
              "#f0f921"
             ]
            ],
            "type": "surface"
           }
          ],
          "table": [
           {
            "cells": {
             "fill": {
              "color": "#EBF0F8"
             },
             "line": {
              "color": "white"
             }
            },
            "header": {
             "fill": {
              "color": "#C8D4E3"
             },
             "line": {
              "color": "white"
             }
            },
            "type": "table"
           }
          ]
         },
         "layout": {
          "annotationdefaults": {
           "arrowcolor": "#2a3f5f",
           "arrowhead": 0,
           "arrowwidth": 1
          },
          "autotypenumbers": "strict",
          "coloraxis": {
           "colorbar": {
            "outlinewidth": 0,
            "ticks": ""
           }
          },
          "colorscale": {
           "diverging": [
            [
             0,
             "#8e0152"
            ],
            [
             0.1,
             "#c51b7d"
            ],
            [
             0.2,
             "#de77ae"
            ],
            [
             0.3,
             "#f1b6da"
            ],
            [
             0.4,
             "#fde0ef"
            ],
            [
             0.5,
             "#f7f7f7"
            ],
            [
             0.6,
             "#e6f5d0"
            ],
            [
             0.7,
             "#b8e186"
            ],
            [
             0.8,
             "#7fbc41"
            ],
            [
             0.9,
             "#4d9221"
            ],
            [
             1,
             "#276419"
            ]
           ],
           "sequential": [
            [
             0,
             "#0d0887"
            ],
            [
             0.1111111111111111,
             "#46039f"
            ],
            [
             0.2222222222222222,
             "#7201a8"
            ],
            [
             0.3333333333333333,
             "#9c179e"
            ],
            [
             0.4444444444444444,
             "#bd3786"
            ],
            [
             0.5555555555555556,
             "#d8576b"
            ],
            [
             0.6666666666666666,
             "#ed7953"
            ],
            [
             0.7777777777777778,
             "#fb9f3a"
            ],
            [
             0.8888888888888888,
             "#fdca26"
            ],
            [
             1,
             "#f0f921"
            ]
           ],
           "sequentialminus": [
            [
             0,
             "#0d0887"
            ],
            [
             0.1111111111111111,
             "#46039f"
            ],
            [
             0.2222222222222222,
             "#7201a8"
            ],
            [
             0.3333333333333333,
             "#9c179e"
            ],
            [
             0.4444444444444444,
             "#bd3786"
            ],
            [
             0.5555555555555556,
             "#d8576b"
            ],
            [
             0.6666666666666666,
             "#ed7953"
            ],
            [
             0.7777777777777778,
             "#fb9f3a"
            ],
            [
             0.8888888888888888,
             "#fdca26"
            ],
            [
             1,
             "#f0f921"
            ]
           ]
          },
          "colorway": [
           "#636efa",
           "#EF553B",
           "#00cc96",
           "#ab63fa",
           "#FFA15A",
           "#19d3f3",
           "#FF6692",
           "#B6E880",
           "#FF97FF",
           "#FECB52"
          ],
          "font": {
           "color": "#2a3f5f"
          },
          "geo": {
           "bgcolor": "white",
           "lakecolor": "white",
           "landcolor": "#E5ECF6",
           "showlakes": true,
           "showland": true,
           "subunitcolor": "white"
          },
          "hoverlabel": {
           "align": "left"
          },
          "hovermode": "closest",
          "mapbox": {
           "style": "light"
          },
          "paper_bgcolor": "white",
          "plot_bgcolor": "#E5ECF6",
          "polar": {
           "angularaxis": {
            "gridcolor": "white",
            "linecolor": "white",
            "ticks": ""
           },
           "bgcolor": "#E5ECF6",
           "radialaxis": {
            "gridcolor": "white",
            "linecolor": "white",
            "ticks": ""
           }
          },
          "scene": {
           "xaxis": {
            "backgroundcolor": "#E5ECF6",
            "gridcolor": "white",
            "gridwidth": 2,
            "linecolor": "white",
            "showbackground": true,
            "ticks": "",
            "zerolinecolor": "white"
           },
           "yaxis": {
            "backgroundcolor": "#E5ECF6",
            "gridcolor": "white",
            "gridwidth": 2,
            "linecolor": "white",
            "showbackground": true,
            "ticks": "",
            "zerolinecolor": "white"
           },
           "zaxis": {
            "backgroundcolor": "#E5ECF6",
            "gridcolor": "white",
            "gridwidth": 2,
            "linecolor": "white",
            "showbackground": true,
            "ticks": "",
            "zerolinecolor": "white"
           }
          },
          "shapedefaults": {
           "line": {
            "color": "#2a3f5f"
           }
          },
          "ternary": {
           "aaxis": {
            "gridcolor": "white",
            "linecolor": "white",
            "ticks": ""
           },
           "baxis": {
            "gridcolor": "white",
            "linecolor": "white",
            "ticks": ""
           },
           "bgcolor": "#E5ECF6",
           "caxis": {
            "gridcolor": "white",
            "linecolor": "white",
            "ticks": ""
           }
          },
          "title": {
           "x": 0.05
          },
          "xaxis": {
           "automargin": true,
           "gridcolor": "white",
           "linecolor": "white",
           "ticks": "",
           "title": {
            "standoff": 15
           },
           "zerolinecolor": "white",
           "zerolinewidth": 2
          },
          "yaxis": {
           "automargin": true,
           "gridcolor": "white",
           "linecolor": "white",
           "ticks": "",
           "title": {
            "standoff": 15
           },
           "zerolinecolor": "white",
           "zerolinewidth": 2
          }
         }
        },
        "title": {
         "text": "Ideological Placements in Congress",
         "x": 0.5
        },
        "width": 600,
        "xaxis": {
         "anchor": "y",
         "domain": [
          0,
          1
         ],
         "range": [
          -1,
          1
         ],
         "ticktext": [
          "Extreme left",
          "Moderate left",
          "Centrist",
          "Moderate right",
          "Extreme right"
         ],
         "tickvals": [
          -1,
          -0.5,
          0,
          0.5,
          1
         ],
         "title": {
          "text": "Left/Right Ideology (DW-NOMINATE)"
         },
         "type": "linear"
        },
        "yaxis": {
         "anchor": "x",
         "domain": [
          0,
          1
         ],
         "range": [
          -0.5,
          1.5
         ],
         "ticktext": [
          "Senate",
          "House of Representatives"
         ],
         "tickvals": [
          0,
          1
         ],
         "title": {
          "text": "Chamber"
         },
         "type": "category"
        }
       }
      },
      "image/png": "[encoded data removed]",
      "text/html": [
       "<div>                            <div id=\"55eb0b65-3091-4c15-bc67-a6912a1a615b\" class=\"plotly-graph-div\" style=\"height:300px; width:600px;\"></div>            <script type=\"text/javascript\">                require([\"plotly\"], function(Plotly) {                    window.PLOTLYENV=window.PLOTLYENV || {};                                    if (document.getElementById(\"55eb0b65-3091-4c15-bc67-a6912a1a615b\")) {                    Plotly.newPlot(                        \"55eb0b65-3091-4c15-bc67-a6912a1a615b\",                        [{\"customdata\":[[\"Democrat\"],[\"Democrat\"],[\"Democrat\"],[\"Democrat\"],[\"Democrat\"],[\"Democrat\"],[\"Democrat\"],[\"Democrat\"],[\"Democrat\"],[\"Democrat\"],[\"Democrat\"],[\"Democrat\"],[\"Democrat\"],[\"Democrat\"],[\"Democrat\"],[\"Democrat\"],[\"Democrat\"],[\"Democrat\"],[\"Democrat\"],[\"Democrat\"],[\"Democrat\"],[\"Democrat\"],[\"Democrat\"],[\"Democrat\"],[\"Democrat\"],[\"Democrat\"],[\"Democrat\"],[\"Democrat\"],[\"Democrat\"],[\"Democrat\"],[\"Democrat\"],[\"Democrat\"],[\"Democrat\"],[\"Democrat\"],[\"Democrat\"],[\"Democrat\"],[\"Democrat\"],[\"Democrat\"],[\"Democrat\"],[\"Democrat\"],[\"Democrat\"],[\"Democrat\"],[\"Democrat\"],[\"Democrat\"],[\"Democrat\"],[\"Democrat\"],[\"Democrat\"],[\"Democrat\"],[\"Democrat\"],[\"Democrat\"],[\"Democrat\"],[\"Democrat\"],[\"Democrat\"],[\"Democrat\"],[\"Democrat\"],[\"Democrat\"],[\"Democrat\"],[\"Democrat\"],[\"Democrat\"],[\"Democrat\"],[\"Democrat\"],[\"Democrat\"],[\"Democrat\"],[\"Democrat\"],[\"Democrat\"],[\"Democrat\"],[\"Democrat\"],[\"Democrat\"],[\"Democrat\"],[\"Democrat\"],[\"Democrat\"],[\"Democrat\"],[\"Democrat\"],[\"Democrat\"],[\"Democrat\"],[\"Democrat\"],[\"Democrat\"],[\"Democrat\"],[\"Democrat\"],[\"Democrat\"],[\"Democrat\"],[\"Democrat\"],[\"Democrat\"],[\"Democrat\"],[\"Democrat\"],[\"Democrat\"],[\"Democrat\"],[\"Democrat\"],[\"Democrat\"],[\"Democrat\"],[\"Democrat\"],[\"Democrat\"],[\"Democrat\"],[\"Democrat\"],[\"Democrat\"],[\"Democrat\"],[\"Democrat\"],[\"Democrat\"],[\"Democrat\"],[\"Democrat\"],[\"Democrat\"],[\"Democrat\"],[\"Democrat\"],[\"Democrat\"],[\"Democrat\"],[\"Democrat\"],[\"Democrat\"],[\"Democrat\"],[\"Democrat\"],[\"Democrat\"],[\"Democrat\"],[\"Democrat\"],[\"Democrat\"],[\"Democrat\"],[\"Democrat\"],[\"Democrat\"],[\"Democrat\"],[\"Democrat\"],[\"Democrat\"],[\"Democrat\"],[\"Democrat\"],[\"Democrat\"],[\"Democrat\"],[\"Democrat\"],[\"Democrat\"],[\"Democrat\"],[\"Democrat\"],[\"Democrat\"],[\"Democrat\"],[\"Democrat\"],[\"Democrat\"],[\"Democrat\"],[\"Democrat\"],[\"Democrat\"],[\"Democrat\"],[\"Democrat\"],[\"Democrat\"],[\"Democrat\"],[\"Democrat\"],[\"Democrat\"],[\"Democrat\"],[\"Democrat\"],[\"Democrat\"],[\"Democrat\"],[\"Democrat\"],[\"Democrat\"],[\"Democrat\"],[\"Democrat\"],[\"Democrat\"],[\"Democrat\"],[\"Democrat\"],[\"Democrat\"],[\"Democrat\"],[\"Democrat\"],[\"Democrat\"],[\"Democrat\"],[\"Democrat\"],[\"Democrat\"],[\"Democrat\"],[\"Democrat\"],[\"Democrat\"],[\"Democrat\"],[\"Democrat\"],[\"Democrat\"],[\"Democrat\"],[\"Democrat\"],[\"Democrat\"],[\"Democrat\"],[\"Democrat\"],[\"Democrat\"],[\"Democrat\"],[\"Democrat\"],[\"Democrat\"],[\"Democrat\"],[\"Democrat\"],[\"Democrat\"],[\"Democrat\"],[\"Democrat\"],[\"Democrat\"],[\"Democrat\"],[\"Democrat\"],[\"Democrat\"],[\"Democrat\"],[\"Democrat\"],[\"Democrat\"],[\"Democrat\"],[\"Democrat\"],[\"Democrat\"],[\"Democrat\"],[\"Democrat\"],[\"Democrat\"],[\"Democrat\"],[\"Democrat\"],[\"Democrat\"],[\"Democrat\"],[\"Democrat\"],[\"Democrat\"],[\"Democrat\"],[\"Democrat\"],[\"Democrat\"],[\"Democrat\"],[\"Democrat\"],[\"Democrat\"],[\"Democrat\"],[\"Democrat\"],[\"Democrat\"],[\"Democrat\"],[\"Democrat\"],[\"Democrat\"],[\"Democrat\"],[\"Democrat\"],[\"Democrat\"],[\"Democrat\"],[\"Democrat\"],[\"Democrat\"],[\"Democrat\"],[\"Democrat\"],[\"Democrat\"],[\"Democrat\"],[\"Democrat\"],[\"Democrat\"],[\"Democrat\"],[\"Democrat\"],[\"Democrat\"],[\"Democrat\"],[\"Democrat\"],[\"Democrat\"],[\"Democrat\"],[\"Democrat\"],[\"Democrat\"],[\"Democrat\"],[\"Democrat\"],[\"Democrat\"],[\"Democrat\"],[\"Democrat\"],[\"Democrat\"],[\"Democrat\"],[\"Democrat\"],[\"Democrat\"],[\"Democrat\"],[\"Democrat\"],[\"Democrat\"],[\"Democrat\"],[\"Democrat\"],[\"Democrat\"],[\"Democrat\"],[\"Democrat\"],[\"Democrat\"],[\"Democrat\"],[\"Democrat\"],[\"Democrat\"],[\"Democrat\"],[\"Democrat\"],[\"Democrat\"],[\"Democrat\"],[\"Democrat\"],[\"Democrat\"],[\"Democrat\"]],\"hovertemplate\":\"\\u003cb\\u003e%{hovertext}\\u003c\\u002fb\\u003e\\u003cbr\\u003e\\u003cbr\\u003ePolitical Party=%{customdata[0]}\\u003cbr\\u003eLeft\\u002fRight Ideology (DW-NOMINATE)=%{x}\\u003cbr\\u003eChamber=%{y}\\u003cextra\\u003e\\u003c\\u002fextra\\u003e\",\"hovertext\":[\"Sherrod Brown (Ohio)\",\"Maria Cantwell (Washington)\",\"Benjamin L. Cardin (Maryland)\",\"Thomas R. Carper (Delaware)\",\"Robert P. Casey Jr. (Pennsylvania)\",\"Amy Klobuchar (Minnesota)\",\"Robert Menendez (New Jersey)\",\"Debbie Stabenow (Michigan)\",\"Jon Tester (Montana)\",\"Sheldon Whitehouse (Rhode Island)\",\"Richard J. Durbin (Illinois)\",\"Jeff Merkley (Oregon)\",\"Jack Reed (Rhode Island)\",\"Jeanne Shaheen (New Hampshire)\",\"Mark R. Warner (Virginia)\",\"Kirsten E. Gillibrand (New York)\",\"Christopher A. Coons (Delaware)\",\"Joe Manchin III (West Virginia)\",\"Tammy Baldwin (Wisconsin)\",\"Michael F. Bennet (Colorado)\",\"Sanford D. Bishop, Jr. (Georgia-2)\",\"Earl Blumenauer (Oregon-3)\",\"Richard Blumenthal (Connecticut)\",\"Andre Carson (Indiana-7)\",\"Kathy Castor (Florida-14)\",\"Judy Chu (California-28)\",\"Yvette D. Clarke (New York-9)\",\"Emanuel Cleaver (Missouri-5)\",\"James E. Clyburn (South Carolina-6)\",\"Steve Cohen (Tennessee-9)\",\"Gerald E. Connolly (Virginia-11)\",\"Jim Costa (California-21)\",\"Joe Courtney (Connecticut-2)\",\"Henry Cuellar (Texas-28)\",\"Danny K. Davis (Illinois-7)\",\"Diana DeGette (Colorado-1)\",\"Rosa L. DeLauro (Connecticut-3)\",\"Lloyd Doggett (Texas-37)\",\"Anna G. Eshoo (California-16)\",\"John Garamendi (California-8)\",\"Al Green (Texas-9)\",\"Martin Heinrich (New Mexico)\",\"Brian Higgins (New York-26)\",\"James A. Himes (Connecticut-4)\",\"Mazie K. Hirono (Hawaii)\",\"Steny H. Hoyer (Maryland-5)\",\"Sheila Jackson Lee (Texas-18)\",\"Henry C. \\\"Hank\\\" Johnson, Jr. (Georgia-4)\",\"Marcy Kaptur (Ohio-9)\",\"William R. Keating (Massachusetts-9)\",\"Rick Larsen (Washington-2)\",\"John B. Larson (Connecticut-1)\",\"Barbara Lee (California-12)\",\"Zoe Lofgren (California-18)\",\"Ben Ray Lujan (New Mexico)\",\"Stephen F. Lynch (Massachusetts-8)\",\"Edward J. Markey (Massachusetts)\",\"Doris O. Matsui (California-7)\",\"Betty McCollum (Minnesota-4)\",\"James P. McGovern (Massachusetts-2)\",\"Gregory W. Meeks (New York-5)\",\"Gwen Moore (Wisconsin-4)\",\"Christopher Murphy (Connecticut)\",\"Patty Murray (Washington)\",\"Jerrold Nadler (New York-12)\",\"Grace F. Napolitano (California-31)\",\"Richard E. Neal (Massachusetts-1)\",\"Frank Pallone, Jr. (New Jersey-6)\",\"Bill Pascrell, Jr. (New Jersey-9)\",\"Nancy Pelosi (California-11)\",\"Gary C. Peters (Michigan)\",\"Chellie Pingree (Maine-1)\",\"Mike Quigley (Illinois-5)\",\"C. A. Dutch Ruppersberger (Maryland-2)\",\"John P. Sarbanes (Maryland-3)\",\"Janice D. Schakowsky (Illinois-9)\",\"Adam B. Schiff (California-30)\",\"Charles E. Schumer (New York)\",\"David Scott (Georgia-13)\",\"Robert C. \\\"Bobby\\\" Scott (Virginia-3)\",\"Terri A. Sewell (Alabama-7)\",\"Brad Sherman (California-32)\",\"Adam Smith (Washington-9)\",\"Linda T. S\\u00e1nchez (California-38)\",\"Bennie G. Thompson (Mississippi-2)\",\"Mike Thompson (California-4)\",\"Paul Tonko (New York-20)\",\"Chris Van Hollen (Maryland)\",\"Nydia M. Velazquez (New York-7)\",\"Debbie Wasserman Schultz (Florida-25)\",\"Maxine Waters (California-43)\",\"Peter Welch (Vermont)\",\"Frederica S. Wilson (Florida-24)\",\"Ron Wyden (Oregon)\",\"Suzanne Bonamici (Oregon-1)\",\"Suzan K. DelBene (Washington-1)\",\"Donald M. Payne, Jr. (New Jersey-10)\",\"Brian Schatz (Hawaii)\",\"Bill Foster (Illinois-11)\",\"Dina Titus (Nevada-1)\",\"Jared Huffman (California-2)\",\"Ami Bera (California-6)\",\"Eric Swalwell (California-14)\",\"Julia Brownley (California-26)\",\"Tony C\\u00e1rdenas (California-29)\",\"Raul Ruiz (California-25)\",\"Mark Takano (California-39)\",\"Juan Vargas (California-52)\",\"Scott H. Peters (California-50)\",\"Lois Frankel (Florida-22)\",\"Tammy Duckworth (Illinois)\",\"Elizabeth Warren (Massachusetts)\",\"Daniel T. Kildee (Michigan-8)\",\"Ann M. Kuster (New Hampshire-2)\",\"Grace Meng (New York-6)\",\"Hakeem S. Jeffries (New York-8)\",\"Joyce Beatty (Ohio-3)\",\"Matt Cartwright (Pennsylvania-8)\",\"Joaquin Castro (Texas-20)\",\"Marc A. Veasey (Texas-33)\",\"Tim Kaine (Virginia)\",\"Derek Kilmer (Washington-6)\",\"Mark Pocan (Wisconsin-2)\",\"Robin L. Kelly (Illinois-2)\",\"Cory A. Booker (New Jersey)\",\"Katherine M. Clark (Massachusetts-5)\",\"Donald Norcross (New Jersey-1)\",\"Alma S. Adams (North Carolina-12)\",\"Ruben Gallego (Arizona-3)\",\"Mark DeSaulnier (California-10)\",\"Pete Aguilar (California-33)\",\"Ted Lieu (California-36)\",\"Norma J. Torres (California-35)\",\"Seth Moulton (Massachusetts-6)\",\"Debbie Dingell (Michigan-6)\",\"Bonnie Watson Coleman (New Jersey-12)\",\"Brendan F. Boyle (Pennsylvania-2)\",\"Donald S. Beyer, Jr. (Virginia-8)\",\"Dwight Evans (Pennsylvania-3)\",\"Margaret Wood Hassan (New Hampshire)\",\"Catherine Cortez Masto (Nevada)\",\"Bradley Scott Schneider (Illinois-10)\",\"Ro Khanna (California-17)\",\"Jimmy Panetta (California-19)\",\"Salud O. Carbajal (California-24)\",\"Nanette Diaz Barragan (California-44)\",\"J. Luis Correa (California-46)\",\"Lisa Blunt Rochester (Delaware)\",\"Darren Soto (Florida-9)\",\"Raja Krishnamoorthi (Illinois-8)\",\"Jamie Raskin (Maryland-8)\",\"Josh Gottheimer (New Jersey-5)\",\"Jacky Rosen (Nevada)\",\"Adriano Espaillat (New York-13)\",\"Vicente Gonzalez (Texas-34)\",\"Pramila Jayapal (Washington-7)\",\"Jimmy Gomez (California-34)\",\"Tina Smith (Minnesota)\",\"Jason Crow (Colorado-6)\",\"Joseph D. Morelle (New York-25)\",\"Mary Gay Scanlon (Pennsylvania-5)\",\"Susan Wild (Pennsylvania-7)\",\"Ed Case (Hawaii-1)\",\"Steven Horsford (Nevada-4)\",\"Greg Stanton (Arizona-4)\",\"Josh Harder (California-9)\",\"Katie Porter (California-47)\",\"Mike Levin (California-49)\",\"Joe Neguse (Colorado-2)\",\"Jahana Hayes (Connecticut-5)\",\"Lucy McBath (Georgia-7)\",\"Jesus G. \\\"Chuy\\\" Garcia (Illinois-4)\",\"Sean Casten (Illinois-6)\",\"Lauren Underwood (Illinois-14)\",\"Sharice Davids (Kansas-3)\",\"Lori Trahan (Massachusetts-3)\",\"Ayanna Pressley (Massachusetts-7)\",\"David J. Trone (Maryland-6)\",\"Elissa Slotkin (Michigan-7)\",\"Haley M. Stevens (Michigan-11)\",\"Rashida Tlaib (Michigan-12)\",\"Angie Craig (Minnesota-2)\",\"Dean Phillips (Minnesota-3)\",\"Ilhan Omar (Minnesota-5)\",\"Chris Pappas (New Hampshire-1)\",\"Andy Kim (New Jersey-3)\",\"Mikie Sherrill (New Jersey-11)\",\"Susie Lee (Nevada-3)\",\"Alexandria Ocasio-Cortez (New York-14)\",\"Madeleine Dean (Pennsylvania-4)\",\"Chrissy Houlahan (Pennsylvania-6)\",\"Lizzie Fletcher (Texas-7)\",\"Veronica Escobar (Texas-16)\",\"Sylvia R. Garcia (Texas-29)\",\"Colin Z. Allred (Texas-32)\",\"Abigail Davis Spanberger (Virginia-7)\",\"Jennifer Wexton (Virginia-10)\",\"Kim Schrier (Washington-8)\",\"Jared F. Golden (Maine-2)\",\"Kweisi Mfume (Maryland-7)\",\"Mark Kelly (Arizona)\",\"John W. Hickenlooper (Colorado)\",\"Sara Jacobs (California-51)\",\"Nikema Williams (Georgia-5)\",\"Frank J. Mrvan (Indiana-1)\",\"Jake Auchincloss (Massachusetts-4)\",\"Cori Bush (Missouri-1)\",\"Deborah K. Ross (North Carolina-2)\",\"Kathy E. Manning (North Carolina-6)\",\"Teresa Leger Fernandez (New Mexico-3)\",\"Ritchie Torres (New York-15)\",\"Jamaal Bowman (New York-16)\",\"Marilyn Strickland (Washington-10)\",\"Alex Padilla (California)\",\"Jon Ossoff (Georgia)\",\"Raphael G. Warnock (Georgia)\",\"Troy Carter (Louisiana-2)\",\"Melanie Stansbury (New Mexico-1)\",\"Shontel M. Brown (Ohio-11)\",\"Sheila Cherfilus-McCormick (Florida-20)\",\"Mary Sattler Peltola (Alaska)\",\"Patrick Ryan (New York-18)\",\"John Fetterman (Pennsylvania)\",\"Kevin Mullin (California-15)\",\"Sydney Kamlager-Dove (California-37)\",\"Robert Garcia (California-42)\",\"Brittany Pettersen (Colorado-7)\",\"Yadira Caraveo (Colorado-8)\",\"Maxwell Frost (Florida-10)\",\"Jared Moskowitz (Florida-23)\",\"Jill N. Tokuda (Hawaii-2)\",\"Jonathan L. Jackson (Illinois-1)\",\"Delia C. Ramirez (Illinois-3)\",\"Nikki Budzinski (Illinois-13)\",\"Eric Sorensen (Illinois-17)\",\"Morgan McGarvey (Kentucky-3)\",\"Glenn Ivey (Maryland-4)\",\"Hillary J. Scholten (Michigan-3)\",\"Shri Thanedar (Michigan-13)\",\"Donald G. Davis (North Carolina-1)\",\"Valerie P. Foushee (North Carolina-4)\",\"Wiley Nickel (North Carolina-13)\",\"Jeff Jackson (North Carolina-14)\",\"Robert Menendez (New Jersey-8)\",\"Gabe Vasquez (New Mexico-2)\",\"Daniel S. Goldman (New York-10)\",\"Greg Landsman (Ohio-1)\",\"Emilia Strong Sykes (Ohio-13)\",\"Val T. Hoyle (Oregon-4)\",\"Andrea Salinas (Oregon-6)\",\"Summer L. Lee (Pennsylvania-12)\",\"Christopher R. Deluzio (Pennsylvania-17)\",\"Seth Magaziner (Rhode Island-2)\",\"Jasmine Crockett (Texas-30)\",\"Greg Casar (Texas-35)\",\"Becca Balint (Vermont)\",\"Marie Gluesenkamp Perez (Washington-3)\",\"Jennifer L. McClellan (Virginia-4)\"],\"legendgroup\":\"Democrat\",\"marker\":{\"color\":\"blue\",\"opacity\":0.1,\"symbol\":\"circle\"},\"mode\":\"markers\",\"name\":\"Democrat\",\"orientation\":\"h\",\"showlegend\":true,\"x\":[-0.427,-0.305,-0.32,-0.178,-0.313,-0.283,-0.366,-0.343,-0.215,-0.355,-0.348,-0.442,-0.367,-0.238,-0.205,-0.469,-0.232,-0.058,-0.492,-0.231,-0.284,-0.426,-0.436,-0.427,-0.438,-0.488,-0.61,-0.453,-0.465,-0.396,-0.306,-0.195,-0.343,-0.228,-0.486,-0.431,-0.414,-0.402,-0.38,-0.309,-0.44,-0.329,-0.347,-0.239,-0.513,-0.381,-0.459,-0.471,-0.348,-0.332,-0.364,-0.396,-0.677,-0.4,-0.368,-0.349,-0.514,-0.435,-0.417,-0.539,-0.415,-0.525,-0.272,-0.352,-0.508,-0.448,-0.417,-0.404,-0.368,-0.49,-0.246,-0.42,-0.323,-0.296,-0.466,-0.603,-0.35,-0.355,-0.304,-0.45,-0.396,-0.344,-0.288,-0.508,-0.517,-0.393,-0.418,-0.392,-0.546,-0.419,-0.656,-0.409,-0.48,-0.33,-0.394,-0.29,-0.523,-0.444,-0.232,-0.301,-0.43,-0.239,-0.362,-0.291,-0.39,-0.249,-0.464,-0.403,-0.187,-0.402,-0.336,-0.752,-0.374,-0.261,-0.379,-0.488,-0.439,-0.356,-0.4,-0.403,-0.244,-0.31,-0.533,-0.465,-0.582,-0.482,-0.422,-0.467,-0.438,-0.526,-0.304,-0.379,-0.362,-0.279,-0.403,-0.614,-0.398,-0.387,-0.468,-0.234,-0.361,-0.187,-0.506,-0.29,-0.303,-0.513,-0.285,-0.34,-0.367,-0.319,-0.529,-0.156,-0.288,-0.609,-0.382,-0.653,-0.556,-0.397,-0.3,-0.344,-0.444,-0.26,-0.198,-0.348,-0.29,-0.362,-0.214,-0.36,-0.391,-0.365,-0.295,-0.425,-0.673,-0.559,-0.266,-0.417,-0.342,-0.303,-0.319,-0.382,-0.28,-0.275,-0.28,-0.29,-0.25,-0.318,-0.22,-0.235,-0.293,-0.451,-0.274,-0.442,-0.445,-0.808,-0.456,-0.182,-0.349,-0.289,-0.111,-0.444,-0.205,-0.245,-0.355,-0.436,-0.321,-0.318,-0.247,-0.456,-0.276,-0.337,-0.385,-0.349,-0.421,-0.397,-0.449,-0.413,-0.509,-0.427,-0.526,-0.605,-0.153,-0.222,-0.269,-0.557,-0.599,-0.446,-0.355,-0.269,-0.497,-0.232,-0.42,-0.514,-0.482,-0.311,-0.235,-0.589,-0.562,-0.308,-0.431,-0.296,-0.544,-0.224,-0.325,-0.533,-0.296,-0.488,-0.202,-0.37,-0.248,-0.214,-0.375,-0.237,-0.302,-0.512,-0.356,-0.492,-0.115,-0.493],\"xaxis\":\"x\",\"y\":[true,true,true,true,true,true,true,true,true,true,true,true,true,true,true,true,true,true,true,true,false,false,true,false,false,false,false,false,false,false,false,false,false,false,false,false,false,false,false,false,false,true,false,false,true,false,false,false,false,false,false,false,false,false,true,false,true,false,false,false,false,false,true,true,false,false,false,false,false,false,true,false,false,false,false,false,false,true,false,false,false,false,false,false,false,false,false,true,false,false,false,true,false,true,false,false,false,true,false,false,false,false,false,false,false,false,false,false,false,false,true,true,false,false,false,false,false,false,false,false,true,false,false,false,true,false,false,false,false,false,false,false,false,false,false,false,false,false,false,true,true,false,false,false,false,false,false,true,false,false,false,false,true,false,false,false,false,true,false,false,false,false,false,false,false,false,false,false,false,false,false,false,false,false,false,false,false,false,false,false,false,false,false,false,false,false,false,false,false,false,false,false,false,false,false,false,false,false,false,false,true,true,false,false,false,false,false,false,false,false,false,false,false,true,true,true,false,false,false,false,true,false,true,false,false,false,false,false,false,false,false,false,false,false,false,false,false,false,false,false,false,false,false,false,false,false,false,false,false,false,false,false,false,false,false,true,false,false],\"yaxis\":\"y\",\"type\":\"scatter\"},{\"customdata\":[[\"Independent\"],[\"Independent\"],[\"Independent\"]],\"hovertemplate\":\"\\u003cb\\u003e%{hovertext}\\u003c\\u002fb\\u003e\\u003cbr\\u003e\\u003cbr\\u003ePolitical Party=%{customdata[0]}\\u003cbr\\u003eLeft\\u002fRight Ideology (DW-NOMINATE)=%{x}\\u003cbr\\u003eChamber=%{y}\\u003cextra\\u003e\\u003c\\u002fextra\\u003e\",\"hovertext\":[\"Bernard Sanders (Vermont)\",\"Kyrsten Sinema (Arizona)\",\"Angus S. King Jr. (Maine)\"],\"legendgroup\":\"Independent\",\"marker\":{\"color\":\"green\",\"opacity\":0.1,\"symbol\":\"circle\"},\"mode\":\"markers\",\"name\":\"Independent\",\"orientation\":\"h\",\"showlegend\":true,\"x\":[-0.539,-0.271,-0.162],\"xaxis\":\"x\",\"y\":[true,true,true],\"yaxis\":\"y\",\"type\":\"scatter\"},{\"customdata\":[[\"Republican\"],[\"Republican\"],[\"Republican\"],[\"Republican\"],[\"Republican\"],[\"Republican\"],[\"Republican\"],[\"Republican\"],[\"Republican\"],[\"Republican\"],[\"Republican\"],[\"Republican\"],[\"Republican\"],[\"Republican\"],[\"Republican\"],[\"Republican\"],[\"Republican\"],[\"Republican\"],[\"Republican\"],[\"Republican\"],[\"Republican\"],[\"Republican\"],[\"Republican\"],[\"Republican\"],[\"Republican\"],[\"Republican\"],[\"Republican\"],[\"Republican\"],[\"Republican\"],[\"Republican\"],[\"Republican\"],[\"Republican\"],[\"Republican\"],[\"Republican\"],[\"Republican\"],[\"Republican\"],[\"Republican\"],[\"Republican\"],[\"Republican\"],[\"Republican\"],[\"Republican\"],[\"Republican\"],[\"Republican\"],[\"Republican\"],[\"Republican\"],[\"Republican\"],[\"Republican\"],[\"Republican\"],[\"Republican\"],[\"Republican\"],[\"Republican\"],[\"Republican\"],[\"Republican\"],[\"Republican\"],[\"Republican\"],[\"Republican\"],[\"Republican\"],[\"Republican\"],[\"Republican\"],[\"Republican\"],[\"Republican\"],[\"Republican\"],[\"Republican\"],[\"Republican\"],[\"Republican\"],[\"Republican\"],[\"Republican\"],[\"Republican\"],[\"Republican\"],[\"Republican\"],[\"Republican\"],[\"Republican\"],[\"Republican\"],[\"Republican\"],[\"Republican\"],[\"Republican\"],[\"Republican\"],[\"Republican\"],[\"Republican\"],[\"Republican\"],[\"Republican\"],[\"Republican\"],[\"Republican\"],[\"Republican\"],[\"Republican\"],[\"Republican\"],[\"Republican\"],[\"Republican\"],[\"Republican\"],[\"Republican\"],[\"Republican\"],[\"Republican\"],[\"Republican\"],[\"Republican\"],[\"Republican\"],[\"Republican\"],[\"Republican\"],[\"Republican\"],[\"Republican\"],[\"Republican\"],[\"Republican\"],[\"Republican\"],[\"Republican\"],[\"Republican\"],[\"Republican\"],[\"Republican\"],[\"Republican\"],[\"Republican\"],[\"Republican\"],[\"Republican\"],[\"Republican\"],[\"Republican\"],[\"Republican\"],[\"Republican\"],[\"Republican\"],[\"Republican\"],[\"Republican\"],[\"Republican\"],[\"Republican\"],[\"Republican\"],[\"Republican\"],[\"Republican\"],[\"Republican\"],[\"Republican\"],[\"Republican\"],[\"Republican\"],[\"Republican\"],[\"Republican\"],[\"Republican\"],[\"Republican\"],[\"Republican\"],[\"Republican\"],[\"Republican\"],[\"Republican\"],[\"Republican\"],[\"Republican\"],[\"Republican\"],[\"Republican\"],[\"Republican\"],[\"Republican\"],[\"Republican\"],[\"Republican\"],[\"Republican\"],[\"Republican\"],[\"Republican\"],[\"Republican\"],[\"Republican\"],[\"Republican\"],[\"Republican\"],[\"Republican\"],[\"Republican\"],[\"Republican\"],[\"Republican\"],[\"Republican\"],[\"Republican\"],[\"Republican\"],[\"Republican\"],[\"Republican\"],[\"Republican\"],[\"Republican\"],[\"Republican\"],[\"Republican\"],[\"Republican\"],[\"Republican\"],[\"Republican\"],[\"Republican\"],[\"Republican\"],[\"Republican\"],[\"Republican\"],[\"Republican\"],[\"Republican\"],[\"Republican\"],[\"Republican\"],[\"Republican\"],[\"Republican\"],[\"Republican\"],[\"Republican\"],[\"Republican\"],[\"Republican\"],[\"Republican\"],[\"Republican\"],[\"Republican\"],[\"Republican\"],[\"Republican\"],[\"Republican\"],[\"Republican\"],[\"Republican\"],[\"Republican\"],[\"Republican\"],[\"Republican\"],[\"Republican\"],[\"Republican\"],[\"Republican\"],[\"Republican\"],[\"Republican\"],[\"Republican\"],[\"Republican\"],[\"Republican\"],[\"Republican\"],[\"Republican\"],[\"Republican\"],[\"Republican\"],[\"Republican\"],[\"Republican\"],[\"Republican\"],[\"Republican\"],[\"Republican\"],[\"Republican\"],[\"Republican\"],[\"Republican\"],[\"Republican\"],[\"Republican\"],[\"Republican\"],[\"Republican\"],[\"Republican\"],[\"Republican\"],[\"Republican\"],[\"Republican\"],[\"Republican\"],[\"Republican\"],[\"Republican\"],[\"Republican\"],[\"Republican\"],[\"Republican\"],[\"Republican\"],[\"Republican\"],[\"Republican\"],[\"Republican\"],[\"Republican\"],[\"Republican\"],[\"Republican\"],[\"Republican\"],[\"Republican\"],[\"Republican\"],[\"Republican\"],[\"Republican\"],[\"Republican\"],[\"Republican\"],[\"Republican\"],[\"Republican\"],[\"Republican\"],[\"Republican\"],[\"Republican\"],[\"Republican\"],[\"Republican\"],[\"Republican\"],[\"Republican\"],[\"Republican\"],[\"Republican\"],[\"Republican\"],[\"Republican\"],[\"Republican\"],[\"Republican\"],[\"Republican\"],[\"Republican\"],[\"Republican\"],[\"Republican\"],[\"Republican\"],[\"Republican\"],[\"Republican\"],[\"Republican\"],[\"Republican\"],[\"Republican\"],[\"Republican\"],[\"Republican\"],[\"Republican\"],[\"Republican\"],[\"Republican\"],[\"Republican\"]],\"hovertemplate\":\"\\u003cb\\u003e%{hovertext}\\u003c\\u002fb\\u003e\\u003cbr\\u003e\\u003cbr\\u003ePolitical Party=%{customdata[0]}\\u003cbr\\u003eLeft\\u002fRight Ideology (DW-NOMINATE)=%{x}\\u003cbr\\u003eChamber=%{y}\\u003cextra\\u003e\\u003c\\u002fextra\\u003e\",\"hovertext\":[\"John Barrasso (Wyoming)\",\"Roger F. Wicker (Mississippi)\",\"Susan M. Collins (Maine)\",\"John Cornyn (Texas)\",\"Lindsey Graham (South Carolina)\",\"Mitch McConnell (Kentucky)\",\"James E. Risch (Idaho)\",\"Robert B. Aderholt (Alabama-4)\",\"Gus M. Bilirakis (Florida-12)\",\"Marsha Blackburn (Tennessee)\",\"John Boozman (Arkansas)\",\"Vern Buchanan (Florida-16)\",\"Larry Bucshon (Indiana-8)\",\"Michael C. Burgess (Texas-26)\",\"Ken Calvert (California-41)\",\"Shelley Moore Capito (West Virginia)\",\"John R. Carter (Texas-31)\",\"Bill Cassidy (Louisiana)\",\"Tom Cole (Oklahoma-4)\",\"Mike Crapo (Idaho)\",\"Eric A. \\\"Rick\\\" Crawford (Arkansas-1)\",\"Scott DesJarlais (Tennessee-4)\",\"Mario Diaz-Balart (Florida-26)\",\"Jeff Duncan (South Carolina-3)\",\"Charles J. \\\"Chuck\\\" Fleischmann (Tennessee-3)\",\"Virginia Foxx (North Carolina-5)\",\"Paul A. Gosar (Arizona-9)\",\"Kay Granger (Texas-12)\",\"Chuck Grassley (Iowa)\",\"Sam Graves (Missouri-6)\",\"H. Morgan Griffith (Virginia-9)\",\"Brett Guthrie (Kentucky-2)\",\"Andy Harris (Maryland-1)\",\"John Hoeven (North Dakota)\",\"Bill Huizenga (Michigan-4)\",\"Bill Johnson (Ohio-6)\",\"Ron Johnson (Wisconsin)\",\"Jim Jordan (Ohio-4)\",\"Mike Kelly (Pennsylvania-16)\",\"Doug Lamborn (Colorado-5)\",\"James Lankford (Oklahoma)\",\"Robert E. Latta (Ohio-5)\",\"Mike Lee (Utah)\",\"Frank D. Lucas (Oklahoma-3)\",\"Blaine Luetkemeyer (Missouri-3)\",\"Kevin McCarthy (California-20)\",\"Michael T. McCaul (Texas-10)\",\"Tom McClintock (California-5)\",\"Patrick T. McHenry (North Carolina-10)\",\"Cathy McMorris Rodgers (Washington-5)\",\"Jerry Moran (Kansas)\",\"Lisa Murkowski (Alaska)\",\"Rand Paul (Kentucky)\",\"Bill Posey (Florida-8)\",\"Harold Rogers (Kentucky-5)\",\"Mike Rogers (Alabama-3)\",\"Marco Rubio (Florida)\",\"Steve Scalise (Louisiana-1)\",\"David Schweikert (Arizona-1)\",\"Austin Scott (Georgia-8)\",\"Tim Scott (South Carolina)\",\"Michael K. Simpson (Idaho-2)\",\"Adrian Smith (Nebraska-3)\",\"Christopher H. Smith (New Jersey-4)\",\"Glenn Thompson (Pennsylvania-15)\",\"John Thune (South Dakota)\",\"Michael R. Turner (Ohio-10)\",\"Tim Walberg (Michigan-5)\",\"Daniel Webster (Florida-11)\",\"Joe Wilson (South Carolina-2)\",\"Robert J. Wittman (Virginia-1)\",\"Steve Womack (Arkansas-3)\",\"Todd Young (Indiana)\",\"Mark E. Amodei (Nevada-2)\",\"Thomas Massie (Kentucky-4)\",\"Tom Cotton (Arkansas)\",\"Doug LaMalfa (California-1)\",\"Andy Barr (Kentucky-6)\",\"Ann Wagner (Missouri-2)\",\"Steve Daines (Montana)\",\"Richard Hudson (North Carolina-9)\",\"Kevin Cramer (North Dakota)\",\"Deb Fischer (Nebraska)\",\"Brad R. Wenstrup (Ohio-2)\",\"David P. Joyce (Ohio-14)\",\"Markwayne Mullin (Oklahoma)\",\"Scott Perry (Pennsylvania-10)\",\"Ted Cruz (Texas)\",\"Randy K. Weber, Sr. (Texas-14)\",\"Roger Williams (Texas-25)\",\"Jason Smith (Missouri-8)\",\"Gary J. Palmer (Alabama-6)\",\"J. French Hill (Arkansas-2)\",\"Bruce Westerman (Arkansas-4)\",\"Ken Buck (Colorado-4)\",\"Earl L. \\\"Buddy\\\" Carter (Georgia-1)\",\"Barry Loudermilk (Georgia-11)\",\"Rick W. Allen (Georgia-12)\",\"Mike Bost (Illinois-12)\",\"Garret Graves (Louisiana-6)\",\"John R. Moolenaar (Michigan-2)\",\"Tom Emmer (Minnesota-6)\",\"David Rouzer (North Carolina-7)\",\"Elise M. Stefanik (New York-21)\",\"Brian Babin (Texas-36)\",\"Dan Newhouse (Washington-4)\",\"Glenn Grothman (Wisconsin-6)\",\"Alexander X. Mooney (West Virginia-2)\",\"Dan Sullivan (Alaska)\",\"Joni Ernst (Iowa)\",\"Thom Tillis (North Carolina)\",\"Mike Rounds (South Dakota)\",\"Trent Kelly (Mississippi-1)\",\"Darin LaHood (Illinois-16)\",\"Warren Davidson (Ohio-8)\",\"James Comer (Kentucky-1)\",\"John Kennedy (Louisiana)\",\"Andy Biggs (Arizona-5)\",\"Matt Gaetz (Florida-1)\",\"Neal P. Dunn (Florida-2)\",\"John H. Rutherford (Florida-5)\",\"Brian J. Mast (Florida-21)\",\"A. Drew Ferguson IV (Georgia-3)\",\"Jim Banks (Indiana-3)\",\"Roger Marshall (Kansas)\",\"Clay Higgins (Louisiana-3)\",\"Mike Johnson (Louisiana-4)\",\"Jack Bergman (Michigan-1)\",\"Ted Budd (North Carolina)\",\"Don Bacon (Nebraska-2)\",\"Brian K. Fitzpatrick (Pennsylvania-1)\",\"Lloyd Smucker (Pennsylvania-11)\",\"David Kustoff (Tennessee-8)\",\"Jodey C. Arrington (Texas-19)\",\"Mike Gallagher (Wisconsin-8)\",\"Ron Estes (Kansas-4)\",\"Ralph Norman (South Carolina-5)\",\"John R. Curtis (Utah-3)\",\"Cindy Hyde-Smith (Mississippi)\",\"Debbie Lesko (Arizona-8)\",\"Michael Cloud (Texas-27)\",\"Troy Balderson (Ohio-12)\",\"Kevin Hern (Oklahoma-1)\",\"Michael Waltz (Florida-6)\",\"W. Gregory Steube (Florida-17)\",\"Russ Fulcher (Idaho-1)\",\"James R. Baird (Indiana-4)\",\"Greg Pence (Indiana-6)\",\"Pete Stauber (Minnesota-8)\",\"Michael Guest (Mississippi-3)\",\"Kelly Armstrong (North Dakota)\",\"Jefferson Van Drew (New Jersey-2)\",\"Daniel Meuser (Pennsylvania-9)\",\"John Joyce (Pennsylvania-13)\",\"Guy Reschenthaler (Pennsylvania-14)\",\"William R. Timmons IV (South Carolina-4)\",\"Dusty Johnson (South Dakota)\",\"Tim Burchett (Tennessee-2)\",\"John W. Rose (Tennessee-6)\",\"Mark E. Green (Tennessee-7)\",\"Dan Crenshaw (Texas-2)\",\"Lance Gooden (Texas-5)\",\"Chip Roy (Texas-21)\",\"Ben Cline (Virginia-6)\",\"Bryan Steil (Wisconsin-1)\",\"Carol D. Miller (West Virginia-1)\",\"Rick Scott (Florida)\",\"Mike Braun (Indiana)\",\"Josh Hawley (Missouri)\",\"Mitt Romney (Utah)\",\"Dan Bishop (North Carolina-8)\",\"Gregory Murphy (North Carolina-3)\",\"Thomas P. Tiffany (Wisconsin-7)\",\"Mike Garcia (California-27)\",\"Cynthia M. Lummis (Wyoming)\",\"Darrell E. Issa (California-48)\",\"Pete Sessions (Texas-17)\",\"David G. Valadao (California-22)\",\"Tommy Tuberville (Alabama)\",\"Bill Hagerty (Tennessee)\",\"Jerry L. Carl (Alabama-1)\",\"Barry Moore (Alabama-2)\",\"Jay Obernolte (California-23)\",\"Young Kim (California-40)\",\"Michelle Steel (California-45)\",\"Lauren Boebert (Colorado-3)\",\"Kat Cammack (Florida-3)\",\"C. Scott Franklin (Florida-18)\",\"Byron Donalds (Florida-19)\",\"Carlos A. Gimenez (Florida-28)\",\"Maria Elvira Salazar (Florida-27)\",\"Andrew S. Clyde (Georgia-9)\",\"Marjorie Taylor Greene (Georgia-14)\",\"Ashley Hinson (Iowa-2)\",\"Mariannette Miller-Meeks (Iowa-1)\",\"Randy Feenstra (Iowa-4)\",\"Mary E. Miller (Illinois-15)\",\"Victoria Spartz (Indiana-5)\",\"Tracey Mann (Kansas-1)\",\"Jake LaTurner (Kansas-2)\",\"Lisa C. McClain (Michigan-9)\",\"Michelle Fischbach (Minnesota-7)\",\"Matthew M. Rosendale Sr. (Montana-2)\",\"Andrew R. Garbarino (New York-2)\",\"Nicole Malliotakis (New York-11)\",\"Stephanie I. Bice (Oklahoma-5)\",\"Cliff Bentz (Oregon-2)\",\"Nancy Mace (South Carolina-1)\",\"Diana Harshbarger (Tennessee-1)\",\"Pat Fallon (Texas-4)\",\"August Pfluger (Texas-11)\",\"Ronny Jackson (Texas-13)\",\"Troy E. Nehls (Texas-22)\",\"Tony Gonzales (Texas-23)\",\"Beth Van Duyne (Texas-24)\",\"Blake D. Moore (Utah-1)\",\"Burgess Owens (Utah-4)\",\"Bob Good (Virginia-5)\",\"Scott Fitzgerald (Wisconsin-5)\",\"Claudia Tenney (New York-24)\",\"Julia Letlow (Louisiana-5)\",\"Jake Ellzey (Texas-6)\",\"Mike Carey (Ohio-15)\",\"Mike Flood (Nebraska-1)\",\"Brad Finstad (Minnesota-1)\",\"Rudy Yakym III (Indiana-2)\",\"Ryan K. Zinke (Montana-1)\",\"Katie Boyd Britt (Alabama)\",\"Eric Schmitt (Missouri)\",\"J. D. Vance (Ohio)\",\"Dale W. Strong (Alabama-5)\",\"Elijah Crane (Arizona-2)\",\"Juan Ciscomani (Arizona-6)\",\"Kevin Kiley (California-3)\",\"John S. Duarte (California-13)\",\"Aaron Bean (Florida-4)\",\"Cory Mills (Florida-7)\",\"Anna Paulina Luna (Florida-13)\",\"Laurel M. Lee (Florida-15)\",\"Richard McCormick (Georgia-6)\",\"Zachary Nunn (Iowa-3)\",\"Erin Houchin (Indiana-9)\",\"John James (Michigan-10)\",\"Mark Alford (Missouri-4)\",\"Eric Burlison (Missouri-7)\",\"Mike Ezell (Mississippi-4)\",\"Chuck Edwards (North Carolina-11)\",\"Thomas H. Kean, Jr. (New Jersey-7)\",\"Nick LaLota (New York-1)\",\"George Santos (New York-3)\",\"Anthony D'Esposito (New York-4)\",\"Michael Lawler (New York-17)\",\"Marcus J. Molinaro (New York-19)\",\"Brandon Williams (New York-22)\",\"Nicholas A. Langworthy (New York-23)\",\"Max L. Miller (Ohio-7)\",\"Josh Brecheen (Oklahoma-2)\",\"Lori Chavez-DeRemer (Oregon-5)\",\"Russell Fry (South Carolina-7)\",\"Andrew Ogles (Tennessee-5)\",\"Nathaniel Moran (Texas-1)\",\"Keith Self (Texas-3)\",\"Morgan Luttrell (Texas-8)\",\"Monica De La Cruz (Texas-15)\",\"Wesley Hunt (Texas-38)\",\"Jennifer Kiggans (Virginia-2)\",\"Derrick Van Orden (Wisconsin-3)\",\"Harriet M. Hageman (Wyoming)\",\"Pete Ricketts (Nebraska)\"],\"legendgroup\":\"Republican\",\"marker\":{\"color\":\"red\",\"opacity\":0.1,\"symbol\":\"circle\"},\"mode\":\"markers\",\"name\":\"Republican\",\"orientation\":\"h\",\"showlegend\":true,\"x\":[0.536,0.376,0.117,0.472,0.371,0.404,0.548,0.397,0.414,0.628,0.425,0.361,0.392,0.572,0.344,0.277,0.484,0.469,0.326,0.5,0.455,0.578,0.286,0.701,0.449,0.624,0.699,0.403,0.357,0.443,0.526,0.42,0.672,0.391,0.544,0.432,0.631,0.717,0.371,0.667,0.606,0.51,0.891,0.363,0.449,0.459,0.417,0.685,0.528,0.426,0.418,0.21,0.891,0.529,0.336,0.374,0.613,0.558,0.561,0.542,0.629,0.299,0.511,0.176,0.329,0.429,0.271,0.504,0.528,0.529,0.446,0.349,0.448,0.384,0.678,0.596,0.536,0.483,0.396,0.586,0.535,0.4,0.463,0.526,0.257,0.542,0.675,0.806,0.73,0.593,0.579,0.678,0.438,0.549,0.695,0.555,0.684,0.697,0.365,0.427,0.451,0.462,0.559,0.286,0.709,0.321,0.599,0.56,0.482,0.538,0.4,0.353,0.635,0.462,0.663,0.593,0.551,0.827,0.6,0.508,0.435,0.459,0.601,0.65,0.593,0.626,0.566,0.432,0.629,0.305,0.145,0.444,0.537,0.642,0.425,0.641,0.849,0.456,0.45,0.619,0.682,0.446,0.685,0.431,0.69,0.639,0.45,0.531,0.367,0.526,0.46,0.378,0.504,0.569,0.422,0.596,0.457,0.662,0.674,0.673,0.423,0.746,0.8,0.719,0.41,0.515,0.666,0.8,0.758,0.289,0.711,0.499,0.641,0.381,0.694,0.486,0.59,0.261,0.936,0.687,0.526,0.64,0.31,0.263,0.353,0.757,0.587,0.605,0.642,0.335,0.275,0.834,0.8,0.346,0.308,0.461,0.827,0.459,0.628,0.467,0.543,0.532,0.743,0.255,0.328,0.423,0.487,0.341,0.681,0.725,0.643,0.766,0.625,0.313,0.587,0.371,0.465,0.8,0.607,0.449,0.411,0.526,0.429,0.485,0.544,0.495,0.449,0.558,0.961,0.84,0.511,0.689,0.316,0.274,0.363,0.656,0.579,0.61,0.38,0.865,0.285,0.637,0.318,0.58,0.709,0.557,0.48,0.207,0.263,0.468,0.231,0.202,0.223,0.352,0.424,0.375,0.927,0.176,0.541,0.771,0.632,0.814,0.677,0.501,0.588,0.243,0.381,0.688,0.369],\"xaxis\":\"x\",\"y\":[true,true,true,true,true,true,true,false,false,true,true,false,false,false,false,true,false,true,false,true,false,false,false,false,false,false,false,false,true,false,false,false,false,true,false,false,true,false,false,false,true,false,true,false,false,false,false,false,false,false,true,true,true,false,false,false,true,false,false,false,true,false,false,false,false,true,false,false,false,false,false,false,true,false,false,true,false,false,false,true,false,true,true,false,false,true,false,true,false,false,false,false,false,false,false,false,false,false,false,false,false,false,false,false,false,false,false,false,true,true,true,true,false,false,false,false,true,false,false,false,false,false,false,false,true,false,false,false,true,false,false,false,false,false,false,false,false,false,true,false,false,false,false,false,false,false,false,false,false,false,true,false,false,false,false,false,true,false,false,false,false,false,false,false,false,false,true,true,true,true,false,false,false,false,true,false,false,false,true,true,false,false,false,false,false,false,false,false,false,false,false,false,false,false,false,false,false,false,false,false,false,false,false,false,false,false,false,false,false,false,false,false,false,false,false,false,false,false,false,false,false,false,false,false,false,false,false,true,true,true,false,false,false,false,false,false,false,false,false,false,false,false,false,false,false,false,false,false,false,false,false,false,false,false,false,false,false,false,false,false,false,false,false,false,false,false,false,true,true],\"yaxis\":\"y\",\"type\":\"scatter\"},{\"customdata\":[[\"Republican\"]],\"hovertemplate\":\"\\u003cb\\u003e%{hovertext}\\u003c\\u002fb\\u003e\\u003cbr\\u003e\\u003cbr\\u003ePolitical Party=%{customdata[0]}\\u003cbr\\u003eLeft\\u002fRight Ideology (DW-NOMINATE)=%{x}\\u003cbr\\u003eChamber=%{y}\\u003cextra\\u003e\\u003c\\u002fextra\\u003e\",\"hovertext\":[\"Bob Good (Virginia-5)\"],\"legendgroup\":\"Republican\",\"marker\":{\"color\":\"red\",\"line\":{\"color\":\"DarkSlateGrey\",\"width\":2},\"size\":8,\"symbol\":\"star\"},\"mode\":\"markers\",\"name\":\"Republican\",\"orientation\":\"h\",\"showlegend\":false,\"x\":[0.8],\"xaxis\":\"x\",\"y\":[false],\"yaxis\":\"y\",\"type\":\"scatter\"}],                        {\"template\":{\"data\":{\"histogram2dcontour\":[{\"type\":\"histogram2dcontour\",\"colorbar\":{\"outlinewidth\":0,\"ticks\":\"\"},\"colorscale\":[[0.0,\"#0d0887\"],[0.1111111111111111,\"#46039f\"],[0.2222222222222222,\"#7201a8\"],[0.3333333333333333,\"#9c179e\"],[0.4444444444444444,\"#bd3786\"],[0.5555555555555556,\"#d8576b\"],[0.6666666666666666,\"#ed7953\"],[0.7777777777777778,\"#fb9f3a\"],[0.8888888888888888,\"#fdca26\"],[1.0,\"#f0f921\"]]}],\"choropleth\":[{\"type\":\"choropleth\",\"colorbar\":{\"outlinewidth\":0,\"ticks\":\"\"}}],\"histogram2d\":[{\"type\":\"histogram2d\",\"colorbar\":{\"outlinewidth\":0,\"ticks\":\"\"},\"colorscale\":[[0.0,\"#0d0887\"],[0.1111111111111111,\"#46039f\"],[0.2222222222222222,\"#7201a8\"],[0.3333333333333333,\"#9c179e\"],[0.4444444444444444,\"#bd3786\"],[0.5555555555555556,\"#d8576b\"],[0.6666666666666666,\"#ed7953\"],[0.7777777777777778,\"#fb9f3a\"],[0.8888888888888888,\"#fdca26\"],[1.0,\"#f0f921\"]]}],\"heatmap\":[{\"type\":\"heatmap\",\"colorbar\":{\"outlinewidth\":0,\"ticks\":\"\"},\"colorscale\":[[0.0,\"#0d0887\"],[0.1111111111111111,\"#46039f\"],[0.2222222222222222,\"#7201a8\"],[0.3333333333333333,\"#9c179e\"],[0.4444444444444444,\"#bd3786\"],[0.5555555555555556,\"#d8576b\"],[0.6666666666666666,\"#ed7953\"],[0.7777777777777778,\"#fb9f3a\"],[0.8888888888888888,\"#fdca26\"],[1.0,\"#f0f921\"]]}],\"heatmapgl\":[{\"type\":\"heatmapgl\",\"colorbar\":{\"outlinewidth\":0,\"ticks\":\"\"},\"colorscale\":[[0.0,\"#0d0887\"],[0.1111111111111111,\"#46039f\"],[0.2222222222222222,\"#7201a8\"],[0.3333333333333333,\"#9c179e\"],[0.4444444444444444,\"#bd3786\"],[0.5555555555555556,\"#d8576b\"],[0.6666666666666666,\"#ed7953\"],[0.7777777777777778,\"#fb9f3a\"],[0.8888888888888888,\"#fdca26\"],[1.0,\"#f0f921\"]]}],\"contourcarpet\":[{\"type\":\"contourcarpet\",\"colorbar\":{\"outlinewidth\":0,\"ticks\":\"\"}}],\"contour\":[{\"type\":\"contour\",\"colorbar\":{\"outlinewidth\":0,\"ticks\":\"\"},\"colorscale\":[[0.0,\"#0d0887\"],[0.1111111111111111,\"#46039f\"],[0.2222222222222222,\"#7201a8\"],[0.3333333333333333,\"#9c179e\"],[0.4444444444444444,\"#bd3786\"],[0.5555555555555556,\"#d8576b\"],[0.6666666666666666,\"#ed7953\"],[0.7777777777777778,\"#fb9f3a\"],[0.8888888888888888,\"#fdca26\"],[1.0,\"#f0f921\"]]}],\"surface\":[{\"type\":\"surface\",\"colorbar\":{\"outlinewidth\":0,\"ticks\":\"\"},\"colorscale\":[[0.0,\"#0d0887\"],[0.1111111111111111,\"#46039f\"],[0.2222222222222222,\"#7201a8\"],[0.3333333333333333,\"#9c179e\"],[0.4444444444444444,\"#bd3786\"],[0.5555555555555556,\"#d8576b\"],[0.6666666666666666,\"#ed7953\"],[0.7777777777777778,\"#fb9f3a\"],[0.8888888888888888,\"#fdca26\"],[1.0,\"#f0f921\"]]}],\"mesh3d\":[{\"type\":\"mesh3d\",\"colorbar\":{\"outlinewidth\":0,\"ticks\":\"\"}}],\"scatter\":[{\"fillpattern\":{\"fillmode\":\"overlay\",\"size\":10,\"solidity\":0.2},\"type\":\"scatter\"}],\"parcoords\":[{\"type\":\"parcoords\",\"line\":{\"colorbar\":{\"outlinewidth\":0,\"ticks\":\"\"}}}],\"scatterpolargl\":[{\"type\":\"scatterpolargl\",\"marker\":{\"colorbar\":{\"outlinewidth\":0,\"ticks\":\"\"}}}],\"bar\":[{\"error_x\":{\"color\":\"#2a3f5f\"},\"error_y\":{\"color\":\"#2a3f5f\"},\"marker\":{\"line\":{\"color\":\"#E5ECF6\",\"width\":0.5},\"pattern\":{\"fillmode\":\"overlay\",\"size\":10,\"solidity\":0.2}},\"type\":\"bar\"}],\"scattergeo\":[{\"type\":\"scattergeo\",\"marker\":{\"colorbar\":{\"outlinewidth\":0,\"ticks\":\"\"}}}],\"scatterpolar\":[{\"type\":\"scatterpolar\",\"marker\":{\"colorbar\":{\"outlinewidth\":0,\"ticks\":\"\"}}}],\"histogram\":[{\"marker\":{\"pattern\":{\"fillmode\":\"overlay\",\"size\":10,\"solidity\":0.2}},\"type\":\"histogram\"}],\"scattergl\":[{\"type\":\"scattergl\",\"marker\":{\"colorbar\":{\"outlinewidth\":0,\"ticks\":\"\"}}}],\"scatter3d\":[{\"type\":\"scatter3d\",\"line\":{\"colorbar\":{\"outlinewidth\":0,\"ticks\":\"\"}},\"marker\":{\"colorbar\":{\"outlinewidth\":0,\"ticks\":\"\"}}}],\"scattermapbox\":[{\"type\":\"scattermapbox\",\"marker\":{\"colorbar\":{\"outlinewidth\":0,\"ticks\":\"\"}}}],\"scatterternary\":[{\"type\":\"scatterternary\",\"marker\":{\"colorbar\":{\"outlinewidth\":0,\"ticks\":\"\"}}}],\"scattercarpet\":[{\"type\":\"scattercarpet\",\"marker\":{\"colorbar\":{\"outlinewidth\":0,\"ticks\":\"\"}}}],\"carpet\":[{\"aaxis\":{\"endlinecolor\":\"#2a3f5f\",\"gridcolor\":\"white\",\"linecolor\":\"white\",\"minorgridcolor\":\"white\",\"startlinecolor\":\"#2a3f5f\"},\"baxis\":{\"endlinecolor\":\"#2a3f5f\",\"gridcolor\":\"white\",\"linecolor\":\"white\",\"minorgridcolor\":\"white\",\"startlinecolor\":\"#2a3f5f\"},\"type\":\"carpet\"}],\"table\":[{\"cells\":{\"fill\":{\"color\":\"#EBF0F8\"},\"line\":{\"color\":\"white\"}},\"header\":{\"fill\":{\"color\":\"#C8D4E3\"},\"line\":{\"color\":\"white\"}},\"type\":\"table\"}],\"barpolar\":[{\"marker\":{\"line\":{\"color\":\"#E5ECF6\",\"width\":0.5},\"pattern\":{\"fillmode\":\"overlay\",\"size\":10,\"solidity\":0.2}},\"type\":\"barpolar\"}],\"pie\":[{\"automargin\":true,\"type\":\"pie\"}]},\"layout\":{\"autotypenumbers\":\"strict\",\"colorway\":[\"#636efa\",\"#EF553B\",\"#00cc96\",\"#ab63fa\",\"#FFA15A\",\"#19d3f3\",\"#FF6692\",\"#B6E880\",\"#FF97FF\",\"#FECB52\"],\"font\":{\"color\":\"#2a3f5f\"},\"hovermode\":\"closest\",\"hoverlabel\":{\"align\":\"left\"},\"paper_bgcolor\":\"white\",\"plot_bgcolor\":\"#E5ECF6\",\"polar\":{\"bgcolor\":\"#E5ECF6\",\"angularaxis\":{\"gridcolor\":\"white\",\"linecolor\":\"white\",\"ticks\":\"\"},\"radialaxis\":{\"gridcolor\":\"white\",\"linecolor\":\"white\",\"ticks\":\"\"}},\"ternary\":{\"bgcolor\":\"#E5ECF6\",\"aaxis\":{\"gridcolor\":\"white\",\"linecolor\":\"white\",\"ticks\":\"\"},\"baxis\":{\"gridcolor\":\"white\",\"linecolor\":\"white\",\"ticks\":\"\"},\"caxis\":{\"gridcolor\":\"white\",\"linecolor\":\"white\",\"ticks\":\"\"}},\"coloraxis\":{\"colorbar\":{\"outlinewidth\":0,\"ticks\":\"\"}},\"colorscale\":{\"sequential\":[[0.0,\"#0d0887\"],[0.1111111111111111,\"#46039f\"],[0.2222222222222222,\"#7201a8\"],[0.3333333333333333,\"#9c179e\"],[0.4444444444444444,\"#bd3786\"],[0.5555555555555556,\"#d8576b\"],[0.6666666666666666,\"#ed7953\"],[0.7777777777777778,\"#fb9f3a\"],[0.8888888888888888,\"#fdca26\"],[1.0,\"#f0f921\"]],\"sequentialminus\":[[0.0,\"#0d0887\"],[0.1111111111111111,\"#46039f\"],[0.2222222222222222,\"#7201a8\"],[0.3333333333333333,\"#9c179e\"],[0.4444444444444444,\"#bd3786\"],[0.5555555555555556,\"#d8576b\"],[0.6666666666666666,\"#ed7953\"],[0.7777777777777778,\"#fb9f3a\"],[0.8888888888888888,\"#fdca26\"],[1.0,\"#f0f921\"]],\"diverging\":[[0,\"#8e0152\"],[0.1,\"#c51b7d\"],[0.2,\"#de77ae\"],[0.3,\"#f1b6da\"],[0.4,\"#fde0ef\"],[0.5,\"#f7f7f7\"],[0.6,\"#e6f5d0\"],[0.7,\"#b8e186\"],[0.8,\"#7fbc41\"],[0.9,\"#4d9221\"],[1,\"#276419\"]]},\"xaxis\":{\"gridcolor\":\"white\",\"linecolor\":\"white\",\"ticks\":\"\",\"title\":{\"standoff\":15},\"zerolinecolor\":\"white\",\"automargin\":true,\"zerolinewidth\":2},\"yaxis\":{\"gridcolor\":\"white\",\"linecolor\":\"white\",\"ticks\":\"\",\"title\":{\"standoff\":15},\"zerolinecolor\":\"white\",\"automargin\":true,\"zerolinewidth\":2},\"scene\":{\"xaxis\":{\"backgroundcolor\":\"#E5ECF6\",\"gridcolor\":\"white\",\"linecolor\":\"white\",\"showbackground\":true,\"ticks\":\"\",\"zerolinecolor\":\"white\",\"gridwidth\":2},\"yaxis\":{\"backgroundcolor\":\"#E5ECF6\",\"gridcolor\":\"white\",\"linecolor\":\"white\",\"showbackground\":true,\"ticks\":\"\",\"zerolinecolor\":\"white\",\"gridwidth\":2},\"zaxis\":{\"backgroundcolor\":\"#E5ECF6\",\"gridcolor\":\"white\",\"linecolor\":\"white\",\"showbackground\":true,\"ticks\":\"\",\"zerolinecolor\":\"white\",\"gridwidth\":2}},\"shapedefaults\":{\"line\":{\"color\":\"#2a3f5f\"}},\"annotationdefaults\":{\"arrowcolor\":\"#2a3f5f\",\"arrowhead\":0,\"arrowwidth\":1},\"geo\":{\"bgcolor\":\"white\",\"landcolor\":\"#E5ECF6\",\"subunitcolor\":\"white\",\"showland\":true,\"showlakes\":true,\"lakecolor\":\"white\"},\"title\":{\"x\":0.05},\"mapbox\":{\"style\":\"light\"}}},\"xaxis\":{\"anchor\":\"y\",\"domain\":[0.0,1.0],\"title\":{\"text\":\"Left\\u002fRight Ideology (DW-NOMINATE)\"},\"range\":[-1,1],\"tickvals\":[-1,-0.5,0,0.5,1],\"ticktext\":[\"Extreme left\",\"Moderate left\",\"Centrist\",\"Moderate right\",\"Extreme right\"]},\"yaxis\":{\"anchor\":\"x\",\"domain\":[0.0,1.0],\"title\":{\"text\":\"Chamber\"},\"range\":[-0.5,1.5],\"tickvals\":[0,1],\"ticktext\":[\"Senate\",\"House of Representatives\"]},\"legend\":{\"title\":{\"text\":\"Political Party\"},\"tracegroupgap\":0},\"title\":{\"text\":\"Ideological Placements in Congress\",\"x\":0.5},\"height\":300,\"width\":600},                        {\"responsive\": true}                    ).then(function(){\n",
       "                            \n",
       "var gd = document.getElementById('55eb0b65-3091-4c15-bc67-a6912a1a615b');\n",
       "var x = new MutationObserver(function (mutations, observer) {{\n",
       "        var display = window.getComputedStyle(gd).display;\n",
       "        if (!display || display === 'none') {{\n",
       "            console.log([gd, 'removed!']);\n",
       "            Plotly.purge(gd);\n",
       "            observer.disconnect();\n",
       "        }}\n",
       "}});\n",
       "\n",
       "// Listen for the removal of the full notebook cells\n",
       "var notebookContainer = gd.closest('#notebook-container');\n",
       "if (notebookContainer) {{\n",
       "    x.observe(notebookContainer, {childList: true});\n",
       "}}\n",
       "\n",
       "// Listen for the clearing of the current output cell\n",
       "var outputEl = gd.closest('.output');\n",
       "if (outputEl) {{\n",
       "    x.observe(outputEl, {childList: true});\n",
       "}}\n",
       "\n",
       "                        })                };                });            </script>        </div>"
      ]
     },
     "metadata": {},
     "output_type": "display_data"
    }
   ],
   "source": [
    "fig = px.scatter(ideo, x='ideology', y='senate', color='party',\n",
    "                 color_discrete_map={'Republican': 'red',\n",
    "                                     'Democrat': 'blue',\n",
    "                                     'Independent': 'green'},\n",
    "                 height=300, width=600,\n",
    "                 labels={'ideology':'Left/Right Ideology (DW-NOMINATE)', \n",
    "                        'senate':'Chamber',\n",
    "                        'party': 'Political Party'},\n",
    "                 hover_name = 'name',\n",
    "                 hover_data=['party'],\n",
    "                 title = 'Ideological Placements in Congress',\n",
    "                opacity = .1)\n",
    "fig.update(layout=dict(title=dict(x=0.5)))\n",
    "fig.update_yaxes(range=(-0.5, 1.5), tickvals=[0, 1],\n",
    "                ticktext = ['Senate', 'House of Representatives'])\n",
    "fig.update_xaxes(range=(-1,1), tickvals=[-1, -.5, 0, .5, 1],\n",
    "                ticktext = ['Extreme left', 'Moderate left', 'Centrist', 'Moderate right', 'Extreme right'])\n",
    "\n",
    "fig.add_traces(\n",
    "    px.scatter(ideo2, x='ideology', y='senate', color='party',\n",
    "                 color_discrete_map={'Republican': 'red',\n",
    "                                     'Democrat': 'blue',\n",
    "                                     'Independent': 'green'},\n",
    "                 height=300, width=600,\n",
    "                 labels={'ideology':'Left/Right Ideology (DW-NOMINATE)', \n",
    "                        'senate':'Chamber',\n",
    "                        'party': 'Political Party'},\n",
    "                 hover_name = 'name',\n",
    "                 hover_data=['party'],\n",
    "                 title = 'Ideological Placements in Congress').update_traces(marker=dict(size=8, symbol=\"star\", line=dict(width=2, color=\"DarkSlateGrey\")),\n",
    "                                                                            showlegend=False).data\n",
    ")\n",
    "\n",
    "\n",
    "fig.show()"
   ]
  },
  {
   "cell_type": "code",
   "execution_count": 27,
   "id": "db2ba68c-e94e-41d6-beeb-386eddaecf96",
   "metadata": {},
   "outputs": [
    {
     "data": {
      "text/plain": [
       "district\n",
       "False    425\n",
       "True     105\n",
       "Name: count, dtype: int64"
      ]
     },
     "execution_count": 27,
     "metadata": {},
     "output_type": "execute_result"
    }
   ],
   "source": [
    "ideo['district'].isnull().value_counts()"
   ]
  },
  {
   "cell_type": "code",
   "execution_count": 61,
   "id": "9353610c-dde2-4a2b-bbbd-bb944a988bba",
   "metadata": {},
   "outputs": [
    {
     "data": {
      "text/plain": [
       "['Ohio',\n",
       " 'Washington',\n",
       " 'Maryland',\n",
       " 'Delaware',\n",
       " 'Pennsylvania',\n",
       " 'Minnesota',\n",
       " 'New Jersey',\n",
       " 'Vermont',\n",
       " 'Michigan',\n",
       " 'Montana',\n",
       " 'Rhode Island',\n",
       " 'Wyoming',\n",
       " 'Mississippi',\n",
       " 'Maine',\n",
       " 'Texas',\n",
       " 'Illinois',\n",
       " 'South Carolina',\n",
       " 'Kentucky',\n",
       " 'Oregon',\n",
       " 'Rhode Island',\n",
       " 'Idaho',\n",
       " 'New Hampshire',\n",
       " 'Virginia',\n",
       " 'New York',\n",
       " 'Delaware',\n",
       " 'West Virginia',\n",
       " 'Alabama-4',\n",
       " 'Wisconsin',\n",
       " 'Colorado',\n",
       " 'Florida-12',\n",
       " 'Georgia-2',\n",
       " 'Tennessee',\n",
       " 'Oregon-3',\n",
       " 'Connecticut',\n",
       " 'Arkansas',\n",
       " 'Florida-16',\n",
       " 'Indiana-8',\n",
       " 'Texas-26',\n",
       " 'California-41',\n",
       " 'West Virginia',\n",
       " 'Indiana-7',\n",
       " 'Texas-31',\n",
       " 'Louisiana',\n",
       " 'Florida-14',\n",
       " 'California-28',\n",
       " 'New York-9',\n",
       " 'Missouri-5',\n",
       " 'South Carolina-6',\n",
       " 'Tennessee-9',\n",
       " 'Oklahoma-4',\n",
       " 'Virginia-11',\n",
       " 'California-21',\n",
       " 'Connecticut-2',\n",
       " 'Idaho',\n",
       " 'Arkansas-1',\n",
       " 'Texas-28',\n",
       " 'Illinois-7',\n",
       " 'Colorado-1',\n",
       " 'Connecticut-3',\n",
       " 'Tennessee-4',\n",
       " 'Florida-26',\n",
       " 'Texas-37',\n",
       " 'South Carolina-3',\n",
       " 'California-16',\n",
       " 'Tennessee-3',\n",
       " 'North Carolina-5',\n",
       " 'California-8',\n",
       " 'Arizona-9',\n",
       " 'Texas-12',\n",
       " 'Iowa',\n",
       " 'Missouri-6',\n",
       " 'Texas-9',\n",
       " 'Virginia-9',\n",
       " 'Kentucky-2',\n",
       " 'Maryland-1',\n",
       " 'New Mexico',\n",
       " 'New York-26',\n",
       " 'Connecticut-4',\n",
       " 'Hawaii',\n",
       " 'North Dakota',\n",
       " 'Maryland-5',\n",
       " 'Michigan-4',\n",
       " 'Texas-18',\n",
       " 'Ohio-6',\n",
       " 'Georgia-4',\n",
       " 'Wisconsin',\n",
       " 'Ohio-4',\n",
       " 'Ohio-9',\n",
       " 'Massachusetts-9',\n",
       " 'Pennsylvania-16',\n",
       " 'Colorado-5',\n",
       " 'Oklahoma',\n",
       " 'Washington-2',\n",
       " 'Connecticut-1',\n",
       " 'Ohio-5',\n",
       " 'California-12',\n",
       " 'Utah',\n",
       " 'California-18',\n",
       " 'Oklahoma-3',\n",
       " 'Missouri-3',\n",
       " 'New Mexico',\n",
       " 'Massachusetts-8',\n",
       " 'Massachusetts',\n",
       " 'California-7',\n",
       " 'California-20',\n",
       " 'Texas-10',\n",
       " 'California-5',\n",
       " 'Minnesota-4',\n",
       " 'Massachusetts-2',\n",
       " 'North Carolina-10',\n",
       " 'Washington-5',\n",
       " 'New York-5',\n",
       " 'Wisconsin-4',\n",
       " 'Kansas',\n",
       " 'Alaska',\n",
       " 'Connecticut',\n",
       " 'Washington',\n",
       " 'New York-12',\n",
       " 'California-31',\n",
       " 'Massachusetts-1',\n",
       " 'New Jersey-6',\n",
       " 'New Jersey-9',\n",
       " 'Kentucky',\n",
       " 'California-11',\n",
       " 'Michigan',\n",
       " 'Maine-1',\n",
       " 'Florida-8',\n",
       " 'Illinois-5',\n",
       " 'Kentucky-5',\n",
       " 'Alabama-3',\n",
       " 'Florida',\n",
       " 'Maryland-2',\n",
       " 'Maryland-3',\n",
       " 'Louisiana-1',\n",
       " 'Illinois-9',\n",
       " 'California-30',\n",
       " 'New York',\n",
       " 'Arizona-1',\n",
       " 'Georgia-8',\n",
       " 'Georgia-13',\n",
       " 'Virginia-3',\n",
       " 'South Carolina',\n",
       " 'Alabama-7',\n",
       " 'California-32',\n",
       " 'Idaho-2',\n",
       " 'Washington-9',\n",
       " 'Nebraska-3',\n",
       " 'New Jersey-4',\n",
       " 'California-38',\n",
       " 'Mississippi-2',\n",
       " 'California-4',\n",
       " 'Pennsylvania-15',\n",
       " 'South Dakota',\n",
       " 'New York-20',\n",
       " 'Ohio-10',\n",
       " 'Maryland',\n",
       " 'New York-7',\n",
       " 'Michigan-5',\n",
       " 'Florida-25',\n",
       " 'California-43',\n",
       " 'Florida-11',\n",
       " 'Vermont',\n",
       " 'South Carolina-2',\n",
       " 'Florida-24',\n",
       " 'Virginia-1',\n",
       " 'Arkansas-3',\n",
       " 'Oregon',\n",
       " 'Indiana',\n",
       " 'Nevada-2',\n",
       " 'Oregon-1',\n",
       " 'Washington-1',\n",
       " 'Kentucky-4',\n",
       " 'New Jersey-10',\n",
       " 'Hawaii',\n",
       " 'Illinois-11',\n",
       " 'Nevada-1',\n",
       " 'Arkansas',\n",
       " 'Arizona',\n",
       " 'California-1',\n",
       " 'California-2',\n",
       " 'California-6',\n",
       " 'California-14',\n",
       " 'California-26',\n",
       " 'California-29',\n",
       " 'California-25',\n",
       " 'California-39',\n",
       " 'California-52',\n",
       " 'California-50',\n",
       " 'Florida-22',\n",
       " 'Illinois',\n",
       " 'Kentucky-6',\n",
       " 'Massachusetts',\n",
       " 'Maine',\n",
       " 'Michigan-8',\n",
       " 'Missouri-2',\n",
       " 'Montana',\n",
       " 'North Carolina-9',\n",
       " 'North Dakota',\n",
       " 'Nebraska',\n",
       " 'New Hampshire-2',\n",
       " 'New York-6',\n",
       " 'New York-8',\n",
       " 'Ohio-2',\n",
       " 'Ohio-3',\n",
       " 'Ohio-14',\n",
       " 'Oklahoma',\n",
       " 'Pennsylvania-10',\n",
       " 'Pennsylvania-8',\n",
       " 'Texas',\n",
       " 'Texas-14',\n",
       " 'Texas-20',\n",
       " 'Texas-25',\n",
       " 'Texas-33',\n",
       " 'Virginia',\n",
       " 'Washington-6',\n",
       " 'Wisconsin-2',\n",
       " 'Illinois-2',\n",
       " 'Missouri-8',\n",
       " 'New Jersey',\n",
       " 'Massachusetts-5',\n",
       " 'New Jersey-1',\n",
       " 'North Carolina-12',\n",
       " 'Alabama-6',\n",
       " 'Arkansas-2',\n",
       " 'Arkansas-4',\n",
       " 'Arizona-3',\n",
       " 'California-10',\n",
       " 'California-33',\n",
       " 'California-36',\n",
       " 'California-35',\n",
       " 'Colorado-4',\n",
       " 'Georgia-1',\n",
       " 'Georgia-11',\n",
       " 'Georgia-12',\n",
       " 'Illinois-12',\n",
       " 'Louisiana-6',\n",
       " 'Massachusetts-6',\n",
       " 'Michigan-2',\n",
       " 'Michigan-6',\n",
       " 'Minnesota-6',\n",
       " 'North Carolina-7',\n",
       " 'New Jersey-12',\n",
       " 'New York-21',\n",
       " 'Pennsylvania-2',\n",
       " 'Texas-36',\n",
       " 'Virginia-8',\n",
       " 'Washington-4',\n",
       " 'Wisconsin-6',\n",
       " 'West Virginia-2',\n",
       " 'Alaska',\n",
       " 'Iowa',\n",
       " 'North Carolina',\n",
       " 'South Dakota',\n",
       " 'Mississippi-1',\n",
       " 'Illinois-16',\n",
       " 'Ohio-8',\n",
       " 'Kentucky-1',\n",
       " 'Pennsylvania-3',\n",
       " 'Louisiana',\n",
       " 'New Hampshire',\n",
       " 'Nevada',\n",
       " 'Illinois-10',\n",
       " 'Arizona-5',\n",
       " 'California-17',\n",
       " 'California-19',\n",
       " 'California-24',\n",
       " 'California-44',\n",
       " 'California-46',\n",
       " 'Delaware',\n",
       " 'Florida-1',\n",
       " 'Florida-2',\n",
       " 'Florida-5',\n",
       " 'Florida-9',\n",
       " 'Florida-21',\n",
       " 'Georgia-3',\n",
       " 'Illinois-8',\n",
       " 'Indiana-3',\n",
       " 'Kansas',\n",
       " 'Louisiana-3',\n",
       " 'Louisiana-4',\n",
       " 'Maryland-8',\n",
       " 'Michigan-1',\n",
       " 'North Carolina',\n",
       " 'Nebraska-2',\n",
       " 'New Jersey-5',\n",
       " 'Nevada',\n",
       " 'New York-13',\n",
       " 'Pennsylvania-1',\n",
       " 'Pennsylvania-11',\n",
       " 'Tennessee-8',\n",
       " 'Texas-34',\n",
       " 'Texas-19',\n",
       " 'Washington-7',\n",
       " 'Wisconsin-8',\n",
       " 'Kansas-4',\n",
       " 'South Carolina-5',\n",
       " 'California-34',\n",
       " 'Utah-3',\n",
       " 'Minnesota',\n",
       " 'Colorado-6',\n",
       " 'Mississippi',\n",
       " 'Arizona-8',\n",
       " 'Texas-27',\n",
       " 'Ohio-12',\n",
       " 'Oklahoma-1',\n",
       " 'New York-25',\n",
       " 'Pennsylvania-5',\n",
       " 'Pennsylvania-7',\n",
       " 'Hawaii-1',\n",
       " 'Nevada-4',\n",
       " 'Arizona-4',\n",
       " 'California-9',\n",
       " 'California-47',\n",
       " 'California-49',\n",
       " 'Colorado-2',\n",
       " 'Connecticut-5',\n",
       " 'Florida-6',\n",
       " 'Florida-17',\n",
       " 'Georgia-7',\n",
       " 'Idaho-1',\n",
       " 'Illinois-4',\n",
       " 'Illinois-6',\n",
       " 'Illinois-14',\n",
       " 'Indiana-4',\n",
       " 'Indiana-6',\n",
       " 'Kansas-3',\n",
       " 'Massachusetts-3',\n",
       " 'Massachusetts-7',\n",
       " 'Maryland-6',\n",
       " 'Michigan-7',\n",
       " 'Michigan-11',\n",
       " 'Michigan-12',\n",
       " 'Minnesota-2',\n",
       " 'Minnesota-3',\n",
       " 'Minnesota-5',\n",
       " 'Minnesota-8',\n",
       " 'Mississippi-3',\n",
       " 'North Dakota',\n",
       " 'New Hampshire-1',\n",
       " 'New Jersey-2',\n",
       " 'New Jersey-3',\n",
       " 'New Jersey-11',\n",
       " 'Nevada-3',\n",
       " 'New York-14',\n",
       " 'Pennsylvania-4',\n",
       " 'Pennsylvania-6',\n",
       " 'Pennsylvania-9',\n",
       " 'Pennsylvania-13',\n",
       " 'Pennsylvania-14',\n",
       " 'South Carolina-4',\n",
       " 'South Dakota',\n",
       " 'Tennessee-2',\n",
       " 'Tennessee-6',\n",
       " 'Tennessee-7',\n",
       " 'Texas-2',\n",
       " 'Texas-5',\n",
       " 'Texas-7',\n",
       " 'Texas-16',\n",
       " 'Texas-21',\n",
       " 'Texas-29',\n",
       " 'Texas-32',\n",
       " 'Virginia-6',\n",
       " 'Virginia-7',\n",
       " 'Virginia-10',\n",
       " 'Washington-8',\n",
       " 'Wisconsin-1',\n",
       " 'West Virginia-1',\n",
       " 'Florida',\n",
       " 'Indiana',\n",
       " 'Missouri',\n",
       " 'Utah',\n",
       " 'Maine-2',\n",
       " 'North Carolina-8',\n",
       " 'North Carolina-3',\n",
       " 'Maryland-7',\n",
       " 'Wisconsin-7',\n",
       " 'California-27',\n",
       " 'Arizona',\n",
       " 'Wyoming',\n",
       " 'California-48',\n",
       " 'Texas-17',\n",
       " 'California-22',\n",
       " 'Alabama',\n",
       " 'Colorado',\n",
       " 'Tennessee',\n",
       " 'Alabama-1',\n",
       " 'Alabama-2',\n",
       " 'California-23',\n",
       " 'California-40',\n",
       " 'California-45',\n",
       " 'California-51',\n",
       " 'Colorado-3',\n",
       " 'Florida-3',\n",
       " 'Florida-18',\n",
       " 'Florida-19',\n",
       " 'Florida-28',\n",
       " 'Florida-27',\n",
       " 'Georgia-5',\n",
       " 'Georgia-9',\n",
       " 'Georgia-14',\n",
       " 'Iowa-2',\n",
       " 'Iowa-1',\n",
       " 'Iowa-4',\n",
       " 'Illinois-15',\n",
       " 'Indiana-1',\n",
       " 'Indiana-5',\n",
       " 'Kansas-1',\n",
       " 'Kansas-2',\n",
       " 'Massachusetts-4',\n",
       " 'Michigan-9',\n",
       " 'Minnesota-7',\n",
       " 'Missouri-1',\n",
       " 'Montana-2',\n",
       " 'North Carolina-2',\n",
       " 'North Carolina-6',\n",
       " 'New Mexico-3',\n",
       " 'New York-2',\n",
       " 'New York-11',\n",
       " 'New York-15',\n",
       " 'New York-16',\n",
       " 'Oklahoma-5',\n",
       " 'Oregon-2',\n",
       " 'South Carolina-1',\n",
       " 'Tennessee-1',\n",
       " 'Texas-4',\n",
       " 'Texas-11',\n",
       " 'Texas-13',\n",
       " 'Texas-22',\n",
       " 'Texas-23',\n",
       " 'Texas-24',\n",
       " 'Utah-1',\n",
       " 'Utah-4',\n",
       " 'Virginia-5',\n",
       " 'Washington-10',\n",
       " 'Wisconsin-5',\n",
       " 'California',\n",
       " 'Georgia',\n",
       " 'Georgia',\n",
       " 'New York-24',\n",
       " 'Louisiana-5',\n",
       " 'Louisiana-2',\n",
       " 'New Mexico-1',\n",
       " 'Texas-6',\n",
       " 'Ohio-11',\n",
       " 'Ohio-15',\n",
       " 'Florida-20',\n",
       " 'Nebraska-1',\n",
       " 'Minnesota-1',\n",
       " 'Alaska',\n",
       " 'New York-18',\n",
       " 'Indiana-2',\n",
       " 'Montana-1',\n",
       " 'Alabama',\n",
       " 'Missouri',\n",
       " 'Ohio',\n",
       " 'Pennsylvania',\n",
       " 'Alabama-5',\n",
       " 'Arizona-2',\n",
       " 'Arizona-6',\n",
       " 'California-3',\n",
       " 'California-13',\n",
       " 'California-15',\n",
       " 'California-37',\n",
       " 'California-42',\n",
       " 'Colorado-7',\n",
       " 'Colorado-8',\n",
       " 'Florida-4',\n",
       " 'Florida-7',\n",
       " 'Florida-10',\n",
       " 'Florida-13',\n",
       " 'Florida-15',\n",
       " 'Florida-23',\n",
       " 'Georgia-6',\n",
       " 'Hawaii-2',\n",
       " 'Iowa-3',\n",
       " 'Illinois-1',\n",
       " 'Illinois-3',\n",
       " 'Illinois-13',\n",
       " 'Illinois-17',\n",
       " 'Indiana-9',\n",
       " 'Kentucky-3',\n",
       " 'Maryland-4',\n",
       " 'Michigan-3',\n",
       " 'Michigan-10',\n",
       " 'Michigan-13',\n",
       " 'Missouri-4',\n",
       " 'Missouri-7',\n",
       " 'Mississippi-4',\n",
       " 'North Carolina-1',\n",
       " 'North Carolina-4',\n",
       " 'North Carolina-11',\n",
       " 'North Carolina-13',\n",
       " 'North Carolina-14',\n",
       " 'New Jersey-7',\n",
       " 'New Jersey-8',\n",
       " 'New Mexico-2',\n",
       " 'New York-1',\n",
       " 'New York-3',\n",
       " 'New York-4',\n",
       " 'New York-10',\n",
       " 'New York-17',\n",
       " 'New York-19',\n",
       " 'New York-22',\n",
       " 'New York-23',\n",
       " 'Ohio-1',\n",
       " 'Ohio-7',\n",
       " 'Ohio-13',\n",
       " 'Oklahoma-2',\n",
       " 'Oregon-4',\n",
       " 'Oregon-5',\n",
       " 'Oregon-6',\n",
       " 'Pennsylvania-12',\n",
       " 'Pennsylvania-17',\n",
       " 'Rhode Island-2',\n",
       " 'South Carolina-7',\n",
       " 'Tennessee-5',\n",
       " 'Texas-1',\n",
       " 'Texas-3',\n",
       " 'Texas-8',\n",
       " 'Texas-15',\n",
       " 'Texas-30',\n",
       " 'Texas-35',\n",
       " 'Texas-38',\n",
       " 'Virginia-2',\n",
       " 'Vermont',\n",
       " 'Washington-3',\n",
       " 'Wisconsin-3',\n",
       " 'Wyoming',\n",
       " 'Nebraska',\n",
       " 'Virginia-4']"
      ]
     },
     "execution_count": 61,
     "metadata": {},
     "output_type": "execute_result"
    }
   ],
   "source": []
  },
  {
   "cell_type": "code",
   "execution_count": 58,
   "id": "d156527b-36b4-43f4-ad7f-f52494c5e76c",
   "metadata": {},
   "outputs": [
    {
     "data": {
      "text/plain": [
       "0       True\n",
       "1       True\n",
       "2       True\n",
       "3       True\n",
       "4       True\n",
       "       ...  \n",
       "525    False\n",
       "526    False\n",
       "527     True\n",
       "528     True\n",
       "529    False\n",
       "Name: district, Length: 530, dtype: bool"
      ]
     },
     "execution_count": 58,
     "metadata": {},
     "output_type": "execute_result"
    }
   ],
   "source": [
    "ideo['district'].isnull()"
   ]
  },
  {
   "cell_type": "code",
   "execution_count": null,
   "id": "da1894ec-26d6-4dea-80a3-06eaf0b36aa0",
   "metadata": {},
   "outputs": [],
   "source": []
  }
 ],
 "metadata": {
  "kernelspec": {
   "display_name": "Python 3 (ipykernel)",
   "language": "python",
   "name": "python3"
  },
  "language_info": {
   "codemirror_mode": {
    "name": "ipython",
    "version": 3
   },
   "file_extension": ".py",
   "mimetype": "text/x-python",
   "name": "python",
   "nbconvert_exporter": "python",
   "pygments_lexer": "ipython3",
   "version": "3.11.4"
  }
 },
 "nbformat": 4,
 "nbformat_minor": 5
}
