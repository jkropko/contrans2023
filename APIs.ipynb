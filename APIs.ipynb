{
 "cells": [
  {
   "cell_type": "markdown",
   "id": "e3bd6af1-8c57-4950-b2d1-ca21f35abbd4",
   "metadata": {},
   "source": [
    "# Connecting to the Congress and Open Secrets APIs\n",
    "First, register for an API key at the following websites:\n",
    "\n",
    "  * Congress.gov API: https://api.congress.gov/sign-up/\n",
    "  * Open Secrets API: https://www.opensecrets.org/api/admin/index.php?function=signup\n",
    "\n",
    "Next go to your project folder, `git pull origin main`, open your .env file and add your keys. Remember, no quotes or spaces.\n",
    "\n",
    "Then `docker compose up` and open the containerized Jupyter Lab. Create a new notebook called APIs.ipynb, and follow along here.\n",
    "\n",
    "First load the following libraries and bring in your API keys:"
   ]
  },
  {
   "cell_type": "code",
   "execution_count": 10,
   "id": "6bd30b24-e8ab-4f19-a339-58927b65150e",
   "metadata": {},
   "outputs": [],
   "source": [
    "import numpy as np\n",
    "import pandas as pd\n",
    "import requests\n",
    "# json and os are part of base Python, so they don't need to be in our requirements.txt file\n",
    "import json \n",
    "import os\n",
    "congressapi = os.getenv('congressapi')\n",
    "opensecretsapi = os.getenv('opensecretsapi')"
   ]
  },
  {
   "cell_type": "markdown",
   "id": "888a476c-500f-4285-b783-968e5670ae90",
   "metadata": {},
   "source": [
    "Check that your keys loaded correctly (but don't leave in any code that displays your keys).\n",
    "\n",
    "## Accessing the Congress.gov API\n",
    "\n",
    "An API is a system for transferring data over the internet. As users, we have to supply four things:\n",
    "\n",
    "  * a \"root\": the beginning of the URL that leads to all APIs that one data provider maintains\n",
    "  * an \"endpoint\": the later part of the URL, leading to one specific API\n",
    "  * parameters: the arguments the API expects us to provide along with the root and endpoint that control features about the data the API sends back to us (such as date range, etc)\n",
    "  * headers: additional information that we supply to the API to let them know who we are and what our system is\n",
    "\n",
    "Many APIs require credentials/keys, and different APIs ask that we provide the key as either a parameter or a header.\n",
    "\n",
    "But by far the most important skill for APIs is the ability to find and use the API documentation. Your goal in reading the documentation is finding out what the API requires with respect to the root, endpoint, parameters, and headers.\n",
    "\n",
    "For the congress.gov API, start with the documentation here: https://api.congress.gov\n",
    "\n",
    "There are many endpoints, but (if you look at the examples) they all begin with https://api.congress.gov/v3. Let's set that as the root:"
   ]
  },
  {
   "cell_type": "code",
   "execution_count": 7,
   "id": "af0e3c3f-962d-48d1-9db8-214e0536012f",
   "metadata": {},
   "outputs": [],
   "source": [
    "root = 'https://api.congress.gov/v3'"
   ]
  },
  {
   "cell_type": "markdown",
   "id": "faf9b01a-e601-40ea-87af-e61aaa6967a3",
   "metadata": {},
   "source": [
    "To choose the right endpoint, we have to decide what data we want to obtain. We'll come back to this API many times this semester. But let's start with the bill endpoint for the 118th congress: /bill/{congress}\n",
    "\n",
    "When an endpoint includes curly braces, it means to fill in that part of the URL with the value you want. So for the 118th congress the endpoint is /bill/118.\n",
    "\n",
    "We can build code that will allow us to swap the congress number with code by using an \"f-string\". A Python f-string starts with an f before the quote, then uses curly braces to indicate Python variable defined elsewhere. We can construct the endpoint as follows:"
   ]
  },
  {
   "cell_type": "code",
   "execution_count": 5,
   "id": "f2064ec7-a40d-4211-a5a9-41bf18570e83",
   "metadata": {},
   "outputs": [
    {
     "data": {
      "text/plain": [
       "'/bill/118'"
      ]
     },
     "execution_count": 5,
     "metadata": {},
     "output_type": "execute_result"
    }
   ],
   "source": [
    "congress = '118'\n",
    "endpoint = f'/bill/{congress}'\n",
    "endpoint"
   ]
  },
  {
   "cell_type": "markdown",
   "id": "95d5412e-c432-434e-a010-5b5056cf1bd1",
   "metadata": {},
   "source": [
    "We can combine the root and endpoint by adding them together:"
   ]
  },
  {
   "cell_type": "code",
   "execution_count": 8,
   "id": "89fbb2b0-c35a-4cac-8080-08d1675814c5",
   "metadata": {},
   "outputs": [
    {
     "data": {
      "text/plain": [
       "'https://api.congress.gov/v3/bill/118'"
      ]
     },
     "execution_count": 8,
     "metadata": {},
     "output_type": "execute_result"
    }
   ],
   "source": [
    "root + endpoint"
   ]
  },
  {
   "cell_type": "markdown",
   "id": "c30f2438-2fd4-4b87-948d-c4233b82b090",
   "metadata": {},
   "source": [
    "Next, consider the parameters listed in the documentation:\n",
    "\n",
    "  * congress: The congress number. For example, the value can be 117.\n",
    "  * format: The data format. Value can be xml or json.\n",
    "  * offset: The starting record returned. 0 is the first record.\n",
    "  * limit: The number of records returned. The maximum limit is 250.\n",
    "  * fromDateTime: The starting timestamp to filter by update date. Use format: YYYY-MM-DDT00:00:00Z.\n",
    "  * toDateTime: The ending timestamp to filter by update date. Use format: YYYY-MM-DDT00:00:00Z.\n",
    "* sort: Sort by update date in Congress.gov. Value can be updateDate+asc or updateDate+desc.\n",
    "\n",
    "It is usually not necessary to supply all of the parameters, unless the parameter is specifically marked as \"required\", like \"congress\" is. But in this case, let's specify them all. Parameters need to be listed inside a Python dictionary, which is contained within curly braces and contains \"key-value\" pairs in which each parameter's name is attached to the value with a colon, and parameters are separated by commas. \n",
    "\n",
    "Because the congress parameter is part of the endpoint, it does not need to be part of the parameters.\n",
    "\n",
    "Also, note that the example also includes our API key as the \"api_key\" parameter.\n",
    "\n",
    "Here, I want JSON (not XML) data in response. I want all bills initiated from January 1st of this year until September 18. I am limited to 250 bills, so I set the limit to that maximum value (if I max out, I can call the API again with offset=1 to obtain the next 250 bills on the list). Finally, I want the results sorted in descending order by the date the bill was last updates.\n",
    "\n",
    "The following example will clarify: \n"
   ]
  },
  {
   "cell_type": "code",
   "execution_count": 9,
   "id": "35eb7b3f-f3c8-48ed-ac05-89e85c40f281",
   "metadata": {},
   "outputs": [],
   "source": [
    "mypars = {'format': 'json',\n",
    "         'offset': 0,\n",
    "         'limit': 250,\n",
    "         'fromDateTime': '2023-01-01T00:00:00Z',\n",
    "         'toDateTime': '2023-09-18T00:00:00Z',\n",
    "         'sort': 'updateDate+desc',\n",
    "         'api_key': congressapi}"
   ]
  },
  {
   "cell_type": "markdown",
   "id": "a3ad9fe4-5b78-4817-9f3d-9467bec2e403",
   "metadata": {},
   "source": [
    "Finally, we need to create the headers. Headers are not always necessary, depending on the API. But using headers to provide information about who we are is always good etiquette. There are two fields we should define. \"From\" gives us a place to provide our email, in case our request causes a problem for the data provider. \"User-Agent\" is for the user-agent string - a small piece of text that describes the system we are using to connect to the API. The easiest way to find the user-agent string is to connect to https://httpbin.org/user-agent, which is a website that reflects our user-agent back to us. Use this code to get the user-agent string:"
   ]
  },
  {
   "cell_type": "code",
   "execution_count": 11,
   "id": "b73f6534-1082-4055-ab24-1743201f2190",
   "metadata": {},
   "outputs": [
    {
     "data": {
      "text/plain": [
       "'python-requests/2.31.0'"
      ]
     },
     "execution_count": 11,
     "metadata": {},
     "output_type": "execute_result"
    }
   ],
   "source": [
    "r = requests.get('https://httpbin.org/user-agent')\n",
    "useragent = json.loads(r.text)['user-agent']\n",
    "useragent"
   ]
  },
  {
   "cell_type": "markdown",
   "id": "5d3a0a35-800a-4bf0-9ef0-0ee754355d1d",
   "metadata": {},
   "source": [
    "Then our headers dictionary is:"
   ]
  },
  {
   "cell_type": "code",
   "execution_count": 12,
   "id": "f57b42ea-04e6-42a9-85f9-0195bcb5a271",
   "metadata": {},
   "outputs": [],
   "source": [
    "headers = {'User-Agent': useragent,\n",
    "          'From': 'jkropko@virginia.edu'}"
   ]
  },
  {
   "cell_type": "markdown",
   "id": "319df205-ed96-44de-b02f-988b54286c82",
   "metadata": {},
   "source": [
    "Finally, to put it all together, we use the `requests.get()` method, passing the root+endpoint, the parameters to the `params` argument, and the headers to the `headers` argument:"
   ]
  },
  {
   "cell_type": "code",
   "execution_count": 13,
   "id": "a81000c4-fd24-45a0-8abd-7a28bab913e9",
   "metadata": {},
   "outputs": [],
   "source": [
    "r = requests.get(root + endpoint,\n",
    "                params = mypars,\n",
    "                headers = headers)"
   ]
  },
  {
   "cell_type": "markdown",
   "id": "b04684cd-c353-4509-ad3e-7bac568b7a60",
   "metadata": {},
   "source": [
    "If the request was successful, we will see a \"200\" in response. Anything other than 200 is cause for worry:"
   ]
  },
  {
   "cell_type": "code",
   "execution_count": 14,
   "id": "d51dd3b6-7d79-4780-ba24-c2682849177a",
   "metadata": {},
   "outputs": [
    {
     "data": {
      "text/plain": [
       "<Response [200]>"
      ]
     },
     "execution_count": 14,
     "metadata": {},
     "output_type": "execute_result"
    }
   ],
   "source": [
    "r"
   ]
  },
  {
   "cell_type": "markdown",
   "id": "0652cfd5-ed68-48f1-878a-6ad3d9289e12",
   "metadata": {},
   "source": [
    "To extract the data in raw format, use the text attribute of the request variable we just defined:"
   ]
  },
  {
   "cell_type": "code",
   "execution_count": 16,
   "id": "78cd771a-ea2b-4d6d-b0fb-770119185df8",
   "metadata": {},
   "outputs": [],
   "source": [
    "#r.text"
   ]
  },
  {
   "cell_type": "markdown",
   "id": "a778e56e-23bb-4fc0-9d37-c98f577452df",
   "metadata": {},
   "source": [
    "This is long, and mostly unreadable. This string is JSON format (we'll talk more about JSON later). The important thing is to get Python to understand that the curly braces in this text represent dictionaries, and the square braces represent lists. To convert the string in this way, use `json.loads()`:"
   ]
  },
  {
   "cell_type": "code",
   "execution_count": 18,
   "id": "06e4c909-34ad-4627-9968-1cbc178864d3",
   "metadata": {},
   "outputs": [],
   "source": [
    "#json.loads(r.text)"
   ]
  },
  {
   "cell_type": "markdown",
   "id": "6589eea4-0753-42c3-96d5-4f0b1375e14d",
   "metadata": {},
   "source": [
    "The most useful way to present the data however are in terms of a data frame. For that use the `pd.json_normalize()` method. To work, we have to specify the `record_path` argument, which is the key (or combination of keys) that lead to a list that contain all of the records we want to list as rows in the data frame:"
   ]
  },
  {
   "cell_type": "code",
   "execution_count": 19,
   "id": "686f9762-8a10-4421-b21b-f7931c093356",
   "metadata": {},
   "outputs": [
    {
     "data": {
      "text/html": [
       "<div>\n",
       "<style scoped>\n",
       "    .dataframe tbody tr th:only-of-type {\n",
       "        vertical-align: middle;\n",
       "    }\n",
       "\n",
       "    .dataframe tbody tr th {\n",
       "        vertical-align: top;\n",
       "    }\n",
       "\n",
       "    .dataframe thead th {\n",
       "        text-align: right;\n",
       "    }\n",
       "</style>\n",
       "<table border=\"1\" class=\"dataframe\">\n",
       "  <thead>\n",
       "    <tr style=\"text-align: right;\">\n",
       "      <th></th>\n",
       "      <th>congress</th>\n",
       "      <th>number</th>\n",
       "      <th>originChamber</th>\n",
       "      <th>originChamberCode</th>\n",
       "      <th>title</th>\n",
       "      <th>type</th>\n",
       "      <th>updateDate</th>\n",
       "      <th>updateDateIncludingText</th>\n",
       "      <th>url</th>\n",
       "      <th>latestAction.actionDate</th>\n",
       "      <th>latestAction.text</th>\n",
       "      <th>latestAction.actionTime</th>\n",
       "    </tr>\n",
       "  </thead>\n",
       "  <tbody>\n",
       "    <tr>\n",
       "      <th>0</th>\n",
       "      <td>118</td>\n",
       "      <td>5517</td>\n",
       "      <td>House</td>\n",
       "      <td>H</td>\n",
       "      <td>To reauthorize programs of the Economic Develo...</td>\n",
       "      <td>HR</td>\n",
       "      <td>2023-09-16</td>\n",
       "      <td>2023-09-16T07:14:01Z</td>\n",
       "      <td>https://api.congress.gov/v3/bill/118/hr/5517?f...</td>\n",
       "      <td>2023-09-15</td>\n",
       "      <td>Referred to the Subcommittee on Economic Devel...</td>\n",
       "      <td>NaN</td>\n",
       "    </tr>\n",
       "    <tr>\n",
       "      <th>1</th>\n",
       "      <td>118</td>\n",
       "      <td>5497</td>\n",
       "      <td>House</td>\n",
       "      <td>H</td>\n",
       "      <td>To amend the Homeland Security Act of 2002 imp...</td>\n",
       "      <td>HR</td>\n",
       "      <td>2023-09-16</td>\n",
       "      <td>2023-09-16T07:14:01Z</td>\n",
       "      <td>https://api.congress.gov/v3/bill/118/hr/5497?f...</td>\n",
       "      <td>2023-09-15</td>\n",
       "      <td>Referred to the Subcommittee on Economic Devel...</td>\n",
       "      <td>NaN</td>\n",
       "    </tr>\n",
       "    <tr>\n",
       "      <th>2</th>\n",
       "      <td>118</td>\n",
       "      <td>5473</td>\n",
       "      <td>House</td>\n",
       "      <td>H</td>\n",
       "      <td>Promoting Resilient Buildings Act of 2023</td>\n",
       "      <td>HR</td>\n",
       "      <td>2023-09-17</td>\n",
       "      <td>2023-09-17T13:30:21Z</td>\n",
       "      <td>https://api.congress.gov/v3/bill/118/hr/5473?f...</td>\n",
       "      <td>2023-09-15</td>\n",
       "      <td>Referred to the Subcommittee on Economic Devel...</td>\n",
       "      <td>NaN</td>\n",
       "    </tr>\n",
       "    <tr>\n",
       "      <th>3</th>\n",
       "      <td>118</td>\n",
       "      <td>5465</td>\n",
       "      <td>House</td>\n",
       "      <td>H</td>\n",
       "      <td>To require the head of each agency to allow me...</td>\n",
       "      <td>HR</td>\n",
       "      <td>2023-09-16</td>\n",
       "      <td>2023-09-16T07:15:31Z</td>\n",
       "      <td>https://api.congress.gov/v3/bill/118/hr/5465?f...</td>\n",
       "      <td>2023-09-15</td>\n",
       "      <td>Referred to the Subcommittee on Economic Devel...</td>\n",
       "      <td>NaN</td>\n",
       "    </tr>\n",
       "    <tr>\n",
       "      <th>4</th>\n",
       "      <td>118</td>\n",
       "      <td>5457</td>\n",
       "      <td>House</td>\n",
       "      <td>H</td>\n",
       "      <td>To support carbon dioxide removal research and...</td>\n",
       "      <td>HR</td>\n",
       "      <td>2023-09-16</td>\n",
       "      <td>2023-09-16T07:14:00Z</td>\n",
       "      <td>https://api.congress.gov/v3/bill/118/hr/5457?f...</td>\n",
       "      <td>2023-09-15</td>\n",
       "      <td>Referred to the Subcommittee on Water Resource...</td>\n",
       "      <td>NaN</td>\n",
       "    </tr>\n",
       "    <tr>\n",
       "      <th>...</th>\n",
       "      <td>...</td>\n",
       "      <td>...</td>\n",
       "      <td>...</td>\n",
       "      <td>...</td>\n",
       "      <td>...</td>\n",
       "      <td>...</td>\n",
       "      <td>...</td>\n",
       "      <td>...</td>\n",
       "      <td>...</td>\n",
       "      <td>...</td>\n",
       "      <td>...</td>\n",
       "      <td>...</td>\n",
       "    </tr>\n",
       "    <tr>\n",
       "      <th>245</th>\n",
       "      <td>118</td>\n",
       "      <td>5398</td>\n",
       "      <td>House</td>\n",
       "      <td>H</td>\n",
       "      <td>Advancing Tech Startups Act</td>\n",
       "      <td>HR</td>\n",
       "      <td>2023-09-14</td>\n",
       "      <td>2023-09-14T11:15:19Z</td>\n",
       "      <td>https://api.congress.gov/v3/bill/118/hr/5398?f...</td>\n",
       "      <td>2023-09-12</td>\n",
       "      <td>Referred to the House Committee on Energy and ...</td>\n",
       "      <td>NaN</td>\n",
       "    </tr>\n",
       "    <tr>\n",
       "      <th>246</th>\n",
       "      <td>118</td>\n",
       "      <td>5421</td>\n",
       "      <td>House</td>\n",
       "      <td>H</td>\n",
       "      <td>EITC Modernization Act</td>\n",
       "      <td>HR</td>\n",
       "      <td>2023-09-14</td>\n",
       "      <td>2023-09-14T22:15:22Z</td>\n",
       "      <td>https://api.congress.gov/v3/bill/118/hr/5421?f...</td>\n",
       "      <td>2023-09-12</td>\n",
       "      <td>Referred to the House Committee on Ways and Me...</td>\n",
       "      <td>NaN</td>\n",
       "    </tr>\n",
       "    <tr>\n",
       "      <th>247</th>\n",
       "      <td>118</td>\n",
       "      <td>679</td>\n",
       "      <td>House</td>\n",
       "      <td>H</td>\n",
       "      <td>Expressing support for the designation of the ...</td>\n",
       "      <td>HRES</td>\n",
       "      <td>2023-09-15</td>\n",
       "      <td>2023-09-15T07:15:28Z</td>\n",
       "      <td>https://api.congress.gov/v3/bill/118/hres/679?...</td>\n",
       "      <td>2023-09-12</td>\n",
       "      <td>Referred to the House Committee on Oversight a...</td>\n",
       "      <td>NaN</td>\n",
       "    </tr>\n",
       "    <tr>\n",
       "      <th>248</th>\n",
       "      <td>118</td>\n",
       "      <td>5414</td>\n",
       "      <td>House</td>\n",
       "      <td>H</td>\n",
       "      <td>Improving Mental Health Access from the Emerge...</td>\n",
       "      <td>HR</td>\n",
       "      <td>2023-09-14</td>\n",
       "      <td>2023-09-14T22:15:22Z</td>\n",
       "      <td>https://api.congress.gov/v3/bill/118/hr/5414?f...</td>\n",
       "      <td>2023-09-12</td>\n",
       "      <td>Referred to the House Committee on Energy and ...</td>\n",
       "      <td>NaN</td>\n",
       "    </tr>\n",
       "    <tr>\n",
       "      <th>249</th>\n",
       "      <td>118</td>\n",
       "      <td>5400</td>\n",
       "      <td>House</td>\n",
       "      <td>H</td>\n",
       "      <td>NO PBMs Act</td>\n",
       "      <td>HR</td>\n",
       "      <td>2023-09-14</td>\n",
       "      <td>2023-09-14T22:15:22Z</td>\n",
       "      <td>https://api.congress.gov/v3/bill/118/hr/5400?f...</td>\n",
       "      <td>2023-09-12</td>\n",
       "      <td>Referred to the Committee on Energy and Commer...</td>\n",
       "      <td>NaN</td>\n",
       "    </tr>\n",
       "  </tbody>\n",
       "</table>\n",
       "<p>250 rows × 12 columns</p>\n",
       "</div>"
      ],
      "text/plain": [
       "     congress number originChamber originChamberCode  \\\n",
       "0         118   5517         House                 H   \n",
       "1         118   5497         House                 H   \n",
       "2         118   5473         House                 H   \n",
       "3         118   5465         House                 H   \n",
       "4         118   5457         House                 H   \n",
       "..        ...    ...           ...               ...   \n",
       "245       118   5398         House                 H   \n",
       "246       118   5421         House                 H   \n",
       "247       118    679         House                 H   \n",
       "248       118   5414         House                 H   \n",
       "249       118   5400         House                 H   \n",
       "\n",
       "                                                 title  type  updateDate  \\\n",
       "0    To reauthorize programs of the Economic Develo...    HR  2023-09-16   \n",
       "1    To amend the Homeland Security Act of 2002 imp...    HR  2023-09-16   \n",
       "2            Promoting Resilient Buildings Act of 2023    HR  2023-09-17   \n",
       "3    To require the head of each agency to allow me...    HR  2023-09-16   \n",
       "4    To support carbon dioxide removal research and...    HR  2023-09-16   \n",
       "..                                                 ...   ...         ...   \n",
       "245                        Advancing Tech Startups Act    HR  2023-09-14   \n",
       "246                             EITC Modernization Act    HR  2023-09-14   \n",
       "247  Expressing support for the designation of the ...  HRES  2023-09-15   \n",
       "248  Improving Mental Health Access from the Emerge...    HR  2023-09-14   \n",
       "249                                        NO PBMs Act    HR  2023-09-14   \n",
       "\n",
       "    updateDateIncludingText  \\\n",
       "0      2023-09-16T07:14:01Z   \n",
       "1      2023-09-16T07:14:01Z   \n",
       "2      2023-09-17T13:30:21Z   \n",
       "3      2023-09-16T07:15:31Z   \n",
       "4      2023-09-16T07:14:00Z   \n",
       "..                      ...   \n",
       "245    2023-09-14T11:15:19Z   \n",
       "246    2023-09-14T22:15:22Z   \n",
       "247    2023-09-15T07:15:28Z   \n",
       "248    2023-09-14T22:15:22Z   \n",
       "249    2023-09-14T22:15:22Z   \n",
       "\n",
       "                                                   url  \\\n",
       "0    https://api.congress.gov/v3/bill/118/hr/5517?f...   \n",
       "1    https://api.congress.gov/v3/bill/118/hr/5497?f...   \n",
       "2    https://api.congress.gov/v3/bill/118/hr/5473?f...   \n",
       "3    https://api.congress.gov/v3/bill/118/hr/5465?f...   \n",
       "4    https://api.congress.gov/v3/bill/118/hr/5457?f...   \n",
       "..                                                 ...   \n",
       "245  https://api.congress.gov/v3/bill/118/hr/5398?f...   \n",
       "246  https://api.congress.gov/v3/bill/118/hr/5421?f...   \n",
       "247  https://api.congress.gov/v3/bill/118/hres/679?...   \n",
       "248  https://api.congress.gov/v3/bill/118/hr/5414?f...   \n",
       "249  https://api.congress.gov/v3/bill/118/hr/5400?f...   \n",
       "\n",
       "    latestAction.actionDate  \\\n",
       "0                2023-09-15   \n",
       "1                2023-09-15   \n",
       "2                2023-09-15   \n",
       "3                2023-09-15   \n",
       "4                2023-09-15   \n",
       "..                      ...   \n",
       "245              2023-09-12   \n",
       "246              2023-09-12   \n",
       "247              2023-09-12   \n",
       "248              2023-09-12   \n",
       "249              2023-09-12   \n",
       "\n",
       "                                     latestAction.text latestAction.actionTime  \n",
       "0    Referred to the Subcommittee on Economic Devel...                     NaN  \n",
       "1    Referred to the Subcommittee on Economic Devel...                     NaN  \n",
       "2    Referred to the Subcommittee on Economic Devel...                     NaN  \n",
       "3    Referred to the Subcommittee on Economic Devel...                     NaN  \n",
       "4    Referred to the Subcommittee on Water Resource...                     NaN  \n",
       "..                                                 ...                     ...  \n",
       "245  Referred to the House Committee on Energy and ...                     NaN  \n",
       "246  Referred to the House Committee on Ways and Me...                     NaN  \n",
       "247  Referred to the House Committee on Oversight a...                     NaN  \n",
       "248  Referred to the House Committee on Energy and ...                     NaN  \n",
       "249  Referred to the Committee on Energy and Commer...                     NaN  \n",
       "\n",
       "[250 rows x 12 columns]"
      ]
     },
     "execution_count": 19,
     "metadata": {},
     "output_type": "execute_result"
    }
   ],
   "source": [
    "mydf = pd.json_normalize(json.loads(r.text),\n",
    "                        record_path = ['bills'])\n",
    "mydf"
   ]
  },
  {
   "cell_type": "markdown",
   "id": "ccf20273-a437-4471-96a1-0a045d8e56db",
   "metadata": {},
   "source": [
    "Now that we've successfully used this endpoint, try to get data from /member endpoint. Then try "
   ]
  }
 ],
 "metadata": {
  "kernelspec": {
   "display_name": "Python 3 (ipykernel)",
   "language": "python",
   "name": "python3"
  },
  "language_info": {
   "codemirror_mode": {
    "name": "ipython",
    "version": 3
   },
   "file_extension": ".py",
   "mimetype": "text/x-python",
   "name": "python",
   "nbconvert_exporter": "python",
   "pygments_lexer": "ipython3",
   "version": "3.11.4"
  }
 },
 "nbformat": 4,
 "nbformat_minor": 5
}
