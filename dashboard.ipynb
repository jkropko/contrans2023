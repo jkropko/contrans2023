{
 "cells": [
  {
   "cell_type": "code",
   "execution_count": 23,
   "id": "be9af650-ae21-4517-96f0-9a11e02ee5ba",
   "metadata": {},
   "outputs": [],
   "source": [
    "import numpy as np\n",
    "import pandas as pd\n",
    "import dash\n",
    "from dash import dcc\n",
    "from dash import html\n",
    "from dash.dependencies import Input, Output\n",
    "from sqlalchemy import create_engine\n",
    "import psycopg2\n",
    "import os\n",
    "POSTGRES_PASSWORD = os.getenv('POSTGRES_PASSWORD')"
   ]
  },
  {
   "cell_type": "code",
   "execution_count": 24,
   "id": "4998ddc9-6bbb-47b2-8edb-b9ac76ef22f4",
   "metadata": {},
   "outputs": [],
   "source": [
    "engine = create_engine('postgresql+psycopg2://{user}:{password}@{host}:{port}/{db}'.format(\n",
    "    user = 'postgres',\n",
    "    password = POSTGRES_PASSWORD,\n",
    "    host = 'postgres',\n",
    "    port = 5432,\n",
    "    db = 'congress'\n",
    "))"
   ]
  },
  {
   "cell_type": "code",
   "execution_count": 32,
   "id": "c221f257-7461-446a-bbb1-72f4f08eab69",
   "metadata": {},
   "outputs": [],
   "source": [
    "myquery = '''\n",
    "SELECT directordername, bioguideid\n",
    "FROM members\n",
    "ORDER BY lastname\n",
    "'''\n",
    "members = pd.read_sql_query(myquery, con=engine)\n",
    "memberlist = [{'label': x, 'value': y} for x, y in zip(members['directordername'], members['bioguideid'])]"
   ]
  },
  {
   "cell_type": "code",
   "execution_count": 34,
   "id": "f4eeb5e2-b3d4-411f-963f-5a0952a52547",
   "metadata": {},
   "outputs": [
    {
     "data": {
      "text/html": [
       "<div>\n",
       "<style scoped>\n",
       "    .dataframe tbody tr th:only-of-type {\n",
       "        vertical-align: middle;\n",
       "    }\n",
       "\n",
       "    .dataframe tbody tr th {\n",
       "        vertical-align: top;\n",
       "    }\n",
       "\n",
       "    .dataframe thead th {\n",
       "        text-align: right;\n",
       "    }\n",
       "</style>\n",
       "<table border=\"1\" class=\"dataframe\">\n",
       "  <thead>\n",
       "    <tr style=\"text-align: right;\">\n",
       "      <th></th>\n",
       "      <th>directordername</th>\n",
       "      <th>bioguideid</th>\n",
       "    </tr>\n",
       "  </thead>\n",
       "  <tbody>\n",
       "    <tr>\n",
       "      <th>0</th>\n",
       "      <td>Alma S. Adams</td>\n",
       "      <td>A000370</td>\n",
       "    </tr>\n",
       "    <tr>\n",
       "      <th>1</th>\n",
       "      <td>Robert B. Aderholt</td>\n",
       "      <td>A000055</td>\n",
       "    </tr>\n",
       "    <tr>\n",
       "      <th>2</th>\n",
       "      <td>Pete Aguilar</td>\n",
       "      <td>A000371</td>\n",
       "    </tr>\n",
       "    <tr>\n",
       "      <th>3</th>\n",
       "      <td>Mark Alford</td>\n",
       "      <td>A000379</td>\n",
       "    </tr>\n",
       "    <tr>\n",
       "      <th>4</th>\n",
       "      <td>Rick W. Allen</td>\n",
       "      <td>A000372</td>\n",
       "    </tr>\n",
       "    <tr>\n",
       "      <th>...</th>\n",
       "      <td>...</td>\n",
       "      <td>...</td>\n",
       "    </tr>\n",
       "    <tr>\n",
       "      <th>525</th>\n",
       "      <td>Steve Womack</td>\n",
       "      <td>W000809</td>\n",
       "    </tr>\n",
       "    <tr>\n",
       "      <th>526</th>\n",
       "      <td>Ron Wyden</td>\n",
       "      <td>W000779</td>\n",
       "    </tr>\n",
       "    <tr>\n",
       "      <th>527</th>\n",
       "      <td>Rudy Yakym III</td>\n",
       "      <td>Y000067</td>\n",
       "    </tr>\n",
       "    <tr>\n",
       "      <th>528</th>\n",
       "      <td>Todd Young</td>\n",
       "      <td>Y000064</td>\n",
       "    </tr>\n",
       "    <tr>\n",
       "      <th>529</th>\n",
       "      <td>Ryan K. Zinke</td>\n",
       "      <td>Z000018</td>\n",
       "    </tr>\n",
       "  </tbody>\n",
       "</table>\n",
       "<p>530 rows × 2 columns</p>\n",
       "</div>"
      ],
      "text/plain": [
       "        directordername bioguideid\n",
       "0         Alma S. Adams    A000370\n",
       "1    Robert B. Aderholt    A000055\n",
       "2          Pete Aguilar    A000371\n",
       "3           Mark Alford    A000379\n",
       "4         Rick W. Allen    A000372\n",
       "..                  ...        ...\n",
       "525        Steve Womack    W000809\n",
       "526           Ron Wyden    W000779\n",
       "527      Rudy Yakym III    Y000067\n",
       "528          Todd Young    Y000064\n",
       "529       Ryan K. Zinke    Z000018\n",
       "\n",
       "[530 rows x 2 columns]"
      ]
     },
     "execution_count": 34,
     "metadata": {},
     "output_type": "execute_result"
    }
   ],
   "source": [
    "members"
   ]
  },
  {
   "cell_type": "code",
   "execution_count": 2,
   "id": "6062518a-4dbd-4565-a783-96d98bfae478",
   "metadata": {},
   "outputs": [],
   "source": [
    "external_stylesheets = ['https://codepen.io/chriddyp/pen/bWLwgP.css']"
   ]
  },
  {
   "cell_type": "code",
   "execution_count": 20,
   "id": "b859dfed-b647-485a-bb5c-3ae1495c1c38",
   "metadata": {},
   "outputs": [],
   "source": [
    "mymarkdown = '''\n",
    "Congressional elections are usually all about the big, national issues. But these Representatives and Senators work for local districts and states. Not all issues are the same everywhere. The purpose of this dashboard is to collect public data from these sources:\n",
    "\n",
    "*[Official API for the U.S. Congress](https://api.congress.gov/)\n",
    "\n",
    "*[Voteview](https://voteview.com/)\n",
    "\n",
    "*[Open Secrets](https://www.opensecrets.org/open-data/api)\n",
    "\n",
    "*[ProPublica's Data on Bills](https://www.propublica.org/datastore/dataset/congressional-data-bulk-legislation-bills)\n",
    "\n",
    "'''"
   ]
  },
  {
   "cell_type": "code",
   "execution_count": 35,
   "id": "65410b0d-cfc5-4d6b-af2d-df6d174bae96",
   "metadata": {},
   "outputs": [
    {
     "data": {
      "text/html": [
       "\n",
       "        <iframe\n",
       "            width=\"100%\"\n",
       "            height=\"650\"\n",
       "            src=\"http://0.0.0.0:8050/\"\n",
       "            frameborder=\"0\"\n",
       "            allowfullscreen\n",
       "            \n",
       "        ></iframe>\n",
       "        "
      ],
      "text/plain": [
       "<IPython.lib.display.IFrame at 0xffff53e46810>"
      ]
     },
     "metadata": {},
     "output_type": "display_data"
    }
   ],
   "source": [
    "app = dash.Dash(__name__, external_stylesheets=external_stylesheets)\n",
    "\n",
    "app.layout = html.Div(\n",
    "    [\n",
    "        html.H1(\"Know Your Representatives in Congress\"),\n",
    "        html.H2(\"Data collected from APIs from Congress.gov, Open Secrets, Voteview.com, and ProPublica\"),\n",
    "        html.H3(\"DS 6600: Data Engineering 1, UVA Data Science\"),\n",
    "\n",
    "        dcc.Markdown(mymarkdown),\n",
    "\n",
    "        dcc.Dropdown(options = memberlist,\n",
    "                    value = 'A000370')\n",
    "    ]\n",
    ")\n",
    "\n",
    "if __name__== \"__main__\":\n",
    "    app.run(mode= 'external', host = \"0.0.0.0\", port = 8050, debug=True)\n",
    "\n"
   ]
  },
  {
   "cell_type": "code",
   "execution_count": 4,
   "id": "fe77cd28-94c6-4698-8b72-818f2cebfc82",
   "metadata": {},
   "outputs": [
    {
     "data": {
      "text/plain": [
       "'__main__'"
      ]
     },
     "execution_count": 4,
     "metadata": {},
     "output_type": "execute_result"
    }
   ],
   "source": [
    "__name__"
   ]
  },
  {
   "cell_type": "code",
   "execution_count": null,
   "id": "06c97e9a-77db-42b6-afb6-c33b7663b4c5",
   "metadata": {},
   "outputs": [],
   "source": []
  }
 ],
 "metadata": {
  "kernelspec": {
   "display_name": "Python 3 (ipykernel)",
   "language": "python",
   "name": "python3"
  },
  "language_info": {
   "codemirror_mode": {
    "name": "ipython",
    "version": 3
   },
   "file_extension": ".py",
   "mimetype": "text/x-python",
   "name": "python",
   "nbconvert_exporter": "python",
   "pygments_lexer": "ipython3",
   "version": "3.11.4"
  }
 },
 "nbformat": 4,
 "nbformat_minor": 5
}
