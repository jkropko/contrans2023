{
 "cells": [
  {
   "cell_type": "code",
   "execution_count": 1,
   "id": "f92fc177-c6bf-4b8b-b94e-b8ad5e908f29",
   "metadata": {},
   "outputs": [],
   "source": [
    "import numpy as np\n",
    "import pandas as pd\n",
    "import requests\n",
    "import json\n",
    "from bs4 import BeautifulSoup"
   ]
  },
  {
   "cell_type": "code",
   "execution_count": 2,
   "id": "136ad46b-06a9-45ba-95c6-504ba2f18352",
   "metadata": {},
   "outputs": [],
   "source": [
    "r = requests.get('http://httpbin.org/user-agent')\n",
    "useragent = json.loads(r.text)['user-agent']\n",
    "headers = {'User-Agent': useragent,\n",
    "          'From': 'jkropko@virginia.edu'}"
   ]
  },
  {
   "cell_type": "code",
   "execution_count": 3,
   "id": "dc6c8884-ced9-4d46-be8b-01123a3ccd5d",
   "metadata": {},
   "outputs": [],
   "source": [
    "url = 'https://www.congress.gov/bill/118th-congress/senate-bill/475/text?format=txt'"
   ]
  },
  {
   "cell_type": "code",
   "execution_count": 4,
   "id": "aa3a2943-f778-4207-8a01-608dff407262",
   "metadata": {},
   "outputs": [
    {
     "data": {
      "text/plain": [
       "<Response [403]>"
      ]
     },
     "execution_count": 4,
     "metadata": {},
     "output_type": "execute_result"
    }
   ],
   "source": [
    "r = requests.get(url, headers=headers)\n",
    "r"
   ]
  },
  {
   "cell_type": "code",
   "execution_count": 6,
   "id": "74ef26ff-fd4c-47ef-8ab5-79819cf5aca1",
   "metadata": {},
   "outputs": [
    {
     "data": {
      "text/plain": [
       "<!DOCTYPE html>\n",
       "<html lang=\"en-US\"><head><title>Just a moment...</title><meta content=\"text/html; charset=utf-8\" http-equiv=\"Content-Type\"/><meta content=\"IE=Edge\" http-equiv=\"X-UA-Compatible\"/><meta content=\"noindex,nofollow\" name=\"robots\"/><meta content=\"width=device-width,initial-scale=1\" name=\"viewport\"/><link href=\"/cdn-cgi/styles/challenges.css\" rel=\"stylesheet\"/></head><body class=\"no-js\"><div class=\"main-wrapper\" role=\"main\"><div class=\"main-content\"><noscript><div id=\"challenge-error-title\"><div class=\"h2\"><span class=\"icon-wrapper\"><div class=\"heading-icon warning-icon\"></div></span><span id=\"challenge-error-text\">Enable JavaScript and cookies to continue</span></div></div></noscript></div></div><script>(function(){window._cf_chl_opt={cvId: '2',cZone: \"www.congress.gov\",cType: 'managed',cNounce: '97666',cRay: '80ce4abd9bd80f5b',cHash: 'afdfde3cc37c49c',cUPMDTk: \"\\/bill\\/118th-congress\\/senate-bill\\/475\\/text?format=txt&__cf_chl_tk=BbMF3LF46epSXX.0AZvSGu0TbOuJQopnuEb4ybJ2W40-1695760511-0-gaNycGzNCtA\",cFPWv: 'g',cTTimeMs: '1000',cMTimeMs: '0',cTplV: 5,cTplB: 'cf',cK: \"visitor-time\",fa: \"\\/bill\\/118th-congress\\/senate-bill\\/475\\/text?format=txt&__cf_chl_f_tk=BbMF3LF46epSXX.0AZvSGu0TbOuJQopnuEb4ybJ2W40-1695760511-0-gaNycGzNCtA\",md: \"sUq9JdM34lrdKgUafMMEOmkV3SWqz2F7uZmwsKpcMGA-1695760511-0-AcH6ePRpdcw0sqRkDE-0AFepbPoL4u-7RYh1DyQjHvQdUjZJzGhmxn-Ud5w1cURAV3N-Cjyq26Z5t6uEAMes6KuyvdtuIa8DVCK0eM_gEO6Hpi-iRbmY-DLT82Pdl6PH9JQYo-8w0zadpYbi0qaT8dI8nwXqGVOIWIiAz4HIFL2rwOlUuXBs1ivKoh1JQEBBuZZDfmmXmZZr9Qql-LWBzV1pa4wgKGx0ZHO17KslqO3y65edwUCdpspy1foqK5tOeTSmQ2vYMCFzOa_PocX3Pyadu-nEAtX4MjIpXz9H0c00b0Ng2q2v7OVhrPC5eW0LidPR-S4UFLo9eNcKAjsIpO6pWBCQajh4kwQKOuZ3ys56rJglWNOXb0sP3snCx5P6eBj2EAO23uBV6epXGtK3l9cDlvAMOhW-8mtHvmRRpPrMPZsiDZJRrfnMM2JbvM1Gt0x63uTxZDntaicO0XGPSUBt9AWh8r3zoChmBOB6CYU3UkMCUJE7K20YHWJmIrught0Gzsd3ix07Xju4xAkDupYxohCffvgS8nt0Hs9u61bLpxYUdyDMcMHS-5g_AV6lrb2f-aDIOTpJKStcZjP5HX4ELH66UJOw6n6fuX0dCxj3NVihbi-j4tMIPP0VZSENcEdFrohl-k1F9ImOMpCYlD6tPXcxMc3W5eI7u5KpH2n_ZkOvLCsTaDGkmV9viQoVbwZ36cGwe5kl5oHJF8168pG50w9OlnXUMAYBM-NwdG7P8gMRUzE1utRJuU75wN2m5uT8c9EQhlcjsah4RGidAAGDteqQPS7F3c3JzmWxBO4hU08n0NvnBoL-p98shyz9IkjXZS6Sp9cDBKvcx-wz5isybbvZhFvtryLeCNyXud8SUh1jBGc3r62lzwNcme2odT1tGIEfkffG9HCeNipL4k1Sb4HpCuizJohY3cvLB-Xg2QCh_g2W0Z1aklVZLEZiSYapXrdJagFD05mxveWqbuQs_JuXl0tlekOqfAqMqC0mN3dD_TnRVHhAjBefGdsi9qSV7kAfu5-W_BeRGJuUoJaw3cZbMCKvjvCxdNel2L23Udpf8psyXGPVdvMgZBf1mPuLYwVXjczAELTMgltidGpZdHgVFXiqy8l3UtjUwZWM2wi4cU5Ar3_u2I5q2-0Qur1aKg7N-t1uJrgJEBSzyr-qolBlKv3tLHexPFqLsMeG5cH1vp_1eD8JWIuVi2kQdl3eocED_aGGeyXAJaSD4Zzm3GBUJevmbKMJR_gKK60T2-cCwfLasygc2OT6RBDe2um8CJBiSQrPMlmEsLuaRqeuIiWua-urW0Opj3H42q4RrFBguGgQZ43d9ZV3HS35j58CUaORaTwrv8Gm5-H63uScqZ3x3N5XjmTt1UDxPn4UFRpqvur5O6x8wQdkOyjmH0CI9FOZFwpbRi3eCgeBrWusAeudeJb2XPAbJ-u_WfpAD2XOcw1QgeJwBuqvtbv16jVLvZYnIh0NzLglqnRGtofnzEySOE3VQv36oP9q3nHwYFR0GAGnYN_2NdKQi-7d9I4S6LW-zq7gGKjtZO0gIElLc0a1a3sm24F-wNBdxzg2ns7BA_y347bgFw5Og7HtHWSOmUDVWxVKQJDlK-d6sdEka-neeqwOpO-HH0K18yqy1hbC2zaYcM0RCzTzI8SoEZSDtn6wv8LP-HYGX0y55Ng5oouF6KzEWHfaMOF2e2dc-a33Iu0sX57aAoMxNVuIHqWNB8y1acmW7QJhq5Rza30IpuWcwCrWH0M11_jHyx4Sw353OL-g9HXnEswJ9FjxLZktpFp77hXjVVv5T5VZQDy6Di6SHpZAkTat5Q2PPAVzSmCGG33CNMtYkByzOfiNtBoLUTLilrN5zXpGJr9_lCI8MpQl-J_l6wVEsLVJKl9-mu37rzNROVFp5Bl6K_mpsSjcC9cDVw2FMDoZsQSH8mjBmLSTtO3wEnjtKPcy8uOImxUzcNEKlJC6KdT4TT7MJ_qsRGwRMXID9h9Y3jGm-1D7Y9o3tZ5gHSUNJvYv5edZUULzMWq2TzQ-fh7Mp8u-Jd5JsmGmBqlE2es4WPOsV-m5CFsf6PV0tFDcokHaeibZKvtoAFTvm36Ijk_-Vlxuci0ZVJstTvck62_2W7JSrNb1mwMnDoOhFsGqVdB11yt8_XduMl1L0UasveAJZbtpjHJg0_O0I6-87rd3BLCMd1LLOASIIVh7h76i6Ggh2DwBdsmRbbQFWKumf7pvRyd8Ek1YgR5ebhB__VPopNLAwGm_lXC5klcJu3xzHsHOb-jC2UU4y6kxRtgAlXNj5Lu0eXfbX6VLr6x4YAp_zmeY3wloAt9mheNTICVcOJ04eDvTBi0hiWPEkeLQr9VY2gAOfGnO8VB4rl52QD1uYaT9R08FNTlsIYrFE8RtTlzwXBC38yc1ton65d4QVBWl3cJ-XKBVSm1GzYiRJfsoYOZRiKDAoSth8ge_SoSzmxbrPYwNBPG8Z2zk8f0thU7_Uti5tRZWufynWBVlXjK-aw7G6G8SAh8xs_5LQGfIsTh4qjDTMWh0FryhU2lg_TnadapVL9JezgkL6zjkU5Cn1PIoBDM7RK08J6jF7aESku1DCirkPbqFYjiVzR3AinbjF2Kue8_BKIGvexRN1jAByiI80STNyz3XWZjWdlPHci3F5NRdHuqsxWs4Sr47ymH4m-Nw4wL8gF98vo0ECWIqkx7PJ6o\",cRq: {ru: 'aHR0cHM6Ly93d3cuY29uZ3Jlc3MuZ292L2JpbGwvMTE4dGgtY29uZ3Jlc3Mvc2VuYXRlLWJpbGwvNDc1L3RleHQ/Zm9ybWF0PXR4dA==',ra: 'cHl0aG9uLXJlcXVlc3RzLzIuMzEuMA==',rm: 'R0VU',d: 'jcZ9BsTNwVhK3s+7vtpDEdOkmtnqiJIwZ2JojUbjVZdMDSw/6mBBlFABB0awv6N1KcgGPjgRBAZ0Nmvkol08VHzkcQoXsNytDz9V0UTFP13NTX7Stftj2KBx9/gw23UrnmlY/yl8AbTatfmsbqa1Nfs6U3GcJ3Esycl3CUIEgt6mfXYMJomQi1ShMwjVmYj55Tkjdrd7MHsVBSUQNgdAqyJx+ewQn3MqE4Z8DqFXnF+6RYHwihussGR7WtIT3D5jrz3BQjJmlxzQK3MQUbZ5vbqDGeZk5kUrGb6BPt7cWxLZEd6kDxKGHoC3vxdtjaHAOPVvi01zXM6nehxypYLfWbvR3sp4QXnhgnGFMxPiH2/fG98n+5wSOnbROWLxabhSbJG4TBRof9/V+0bsvZZvJL+l/z16P4RNfqXNSyrychVUBHuCUV+XAlOkhhwtEENEavSyze9NhLw5vknh5wrNEIa92WzADxDI/t+H+23cuwhd8gWHoc/CT+bje9RfRYpivoMeE5lZVab13rkq1a7xWFnF41NHYbOOm7psNtjN+1OdRbf6JICvbjK9Lelh0I4O',t: 'MTY5NTc2MDUxMS42MjEwMDA=',cT: Math.floor(Date.now() / 1000),m: 'gTJEE1iFZJPSjLBorHxLSGPsnAmP7h8GnZrurjYKQS8=',i1: 'K+B14cOrtciNtXTuab2ebQ==',i2: 'qQoCysHX8WhzCVQHlEpCMg==',zh: 'P/37dfGD+KUZFm0qKuE3N/q0gn3BGPttWTswwTYBAD8=',uh: 'YE9XOpG5TeHmhA1zfs5mxC8CrRZzq2a/+r+OU7dliYQ=',hh: 'cTbG2zct7/9cr7abEWSg59sInRszec2mTWq3jspVNx4=',}};var cpo = document.createElement('script');cpo.src = '/cdn-cgi/challenge-platform/h/g/orchestrate/chl_page/v1?ray=80ce4abd9bd80f5b';window._cf_chl_opt.cOgUHash = location.hash === '' && location.href.indexOf('#') !== -1 ? '#' : location.hash;window._cf_chl_opt.cOgUQuery = location.search === '' && location.href.slice(0, location.href.length - window._cf_chl_opt.cOgUHash.length).indexOf('?') !== -1 ? '?' : location.search;if (window.history && window.history.replaceState) {var ogU = location.pathname + window._cf_chl_opt.cOgUQuery + window._cf_chl_opt.cOgUHash;history.replaceState(null, null, \"\\/bill\\/118th-congress\\/senate-bill\\/475\\/text?format=txt&__cf_chl_rt_tk=BbMF3LF46epSXX.0AZvSGu0TbOuJQopnuEb4ybJ2W40-1695760511-0-gaNycGzNCtA\" + window._cf_chl_opt.cOgUHash);cpo.onload = function() {history.replaceState(null, null, ogU);}}document.getElementsByTagName('head')[0].appendChild(cpo);}());</script></body></html>"
      ]
     },
     "execution_count": 6,
     "metadata": {},
     "output_type": "execute_result"
    }
   ],
   "source": [
    "BeautifulSoup(r.text, 'html.parser')"
   ]
  },
  {
   "cell_type": "code",
   "execution_count": 7,
   "id": "00132d63-acd1-40d1-a09d-67c998a12a5d",
   "metadata": {},
   "outputs": [
    {
     "data": {
      "text/plain": [
       "<Response [200]>"
      ]
     },
     "execution_count": 7,
     "metadata": {},
     "output_type": "execute_result"
    }
   ],
   "source": [
    "url = 'https://www.govinfo.gov/content/pkg/BILLS-118s475is/html/BILLS-118s475is.htm'\n",
    "r = requests.get(url, headers=headers)\n",
    "r"
   ]
  },
  {
   "cell_type": "code",
   "execution_count": 10,
   "id": "dd29bb32-e2a2-4d33-880e-177b089a3044",
   "metadata": {},
   "outputs": [
    {
     "data": {
      "text/plain": [
       "<html><body><pre>\n",
       "[Congressional Bills 118th Congress]\n",
       "[From the U.S. Government Publishing Office]\n",
       "[S. 475 Introduced in Senate (IS)]\n",
       "\n",
       "&lt;DOC&gt;\n",
       "\n",
       "\n",
       "\n",
       "\n",
       "\n",
       "\n",
       "118th CONGRESS\n",
       "  1st Session\n",
       "                                 S. 475\n",
       "\n",
       "   To designate the clinic of the Department of Veterans Affairs in \n",
       "   Gallup, New Mexico, as the Hiroshi ``Hershey'' Miyamura VA Clinic.\n",
       "\n",
       "\n",
       "_______________________________________________________________________\n",
       "\n",
       "\n",
       "                   IN THE SENATE OF THE UNITED STATES\n",
       "\n",
       "                           February 16, 2023\n",
       "\n",
       "Mr. Heinrich (for himself and Mr. Lujan) introduced the following bill; \n",
       "which was read twice and referred to the Committee on Veterans' Affairs\n",
       "\n",
       "_______________________________________________________________________\n",
       "\n",
       "                                 A BILL\n",
       "\n",
       "\n",
       " \n",
       "   To designate the clinic of the Department of Veterans Affairs in \n",
       "   Gallup, New Mexico, as the Hiroshi ``Hershey'' Miyamura VA Clinic.\n",
       "\n",
       "    Be it enacted by the Senate and House of Representatives of the \n",
       "United States of America in Congress assembled,\n",
       "\n",
       "SECTION 1. DESIGNATION OF HIROSHI ``HERSHEY'' MIYAMURA DEPARTMENT OF \n",
       "              VETERANS AFFAIRS CLINIC.\n",
       "\n",
       "    (a) Findings.--Congress finds the following:\n",
       "            (1) Hiroshi ``Hershey'' Miyamura was born on October 6, \n",
       "        1925, in Gallup, New Mexico.\n",
       "            (2) A second generation Japanese American, Hershey Miyamura \n",
       "        first served in the United States Army near the end of World \n",
       "        War II.\n",
       "            (3) Hershey Miyamura served in the Army at a time when many \n",
       "        of his fellow Japanese Americans, and that includes his future \n",
       "        wife, were detained in internment camps in the United States.\n",
       "            (4) Hershey Miyamura served in the storied 442nd Infantry \n",
       "        Regiment, which was composed of soldiers with Japanese ancestry \n",
       "        and became one of the most decorated units in the history of \n",
       "        the United States military.\n",
       "            (5) Following the start of the Korean War in 1950, the Army \n",
       "        recalled Hershey Miyamura, who had remained as a member of the \n",
       "        reserve components of the Army, back into active duty.\n",
       "            (6) During an overnight firefight from April 24 to April \n",
       "        25, 1951, then-Corporal Miyamura covered the withdrawal of his \n",
       "        entire company from advancing enemy forces as a machine gun \n",
       "        squad leader.\n",
       "            (7) The selfless actions by Hershey Miyamura that night \n",
       "        allowed all 16 of his men to withdraw safely before he was \n",
       "        severely wounded and captured as a prisoner of war.\n",
       "            (8) Nearly 2\\1/2\\ years later, following his release and \n",
       "        return to the United States, President Eisenhower presented \n",
       "        Hershey Miyamura with the Congressional Medal of Honor in a \n",
       "        ceremony at the White House.\n",
       "            (9) The lifelong dedication of Hershey Miyamura to the \n",
       "        United States never ceased. It continued long after his \n",
       "        decorated military service ended.\n",
       "            (10) After he received his honorable discharge from the \n",
       "        Army, Hershey Miyamura opened a service station along Route 66 \n",
       "        in his hometown of Gallup, New Mexico.\n",
       "            (11) Hershey Miyamura remained active in his community \n",
       "        until his dying days, advocating for his fellow veterans and \n",
       "        inspiring young people with lectures on patriotism, faith, and \n",
       "        service.\n",
       "    (b) Designation.--The clinic of the Department of Veterans Affairs \n",
       "located at 2075 South NM Highway 602, Gallup, New Mexico, shall after \n",
       "the date of the enactment of this Act be known and designated as the \n",
       "``Hiroshi `Hershey' Miyamura Department of Veterans Affairs Clinic'' or \n",
       "the ``Hiroshi `Hershey' Miyamura VA Clinic''.\n",
       "    (c) References.--Any reference in any law, regulation, map, \n",
       "document, paper, or other record of the United States to the clinic \n",
       "referred to in subsection (b) shall be considered to be a reference to \n",
       "the ``Hiroshi `Hershey' Miyamura VA Clinic''.\n",
       "                                 &lt;all&gt;\n",
       "</pre></body></html>"
      ]
     },
     "execution_count": 10,
     "metadata": {},
     "output_type": "execute_result"
    }
   ],
   "source": [
    "mysoup = BeautifulSoup(r.text, 'html.parser')\n",
    "mysoup"
   ]
  },
  {
   "cell_type": "code",
   "execution_count": 14,
   "id": "6772347d-e5ed-4d58-ae17-a35e09cb9247",
   "metadata": {},
   "outputs": [
    {
     "name": "stdout",
     "output_type": "stream",
     "text": [
      "\n",
      "[Congressional Bills 118th Congress]\n",
      "[From the U.S. Government Publishing Office]\n",
      "[S. 475 Introduced in Senate (IS)]\n",
      "\n",
      "<DOC>\n",
      "\n",
      "\n",
      "\n",
      "\n",
      "\n",
      "\n",
      "118th CONGRESS\n",
      "  1st Session\n",
      "                                 S. 475\n",
      "\n",
      "   To designate the clinic of the Department of Veterans Affairs in \n",
      "   Gallup, New Mexico, as the Hiroshi ``Hershey'' Miyamura VA Clinic.\n",
      "\n",
      "\n",
      "_______________________________________________________________________\n",
      "\n",
      "\n",
      "                   IN THE SENATE OF THE UNITED STATES\n",
      "\n",
      "                           February 16, 2023\n",
      "\n",
      "Mr. Heinrich (for himself and Mr. Lujan) introduced the following bill; \n",
      "which was read twice and referred to the Committee on Veterans' Affairs\n",
      "\n",
      "_______________________________________________________________________\n",
      "\n",
      "                                 A BILL\n",
      "\n",
      "\n",
      " \n",
      "   To designate the clinic of the Department of Veterans Affairs in \n",
      "   Gallup, New Mexico, as the Hiroshi ``Hershey'' Miyamura VA Clinic.\n",
      "\n",
      "    Be it enacted by the Senate and House of Representatives of the \n",
      "United States of America in Congress assembled,\n",
      "\n",
      "SECTION 1. DESIGNATION OF HIROSHI ``HERSHEY'' MIYAMURA DEPARTMENT OF \n",
      "              VETERANS AFFAIRS CLINIC.\n",
      "\n",
      "    (a) Findings.--Congress finds the following:\n",
      "            (1) Hiroshi ``Hershey'' Miyamura was born on October 6, \n",
      "        1925, in Gallup, New Mexico.\n",
      "            (2) A second generation Japanese American, Hershey Miyamura \n",
      "        first served in the United States Army near the end of World \n",
      "        War II.\n",
      "            (3) Hershey Miyamura served in the Army at a time when many \n",
      "        of his fellow Japanese Americans, and that includes his future \n",
      "        wife, were detained in internment camps in the United States.\n",
      "            (4) Hershey Miyamura served in the storied 442nd Infantry \n",
      "        Regiment, which was composed of soldiers with Japanese ancestry \n",
      "        and became one of the most decorated units in the history of \n",
      "        the United States military.\n",
      "            (5) Following the start of the Korean War in 1950, the Army \n",
      "        recalled Hershey Miyamura, who had remained as a member of the \n",
      "        reserve components of the Army, back into active duty.\n",
      "            (6) During an overnight firefight from April 24 to April \n",
      "        25, 1951, then-Corporal Miyamura covered the withdrawal of his \n",
      "        entire company from advancing enemy forces as a machine gun \n",
      "        squad leader.\n",
      "            (7) The selfless actions by Hershey Miyamura that night \n",
      "        allowed all 16 of his men to withdraw safely before he was \n",
      "        severely wounded and captured as a prisoner of war.\n",
      "            (8) Nearly 2\\1/2\\ years later, following his release and \n",
      "        return to the United States, President Eisenhower presented \n",
      "        Hershey Miyamura with the Congressional Medal of Honor in a \n",
      "        ceremony at the White House.\n",
      "            (9) The lifelong dedication of Hershey Miyamura to the \n",
      "        United States never ceased. It continued long after his \n",
      "        decorated military service ended.\n",
      "            (10) After he received his honorable discharge from the \n",
      "        Army, Hershey Miyamura opened a service station along Route 66 \n",
      "        in his hometown of Gallup, New Mexico.\n",
      "            (11) Hershey Miyamura remained active in his community \n",
      "        until his dying days, advocating for his fellow veterans and \n",
      "        inspiring young people with lectures on patriotism, faith, and \n",
      "        service.\n",
      "    (b) Designation.--The clinic of the Department of Veterans Affairs \n",
      "located at 2075 South NM Highway 602, Gallup, New Mexico, shall after \n",
      "the date of the enactment of this Act be known and designated as the \n",
      "``Hiroshi `Hershey' Miyamura Department of Veterans Affairs Clinic'' or \n",
      "the ``Hiroshi `Hershey' Miyamura VA Clinic''.\n",
      "    (c) References.--Any reference in any law, regulation, map, \n",
      "document, paper, or other record of the United States to the clinic \n",
      "referred to in subsection (b) shall be considered to be a reference to \n",
      "the ``Hiroshi `Hershey' Miyamura VA Clinic''.\n",
      "                                 <all>\n",
      "\n"
     ]
    }
   ],
   "source": [
    "print(mysoup.find_all('pre')[0].text)"
   ]
  },
  {
   "cell_type": "code",
   "execution_count": null,
   "id": "756905e7-0000-4925-bd47-dba7051adde7",
   "metadata": {},
   "outputs": [],
   "source": []
  }
 ],
 "metadata": {
  "kernelspec": {
   "display_name": "Python 3 (ipykernel)",
   "language": "python",
   "name": "python3"
  },
  "language_info": {
   "codemirror_mode": {
    "name": "ipython",
    "version": 3
   },
   "file_extension": ".py",
   "mimetype": "text/x-python",
   "name": "python",
   "nbconvert_exporter": "python",
   "pygments_lexer": "ipython3",
   "version": "3.11.4"
  }
 },
 "nbformat": 4,
 "nbformat_minor": 5
}
