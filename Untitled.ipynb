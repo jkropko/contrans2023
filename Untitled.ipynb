{
 "cells": [
  {
   "cell_type": "code",
   "execution_count": 4,
   "id": "54bfa823-def8-4052-92af-84235c63ecc7",
   "metadata": {},
   "outputs": [],
   "source": [
    "import numpy as np\n",
    "import pandas as pd\n",
    "from bs4 import BeautifulSoup\n",
    "import requests\n",
    "import json"
   ]
  },
  {
   "cell_type": "code",
   "execution_count": 13,
   "id": "6da2fc5b-55ab-41d8-9f5e-f3c7ba3d76bc",
   "metadata": {},
   "outputs": [],
   "source": [
    "congress = '118'\n",
    "chamber = 'senate'\n",
    "billnumber = '475'\n",
    "url = f'https://www.congress.gov/bill/{congress}th-congress/{chamber}-bill/{billnumber}/text?format=xml'"
   ]
  },
  {
   "cell_type": "code",
   "execution_count": 22,
   "id": "636bfb71-a1d7-487a-9c0f-a6b66dc71f32",
   "metadata": {},
   "outputs": [],
   "source": [
    "r = requests.get('http://httpbin.org/user-agent')\n",
    "useragent = json.loads(r.text)['user-agent']\n",
    "headers = {'User-Agent': useragent,\n",
    "          'From': 'jkropko@virginia.edu'}"
   ]
  },
  {
   "cell_type": "code",
   "execution_count": 26,
   "id": "ebfc6ed0-38dc-4ae4-ade7-91bda355b35b",
   "metadata": {},
   "outputs": [
    {
     "data": {
      "text/plain": [
       "{'__cf_bm': '7m8uEsIQupN7NT8FdiZ.yygez.lF7KgqOY6Pf1zCgcE-1695412260-0-AYq0f71K0yF5/kltp99u5zWRVosTaGawCjGN5RHWpZVH/m/ivGkdVB5FaFDcflXOf9zVdn/AHilNsg/auGo+W6I='}"
      ]
     },
     "execution_count": 26,
     "metadata": {},
     "output_type": "execute_result"
    }
   ],
   "source": [
    "s = requests.Session()\n",
    "res = s.get(url)\n",
    "cookies = dict(res.cookies)\n",
    "cookies"
   ]
  },
  {
   "cell_type": "code",
   "execution_count": 31,
   "id": "9bd532bb-c8c9-4bc1-9590-8096c3456dee",
   "metadata": {},
   "outputs": [
    {
     "data": {
      "text/plain": [
       "'<!DOCTYPE html><html lang=\"en-US\"><head><title>Just a moment...</title><meta http-equiv=\"Content-Type\" content=\"text/html; charset=UTF-8\"><meta http-equiv=\"X-UA-Compatible\" content=\"IE=Edge\"><meta name=\"robots\" content=\"noindex,nofollow\"><meta name=\"viewport\" content=\"width=device-width,initial-scale=1\"><link href=\"/cdn-cgi/styles/challenges.css\" rel=\"stylesheet\"></head><body class=\"no-js\"><div class=\"main-wrapper\" role=\"main\"><div class=\"main-content\"><noscript><div id=\"challenge-error-title\"><div class=\"h2\"><span class=\"icon-wrapper\"><div class=\"heading-icon warning-icon\"></div></span><span id=\"challenge-error-text\">Enable JavaScript and cookies to continue</span></div></div></noscript></div></div><script>(function(){window._cf_chl_opt={cvId: \\'2\\',cZone: \"www.congress.gov\",cType: \\'managed\\',cNounce: \\'46911\\',cRay: \\'80ad1483996b0cbd\\',cHash: \\'273110bdbc109b8\\',cUPMDTk: \"\\\\/bill\\\\/118th-congress\\\\/senate-bill\\\\/475\\\\/text?format=xml&__cf_chl_tk=qGozX5RWIkbx9Vtglc6.hfpRCmNLsWJ5tE0x8H2whUU-1695412260-0-gaNycGzNCpA\",cFPWv: \\'g\\',cTTimeMs: \\'1000\\',cMTimeMs: \\'0\\',cTplV: 5,cTplB: \\'cf\\',cK: \"visitor-time\",fa: \"\\\\/bill\\\\/118th-congress\\\\/senate-bill\\\\/475\\\\/text?format=xml&__cf_chl_f_tk=qGozX5RWIkbx9Vtglc6.hfpRCmNLsWJ5tE0x8H2whUU-1695412260-0-gaNycGzNCpA\",md: \"8ux1LV8qFiVgElUwC7DvMumrLyFGWP4h5m3HcQFjl74-1695412260-0-AcnR_8B49nY1qk6WIvG4366x4rHn93tnZ-x7C2Pdn25E4oOTlxDGEE4NbkFWKBO6T8peQj4N658pCCmZi0FQhnv_HZg4tfFsShHGgmE6oqUNBAEeeD9Jz-njz_PY0neh4M_5CV5Ffq1-eJVJS1yO_BYj5JNyjwwqKF8Z27lDtLS9v8EWvA_wFASpboopxH3DtsMzJMWmAdao-saTzWu3SKN8oPLyk46geim6rl4xvV4l2_EXtM9xtnQR2ato394orJ0cyX31DSV8-7fv_DCv0ypLMJSggmJm7R2fKlvBDk9IRp7-1cJieQm-MtLQWQEPSiTuQbNxE0blFZk9pabLx-K1dem3wG6p0k5V72p-YVjqgF4MMCDWgxEe5vwlJ2aimRoMnD4U-KX4Y0epPQ4e5jj18hgvMpgltDtHiVCKbllIFdkFYRbB-K1e1qsskPImxjfVBotiL-PQxlLwC9ke1Rj8yxaKLbcNFEM3zyHpy7RwbeYwplIrAuFnBQG2s4e48cYbNhOASveceg-DdrKu2vXThI7pvwne7xDHA6gK4ez2IlU3rX8u_EOPUUTSzpGgqOTOEs3c_dxw18MNhu03S8cDX6H0QRQU0qclv4DGf3ZWfWhBQKXs4LP5bchaPINGtZMvzLGzkZJPk_bouOHFcZyib-Q2bSTnnPOB-dv-prxuZDHs3Jn1hGQYPAFUCVS4PF6Tb6dD0eOu39gWNd7ADEeeYVqAWyN4dDxwn3mRqtTOL9zsR7mvw2IOZZLTH0R_GHaGO28tlW9swSqZXdjuuX7h8_g0Q7nVa-1V7woBNpjnc4I0SA2TKY0FEa3KqNfNTF2st3HD_QqVKzgWZlu4R1U3oYXIPl48d5RzBBrCO85AMStCnrgTvd9oAeiAGH_74G2hPAWV4DO557yIzLsgbr5haQvpY4pUj_Qu2BQbbfe3H6-KhbiEVzmB5Qaoax3AlBxNSZwwRds_Eq1ZBD5aWofofVSvAvY8AJMcgr0kK19Usa1vjEqS568zM1z7afES5buD_5NsnZv8ustn5qGXfAnUWWCUVX6kyY8gRbOXpfxEZkAwNaFAGojMBezBOTwBJl1UZMxQDNevyxlAMB3hxR7bb5D-5k8R3vBi1-Q8Osnli2LU3kY-JPdJaJRLG_jbM8vYqFa7D7qmlzRU1LGChujm048Y9P5MM6aVjEVMO1OLbhGLewJWdbv6kq5ShFHALfAIPmXDA-nHG46bxOd1fX059EBxVbDnLnMmZroGsZuFvbyAZCoYPCbZUpLsKGMrXMFDntO9X2U26rTMIdYbdI7DklFUpgauWHAStM-U6qbzhK3btEz9QrzNcoO7sLFtUUJ7wc8y3CisM8ACci_r5VJp2NHfQVN8uuiGn7TZom-V_1NY_9vNX02KD8WvkafaocxYRhiRvaXQxSsou8cNLxoiNzwEpE09Qt1VmRyWhRG6VtVlnGYFpfP0YUA0kWbr4t2ofgQWYUVgjoU1WaiIyNQ4a7j5cxi340E-uY_e9EeBWMMhUhg0m5oJ5z76eTn5d0m-NAB06ABr3JXSNhS2WIR-lvB7dEieE1GAGODTiyblvBCFPJ7QD_0nV5V2IyZi1x_hJGxg58qg1hQ7QED8L0AwvICyD4t5Ph-1_p473gWfQ3_Z4nlMfWp277krKaQOAwqokbYy0X_PogqGf6OhxF58gv1bq6IeThiZdZSGmLeAigLiWBd_eDpEOQz9coeROyBafSjWJ6l-Z6VjsajIt8c5_-Vpv3fzYw54IOF6bRYOAaJC7NAD3MQV2BFC7wBsfMNlJXBSzjC89ynZ48ruzFXpunG8WH6LJevdNyWNK0JSuSmOaEla5zhKOVDk32ZpZgyusC8V3dLJWQtuXnDHqM1c3xZ9t0ujj72dcP7Yix73aOijwKyQrByrT-wqYA-HyjkWE2n9NbtcNM0Z4h1YBlR_atjUA0CYtrtYNPAz9Sf2DdSVHA9h_upQbcHYzRUUdPbQdOZnxoyq6myCtSC1QM6gDhFMqrWW5DdnmW3t5p3mAxCV0OcgMjyosiCkiQw7FHD_-V1xJa135M0NJ9tzy6xYKMrqMitRUkp2A5wpH2pR4reDVF9NcJIdrYxiU9H-PY4XpjedX_whUCjOfxII4_zCKlsBtC-VMzrmasJ8wJDcvHDpU4CA7u6Khp-kuUhVqm7uw1Th589topWguvL0XiHaU9danUBPvboLnIA1edC3mbk5DlqsXxPrtWEJKDmDxZ8mZzkndeBkCGjJoEOqWKxb_bVUIZNspKGksLSk-MsUkI5SDG6syvJDGt8cGCAYk2TsPyUc0hQTph4Ex2l9xOo6PeWX5i1icvyEkPGlaU5pH1ciGg3pkSjmdOGz4MP-AiAat6juA4CVay_LR-Ii5a3LYEGBUIO4zOPMtIPFQdy9Z-e_lcK0mVQZvJbSys9rEtaDO9HWU5bMkK4RHgC4zhZUYefyiKhPYgHcpNDGs3CFTPzUlE3SJA8xna9gFIegMoQZ5dL1S2_tBTgad4F0DZCiloPiIHadLhkJFfi_FNjp3gaS385vIR2nPkuGKVt7KrIackWJl6cSKVT9YbYlbCOlyymRMx36n2rlT4FgVWFKUqkCfApXFGuNhKaum-ymYvIqDD3WLcjAdqS2QD2TauQ\",cRq: {ru: \\'aHR0cHM6Ly93d3cuY29uZ3Jlc3MuZ292L2JpbGwvMTE4dGgtY29uZ3Jlc3Mvc2VuYXRlLWJpbGwvNDc1L3RleHQ/Zm9ybWF0PXhtbA==\\',ra: \\'cHl0aG9uLXJlcXVlc3RzLzIuMzEuMA==\\',rm: \\'R0VU\\',d: \\'QMxT/N3oOl7Co1oMvRMG2gL2VzvEodmfjwX+PkpZDLuGsRj3FCh1ZI2KV5mHbbAJrGYRPb64xu+QEEzgkZT9VJ9aRjhDZgzaskfdG0aFrSJuzgmSgjLrLGJymMug1rVIgnmIPigI4nLJNC/vdD/1woxMj4zMQlTfua1cA3KwZ9KK75Jhe93KmDcNK3aeNORtIniPRco8Yz0XSVvV3cGhpOv3CCgcQC+tQ2/H4HEgc3iLNGuSA/CkIIeLkLF6fgDD9enTFYH9hMtmQSpAs9U8mKoYSxRolrtlZ0uOFdsmdPRBKEmD5kYGGb9XHmErdYV9s/EHuMySO40k7jcy+U33F9OvXGDg9GrnaD+BLkaWORLYoacGrVYIAYQa3OWpcs+yVgEV/ZVwo2w/gF0trZKBTxsA6mlYH9cTUmn77yuH1rVxDarnLRjoZz7I4pWTkReQ5pPT8qcCEMej9bhq9hMS+9Jf61J+07IpS/jiyd3aQXzRbrYFngQh+vU4aRQ/OMQ+fG2cvldwB7O6BhzYKysfeU9AWkqiAikW6N2YyDAYhSk=\\',t: \\'MTY5NTQxMjI2MC40MjAwMDA=\\',cT: Math.floor(Date.now() / 1000),m: \\'HvZBH9A8wwyyGh8inM8JpUxcbCqd8OqqJSDzr8tybNI=\\',i1: \\'u+Ka6rvelEFoQAJANkvdlQ==\\',i2: \\'l9Bq9M5QRsM5TT//DrBuGA==\\',zh: \\'P/37dfGD+KUZFm0qKuE3N/q0gn3BGPttWTswwTYBAD8=\\',uh: \\'YE9XOpG5TeHmhA1zfs5mxC8CrRZzq2a/+r+OU7dliYQ=\\',hh: \\'cTbG2zct7/9cr7abEWSg59sInRszec2mTWq3jspVNx4=\\',}};var cpo = document.createElement(\\'script\\');cpo.src = \\'/cdn-cgi/challenge-platform/h/g/orchestrate/chl_page/v1?ray=80ad1483996b0cbd\\';window._cf_chl_opt.cOgUHash = location.hash === \\'\\' && location.href.indexOf(\\'#\\') !== -1 ? \\'#\\' : location.hash;window._cf_chl_opt.cOgUQuery = location.search === \\'\\' && location.href.slice(0, location.href.length - window._cf_chl_opt.cOgUHash.length).indexOf(\\'?\\') !== -1 ? \\'?\\' : location.search;if (window.history && window.history.replaceState) {var ogU = location.pathname + window._cf_chl_opt.cOgUQuery + window._cf_chl_opt.cOgUHash;history.replaceState(null, null, \"\\\\/bill\\\\/118th-congress\\\\/senate-bill\\\\/475\\\\/text?format=xml&__cf_chl_rt_tk=qGozX5RWIkbx9Vtglc6.hfpRCmNLsWJ5tE0x8H2whUU-1695412260-0-gaNycGzNCpA\" + window._cf_chl_opt.cOgUHash);cpo.onload = function() {history.replaceState(null, null, ogU);}}document.getElementsByTagName(\\'head\\')[0].appendChild(cpo);}());</script></body></html>'"
      ]
     },
     "execution_count": 31,
     "metadata": {},
     "output_type": "execute_result"
    }
   ],
   "source": [
    "res.text"
   ]
  },
  {
   "cell_type": "code",
   "execution_count": 27,
   "id": "7efb15f7-e5a8-4773-ae36-e6569c71e43d",
   "metadata": {},
   "outputs": [],
   "source": [
    "r = requests.get(url, headers = headers, cookies=cookies)"
   ]
  },
  {
   "cell_type": "code",
   "execution_count": 24,
   "id": "2b2d1c83-7b02-42cb-b72f-c98507795503",
   "metadata": {},
   "outputs": [],
   "source": [
    "mysoup = BeautifulSoup(r.text, 'html.parser')"
   ]
  },
  {
   "cell_type": "code",
   "execution_count": 10,
   "id": "1bc98d94-374c-4dba-87ba-60d95f5d9c77",
   "metadata": {},
   "outputs": [
    {
     "data": {
      "text/plain": [
       "[]"
      ]
     },
     "execution_count": 10,
     "metadata": {},
     "output_type": "execute_result"
    }
   ],
   "source": [
    "mysoup.find_all('pre')"
   ]
  },
  {
   "cell_type": "code",
   "execution_count": 17,
   "id": "a38bb991-6c82-4ce9-b4a8-08b39ade7722",
   "metadata": {},
   "outputs": [
    {
     "data": {
      "text/plain": [
       "'https://www.congress.gov/bill/118th-congress/senate-bill/475/text?format=xml'"
      ]
     },
     "execution_count": 17,
     "metadata": {},
     "output_type": "execute_result"
    }
   ],
   "source": [
    "r.url"
   ]
  },
  {
   "cell_type": "code",
   "execution_count": 28,
   "id": "52bcf6a8-7f79-4fe8-a685-5076a3066537",
   "metadata": {},
   "outputs": [
    {
     "data": {
      "text/plain": [
       "<!DOCTYPE html>\n",
       "<html lang=\"en-US\"><head><title>Just a moment...</title><meta content=\"text/html; charset=utf-8\" http-equiv=\"Content-Type\"/><meta content=\"IE=Edge\" http-equiv=\"X-UA-Compatible\"/><meta content=\"noindex,nofollow\" name=\"robots\"/><meta content=\"width=device-width,initial-scale=1\" name=\"viewport\"/><link href=\"/cdn-cgi/styles/challenges.css\" rel=\"stylesheet\"/></head><body class=\"no-js\"><div class=\"main-wrapper\" role=\"main\"><div class=\"main-content\"><noscript><div id=\"challenge-error-title\"><div class=\"h2\"><span class=\"icon-wrapper\"><div class=\"heading-icon warning-icon\"></div></span><span id=\"challenge-error-text\">Enable JavaScript and cookies to continue</span></div></div></noscript></div></div><script>(function(){window._cf_chl_opt={cvId: '2',cZone: \"www.congress.gov\",cType: 'managed',cNounce: '46633',cRay: '80ad0c46f8c14346',cHash: 'ef964fd09d68b13',cUPMDTk: \"\\/bill\\/118th-congress\\/senate-bill\\/475\\/text?format=xml&__cf_chl_tk=b7iu9NSEPmQnSiwTMFHMPVgfY7PbI5aZXhQT79Id7as-1695411923-0-gaNycGzNCyU\",cFPWv: 'g',cTTimeMs: '1000',cMTimeMs: '0',cTplV: 5,cTplB: 'cf',cK: \"visitor-time\",fa: \"\\/bill\\/118th-congress\\/senate-bill\\/475\\/text?format=xml&__cf_chl_f_tk=b7iu9NSEPmQnSiwTMFHMPVgfY7PbI5aZXhQT79Id7as-1695411923-0-gaNycGzNCyU\",md: \"zfuOKzbI_uaDtW6glV7HflMpkZZTa4F5hd85r7Pgw0Q-1695411923-0-AeCdr3brSAp8LexaIN9Do5mrfVOifmjbztr-8k6d4a0A3TYmp0uB84V6q1IW-ncl4CAis55U3iGl60CcL9f6Rd6_LrxKEwTjpVOk0SqJmNLv32hjJy6DXnSahPQKa4NiccYoMyBLI9BmNfQQd1Cv3dA6cTCRyPGaJP6vBkl1GYRUFktyWPMy_8VFt8oF3Cz7CEU72QsdJFh-p-J52oYY2EfCPbEZFUU_ab3jqKT_PONZeFwLcHOexHMQxXGcS6Ck1A37nfwo2sHkkOSMjjFM5C9nAysL2cV-jgDKQwdYJtJYvIe65Uu3C040ClZV7cnuGQBX7BoO5H5MV1eTJ4Qyzl_Npg41ojsynP_tTqhXTg8ILYNsrFu1BAq2RGwmvyHxjUKXrr6QmR0yYbmGljhnqXjrxBVDGaY2-2JmY2yit7S2UfiBvmUm4F4xjXAp2sGtSA0dTRq0Mj_Sg6555wnjd3CgTaOUfqB8ZJ4eKVDH9uYtBgfFYj7mlctTcw1JdAFB7gTLSWBVTdR5nmEZ2jbePwF3wM8ouEu7uypmcuoR7AmV1ro1q0WGqKTZPX5hythjhvWFoBpoFQQhpEr_ziZDERKi5dlzdeykaoLQVFtTrzYbAbDcy3pdeIkb0dHwaJimaBf_y3NzyXpIRbAON2mTOI0c9DH_z6ZvD8AJo1TrD7JWTbRzbjlR59bsW2JB-AO3GoGdkVFq82-oSi8qutc7z9HtDZiDYMYmFGnpJJW2_rlE-UG_vcvBuGLjpBHV7Nl01UZcJR-Xaw_IfHWQZ2_NvebSO0cQhh0bm55IdmTZ6tSyqPMNGPQLVt1SIeUnTAL_YkGrOq2nuanrYzYtHDhAE22RugtRk8umZfdKU5d659wE31522v330zvqld-Og0A6vNm5xwCtrcA2whJyTCBnfXYMD72g5dW7ne1fW3-FJbrmjfe-LmBR8thtaHAjd9n_oSFSV1IhuI1AvUjyH_HWso-YRtR060GgejvHYx-CO-eFH2aOT3DzRc7qCPPff8ZjPkYwq02h5lt2mLoY2_-FYtPl5WFFHXjbiQGc82lhvsYlcOUBZd6nx-v0Pg5yiY0mjbFHwUeqmCZmkm3qLEqO-_noHNniCtvX13BAh0l4pQLd5yvTjyj_Vpz2848_JAQMtnJOAxQ5aXx_4VJf2_mT2fYsMJcNa0Szu37UWbsEHVH96nd8pPkPAPSpGAk6fR3za3uJebjeJ22XGcryaVAl0fGXRpYntaRtdZlOo8m-2ppiRipCG2dHrmN5_yKo4KiJ1COPcYGfyL-tzORJAfZTpq6my72vqrAhYIoYaF9kD9E4Fo6Fik8I0vYv_PA9vOcv58CXyEbvBJt9aU-lshsX2WnnrqNl4Vq3tNc_4U7wSFJnU4wBv8MQUm9Y1UuTsmGnHbm54_wTUkUa0DzmWXcWJFulaoMBZrUkmLepx8E8gNBogMGb_0cI7_n-EJH0dpJ3LuO0yeNiU5bN3hpjDvczltYEGHBjseNY0tIBgrYUmbqH92Eh0zaQ82yvlXI1iogEXdpKLI4rU5b_MtdKLEpMsi_FpfVXRInrjrzHdslAagrG1gQ7mZY83S0RtqDTwGT37w9Zr1__e6PEELiR78xVRMphGlgcNM9xbwAb5GGPcT2OF-MoFoUN1ISm9LWA9QerN_wMFjKcfs0n396gAbwiJ76wY7tMTILHIN1WW8ohq8TeX0FIeVa7bfav__GADYqEEsoh5QM8NySJgCA43sw8cGylNn3f5-H2WTrykQvlxc8YIaMj-A5fJy2ZlZgu8VfGNTifUqNQnFwLaQzgCY3Fcc17ajzgVpN3kvyJGv6PIIXjXDykJsOnOdEqas05ASEqenSgwBpNGg2Bx7wmfvKYk8oGou55CeCWi7pj2NYKfpd7Ibcw5SOwYPtkkz2zJ1NNNgCvgMyXGj0pp8kdBClf_At1lys7JuD1NGoF33UoEQq4fPUPFOzS_74bdYqUWmmwMR1fYyWIAmeUCvCOJqCI8WWvm_TXqzJwxUC2VK3DA29-rA4xTEDCjH8JD6FUIk-fv1dI5ScI55TQMk-crgYQ0rQiwf6bEdDx7z3NQz3OgOjDYkTe2qXDeYOtgN8_fkbefvotLDe36EWycwf3I31htt7Xh6eGQz7TMJAO4x7dTJHtuz1bvgGaUz8TjwEjkjbzjPTmbqzYuWhoZ9OlFinbzbCHkmvQiXLYF4hXnWwnXzEoFSROlDeIq56pbICiwxDMo5qxFpxp9U42gmp-1I6O_d9B70yUjik1GiMOKBaITFSsvDLfVizJDzW9YBCYmDSKza6fv_dV4m3XjtCSJ9pW60vK3EgToRrWFqevOo0AOF9Wj6GJ2Zv2buOx2u_UaD1ajjx5y_l64SA39ru1yYFCvufmxNtSe9gN2ERvq9zDfVy7Ve8ATAtbwjRNecCSY4OhyYrRopUnMOoGcw_FejJ0Q2UoEqaDgDBx8d1yXdLvyo0O2XQ7s2eiYE7_f0U3EnQJgq202cPdManslhA2muCAXSwbpBoZMy308CYAxCk-WKqiVC4uE4b237kHWTyrCTNeGCm_ymd8UDSdN-_8qWpocM2iIwLjxme9hMStmIGv-Vh6qttoU_x5U-QOJPg8eNx_bloR7I9WS9sHhmLEqikrPid31KVEHKvbDnBCUpE_ueOUl3emSWxrGTXLOoHEpCKnOO1nFtV6fLWKV4SI6LXUMW81svJXe5C8acVEHtiF4oItmND72fXn7IpK_SMDeGH8S8BQH6TYjqHxw-iH4vJWrt0rTfHwvpV34mDFV1rl73p6\",cRq: {ru: 'aHR0cHM6Ly93d3cuY29uZ3Jlc3MuZ292L2JpbGwvMTE4dGgtY29uZ3Jlc3Mvc2VuYXRlLWJpbGwvNDc1L3RleHQ/Zm9ybWF0PXhtbA==',ra: 'TW96aWxsYS81LjAgKE1hY2ludG9zaDsgSW50ZWwgTWFjIE9TIFggMTBfMTVfNykgQXBwbGVXZWJLaXQvNTM3LjM2IChLSFRNTCwgbGlrZSBHZWNrbykgQ2hyb21lLzExNy4wLjAuMCBTYWZhcmkvNTM3LjM2',rm: 'R0VU',d: 'mdvs741iJWQSoJNqQ6mmjIsJnqQAlUuyeBzAoLhy7cAz/WiZw5SIQpBNIZRYpcbzCnxrRgzgkHxXKQWSR9hbdUwdYo4QYD8i0jdmEwUP8JQjUOg4NJ5YkCmBwmnSg0ONr8b5+O6RGz5ga02kUS1svw5ak9KyTqe9jBQhpxXOfmIN25kxjVUICgkW7NWSeJCZjniyP+dFzmkMOhMNCdv6pPSCvdDZWIU505dd3EJRJGpcVVh5QA/bjpC11SdeaQhEr1n0ZKVOqRNDM2OPHUqCQ6LossuM2w2p53W+/K85WNNIJbwiIiUEtxkbEmh41XYV0lL3VcdLePVyN7uTbsImjyP1wLge/146Ikp9avmqElgFMqZdnU6OkwZ8BsQKYtIXwr0nxZLmP8KmrkB9Cgyzys1UnUMt9XjdvS4flBkrcsoilcdV25IC/l9wKWzxpkPWtTRheglfkbgxO73X3LCFMioTovvMk2tthfB6vSu6v+o9UoPJA4w5u+tk1r2FgnXkPV5ch9zB/EyhcsT80f2VkHG63P59m9h2VUqsz5bl2JI=',t: 'MTY5NTQxMTkyMy4wMzcwMDA=',cT: Math.floor(Date.now() / 1000),m: 'ETQBdsy+Darp5mslwnt5iAPoQMIhu01biOXASiIh5F4=',i1: 'qYJBdLzNQLDJ8+6B14uoMQ==',i2: 'tMRnebQXPxRGUtnH1PFMPA==',zh: 'P/37dfGD+KUZFm0qKuE3N/q0gn3BGPttWTswwTYBAD8=',uh: 'tZzwk0UXBB6aZMwUSrybzD1mMJwGI/1CIIfoh4RzeeI=',hh: 'cTbG2zct7/9cr7abEWSg59sInRszec2mTWq3jspVNx4=',}};var cpo = document.createElement('script');cpo.src = '/cdn-cgi/challenge-platform/h/g/orchestrate/chl_page/v1?ray=80ad0c46f8c14346';window._cf_chl_opt.cOgUHash = location.hash === '' && location.href.indexOf('#') !== -1 ? '#' : location.hash;window._cf_chl_opt.cOgUQuery = location.search === '' && location.href.slice(0, location.href.length - window._cf_chl_opt.cOgUHash.length).indexOf('?') !== -1 ? '?' : location.search;if (window.history && window.history.replaceState) {var ogU = location.pathname + window._cf_chl_opt.cOgUQuery + window._cf_chl_opt.cOgUHash;history.replaceState(null, null, \"\\/bill\\/118th-congress\\/senate-bill\\/475\\/text?format=xml&__cf_chl_rt_tk=b7iu9NSEPmQnSiwTMFHMPVgfY7PbI5aZXhQT79Id7as-1695411923-0-gaNycGzNCyU\" + window._cf_chl_opt.cOgUHash);cpo.onload = function() {history.replaceState(null, null, ogU);}}document.getElementsByTagName('head')[0].appendChild(cpo);}());</script></body></html>"
      ]
     },
     "execution_count": 28,
     "metadata": {},
     "output_type": "execute_result"
    }
   ],
   "source": [
    "mysoup"
   ]
  },
  {
   "cell_type": "code",
   "execution_count": null,
   "id": "80e7efe6-edff-4540-a710-fb1a7793a1f5",
   "metadata": {},
   "outputs": [],
   "source": []
  }
 ],
 "metadata": {
  "kernelspec": {
   "display_name": "Python 3 (ipykernel)",
   "language": "python",
   "name": "python3"
  },
  "language_info": {
   "codemirror_mode": {
    "name": "ipython",
    "version": 3
   },
   "file_extension": ".py",
   "mimetype": "text/x-python",
   "name": "python",
   "nbconvert_exporter": "python",
   "pygments_lexer": "ipython3",
   "version": "3.11.4"
  }
 },
 "nbformat": 4,
 "nbformat_minor": 5
}
