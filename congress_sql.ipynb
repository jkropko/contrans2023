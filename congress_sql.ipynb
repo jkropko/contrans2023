{
 "cells": [
  {
   "cell_type": "code",
   "execution_count": 1,
   "id": "b3456621-4020-4865-8e35-3a80a6723395",
   "metadata": {},
   "outputs": [],
   "source": [
    "import numpy as np\n",
    "import pandas as pd\n",
    "import os\n",
    "POSTGRES_PASSWORD = os.getenv('POSTGRES_PASSWORD')\n",
    "import psycopg2\n",
    "from sqlalchemy import create_engine"
   ]
  },
  {
   "cell_type": "code",
   "execution_count": 2,
   "id": "196e4684-ad29-4165-bd30-141db0c2f29e",
   "metadata": {},
   "outputs": [],
   "source": [
    "engine = create_engine('postgresql+psycopg2://{user}:{password}@{host}:{port}/{db}'.format(\n",
    "    user = 'postgres',\n",
    "    password = POSTGRES_PASSWORD,\n",
    "    host = 'postgres',\n",
    "    port = 5432,\n",
    "    db = 'congress'\n",
    "))"
   ]
  },
  {
   "cell_type": "code",
   "execution_count": 4,
   "id": "fa0d797e-6c5d-45dc-ba96-b767228f3ed4",
   "metadata": {},
   "outputs": [
    {
     "data": {
      "text/plain": [
       "bioguideid                           object\n",
       "birthyear                             int64\n",
       "currentmember                          bool\n",
       "directordername                      object\n",
       "firstname                            object\n",
       "honorificname                        object\n",
       "invertedordername                    object\n",
       "lastname                             object\n",
       "officialwebsiteurl                   object\n",
       "state                                object\n",
       "updatedate                           object\n",
       "addressinformation_city              object\n",
       "addressinformation_district          object\n",
       "addressinformation_officeaddress     object\n",
       "addressinformation_phonenumber       object\n",
       "addressinformation_zipcode            int64\n",
       "cosponsoredlegislation_count          int64\n",
       "cosponsoredlegislation_url           object\n",
       "depiction_attribution                object\n",
       "depiction_imageurl                   object\n",
       "sponsoredlegislation_count          float64\n",
       "sponsoredlegislation_url             object\n",
       "middlename                           object\n",
       "suffixname                           object\n",
       "nickname                             object\n",
       "district                            float64\n",
       "cid                                  object\n",
       "party                                object\n",
       "dtype: object"
      ]
     },
     "execution_count": 4,
     "metadata": {},
     "output_type": "execute_result"
    }
   ],
   "source": [
    "myquery = '''\n",
    "SELECT *\n",
    "FROM members\n",
    "'''\n",
    "pd.read_sql_query(myquery, con=engine).dtypes"
   ]
  },
  {
   "cell_type": "code",
   "execution_count": null,
   "id": "a4cefdaa-be6a-42b0-9e99-5e09d417bcee",
   "metadata": {},
   "outputs": [],
   "source": []
  }
 ],
 "metadata": {
  "kernelspec": {
   "display_name": "Python 3 (ipykernel)",
   "language": "python",
   "name": "python3"
  },
  "language_info": {
   "codemirror_mode": {
    "name": "ipython",
    "version": 3
   },
   "file_extension": ".py",
   "mimetype": "text/x-python",
   "name": "python",
   "nbconvert_exporter": "python",
   "pygments_lexer": "ipython3",
   "version": "3.11.4"
  }
 },
 "nbformat": 4,
 "nbformat_minor": 5
}
